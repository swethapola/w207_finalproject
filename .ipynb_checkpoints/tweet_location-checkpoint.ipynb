{
 "cells": [
  {
   "cell_type": "code",
   "execution_count": 1,
   "metadata": {},
   "outputs": [],
   "source": [
    "import pandas as pd\n",
    "import numpy as np\n",
    "import os\n",
    "import h5py"
   ]
  },
  {
   "cell_type": "code",
   "execution_count": 2,
   "metadata": {},
   "outputs": [
    {
     "name": "stdout",
     "output_type": "stream",
     "text": [
      "Requirement already satisfied: geopandas in /Users/katiecason/opt/anaconda3/lib/python3.8/site-packages (0.8.1)\n",
      "Requirement already satisfied: pandas>=0.23.0 in /Users/katiecason/opt/anaconda3/lib/python3.8/site-packages (from geopandas) (1.1.4)\n",
      "Requirement already satisfied: shapely in /Users/katiecason/opt/anaconda3/lib/python3.8/site-packages (from geopandas) (1.7.1)\n",
      "Requirement already satisfied: fiona in /Users/katiecason/opt/anaconda3/lib/python3.8/site-packages (from geopandas) (1.8.18)\n",
      "Requirement already satisfied: pyproj>=2.2.0 in /Users/katiecason/opt/anaconda3/lib/python3.8/site-packages (from geopandas) (3.0.0.post1)\n",
      "Requirement already satisfied: python-dateutil>=2.7.3 in /Users/katiecason/opt/anaconda3/lib/python3.8/site-packages (from pandas>=0.23.0->geopandas) (2.8.1)\n",
      "Requirement already satisfied: pytz>=2017.2 in /Users/katiecason/opt/anaconda3/lib/python3.8/site-packages (from pandas>=0.23.0->geopandas) (2020.1)\n",
      "Requirement already satisfied: numpy>=1.15.4 in /Users/katiecason/opt/anaconda3/lib/python3.8/site-packages (from pandas>=0.23.0->geopandas) (1.19.4)\n",
      "Requirement already satisfied: attrs>=17 in /Users/katiecason/opt/anaconda3/lib/python3.8/site-packages (from fiona->geopandas) (19.3.0)\n",
      "Requirement already satisfied: six>=1.7 in /Users/katiecason/opt/anaconda3/lib/python3.8/site-packages (from fiona->geopandas) (1.15.0)\n",
      "Requirement already satisfied: click<8,>=4.0 in /Users/katiecason/opt/anaconda3/lib/python3.8/site-packages (from fiona->geopandas) (7.1.2)\n",
      "Requirement already satisfied: certifi in /Users/katiecason/opt/anaconda3/lib/python3.8/site-packages (from fiona->geopandas) (2020.6.20)\n",
      "Requirement already satisfied: cligj>=0.5 in /Users/katiecason/opt/anaconda3/lib/python3.8/site-packages (from fiona->geopandas) (0.7.1)\n",
      "Requirement already satisfied: munch in /Users/katiecason/opt/anaconda3/lib/python3.8/site-packages (from fiona->geopandas) (2.5.0)\n",
      "Requirement already satisfied: click-plugins>=1.0 in /Users/katiecason/opt/anaconda3/lib/python3.8/site-packages (from fiona->geopandas) (1.1.1)\n",
      "Note: you may need to restart the kernel to use updated packages.\n"
     ]
    }
   ],
   "source": [
    "pip install geopandas"
   ]
  },
  {
   "cell_type": "code",
   "execution_count": 3,
   "metadata": {},
   "outputs": [
    {
     "name": "stdout",
     "output_type": "stream",
     "text": [
      "Requirement already satisfied: osmnx in /Users/katiecason/opt/anaconda3/lib/python3.8/site-packages (0.16.2)\n",
      "Requirement already satisfied: networkx>=2.5 in /Users/katiecason/opt/anaconda3/lib/python3.8/site-packages (from osmnx) (2.5)\n",
      "Requirement already satisfied: Rtree>=0.9 in /Users/katiecason/opt/anaconda3/lib/python3.8/site-packages (from osmnx) (0.9.4)\n",
      "Requirement already satisfied: matplotlib>=3.3 in /Users/katiecason/opt/anaconda3/lib/python3.8/site-packages (from osmnx) (3.3.3)\n",
      "Requirement already satisfied: numpy>=1.19 in /Users/katiecason/opt/anaconda3/lib/python3.8/site-packages (from osmnx) (1.19.4)\n",
      "Requirement already satisfied: pyproj>=2.6 in /Users/katiecason/opt/anaconda3/lib/python3.8/site-packages (from osmnx) (3.0.0.post1)\n",
      "Requirement already satisfied: Shapely>=1.7 in /Users/katiecason/opt/anaconda3/lib/python3.8/site-packages (from osmnx) (1.7.1)\n",
      "Requirement already satisfied: geopandas>=0.8 in /Users/katiecason/opt/anaconda3/lib/python3.8/site-packages (from osmnx) (0.8.1)\n",
      "Requirement already satisfied: descartes>=1.1 in /Users/katiecason/opt/anaconda3/lib/python3.8/site-packages (from osmnx) (1.1.0)\n",
      "Requirement already satisfied: pandas>=1.1 in /Users/katiecason/opt/anaconda3/lib/python3.8/site-packages (from osmnx) (1.1.4)\n",
      "Requirement already satisfied: requests>=2.24 in /Users/katiecason/opt/anaconda3/lib/python3.8/site-packages (from osmnx) (2.24.0)\n",
      "Requirement already satisfied: decorator>=4.3.0 in /Users/katiecason/opt/anaconda3/lib/python3.8/site-packages (from networkx>=2.5->osmnx) (4.4.2)\n",
      "Requirement already satisfied: setuptools in /Users/katiecason/opt/anaconda3/lib/python3.8/site-packages (from Rtree>=0.9->osmnx) (49.2.0.post20200714)\n",
      "Requirement already satisfied: python-dateutil>=2.1 in /Users/katiecason/opt/anaconda3/lib/python3.8/site-packages (from matplotlib>=3.3->osmnx) (2.8.1)\n",
      "Requirement already satisfied: pyparsing!=2.0.4,!=2.1.2,!=2.1.6,>=2.0.3 in /Users/katiecason/opt/anaconda3/lib/python3.8/site-packages (from matplotlib>=3.3->osmnx) (2.4.7)\n",
      "Requirement already satisfied: cycler>=0.10 in /Users/katiecason/opt/anaconda3/lib/python3.8/site-packages (from matplotlib>=3.3->osmnx) (0.10.0)\n",
      "Requirement already satisfied: kiwisolver>=1.0.1 in /Users/katiecason/opt/anaconda3/lib/python3.8/site-packages (from matplotlib>=3.3->osmnx) (1.2.0)\n",
      "Requirement already satisfied: pillow>=6.2.0 in /Users/katiecason/opt/anaconda3/lib/python3.8/site-packages (from matplotlib>=3.3->osmnx) (7.2.0)\n",
      "Requirement already satisfied: certifi in /Users/katiecason/opt/anaconda3/lib/python3.8/site-packages (from pyproj>=2.6->osmnx) (2020.6.20)\n",
      "Requirement already satisfied: fiona in /Users/katiecason/opt/anaconda3/lib/python3.8/site-packages (from geopandas>=0.8->osmnx) (1.8.18)\n",
      "Requirement already satisfied: pytz>=2017.2 in /Users/katiecason/opt/anaconda3/lib/python3.8/site-packages (from pandas>=1.1->osmnx) (2020.1)\n",
      "Requirement already satisfied: urllib3!=1.25.0,!=1.25.1,<1.26,>=1.21.1 in /Users/katiecason/opt/anaconda3/lib/python3.8/site-packages (from requests>=2.24->osmnx) (1.25.9)\n",
      "Requirement already satisfied: idna<3,>=2.5 in /Users/katiecason/opt/anaconda3/lib/python3.8/site-packages (from requests>=2.24->osmnx) (2.10)\n",
      "Requirement already satisfied: chardet<4,>=3.0.2 in /Users/katiecason/opt/anaconda3/lib/python3.8/site-packages (from requests>=2.24->osmnx) (3.0.4)\n",
      "Requirement already satisfied: six>=1.5 in /Users/katiecason/opt/anaconda3/lib/python3.8/site-packages (from python-dateutil>=2.1->matplotlib>=3.3->osmnx) (1.15.0)\n",
      "Requirement already satisfied: munch in /Users/katiecason/opt/anaconda3/lib/python3.8/site-packages (from fiona->geopandas>=0.8->osmnx) (2.5.0)\n",
      "Requirement already satisfied: click-plugins>=1.0 in /Users/katiecason/opt/anaconda3/lib/python3.8/site-packages (from fiona->geopandas>=0.8->osmnx) (1.1.1)\n",
      "Requirement already satisfied: click<8,>=4.0 in /Users/katiecason/opt/anaconda3/lib/python3.8/site-packages (from fiona->geopandas>=0.8->osmnx) (7.1.2)\n",
      "Requirement already satisfied: cligj>=0.5 in /Users/katiecason/opt/anaconda3/lib/python3.8/site-packages (from fiona->geopandas>=0.8->osmnx) (0.7.1)\n",
      "Requirement already satisfied: attrs>=17 in /Users/katiecason/opt/anaconda3/lib/python3.8/site-packages (from fiona->geopandas>=0.8->osmnx) (19.3.0)\n",
      "Note: you may need to restart the kernel to use updated packages.\n"
     ]
    }
   ],
   "source": [
    "pip install osmnx"
   ]
  },
  {
   "cell_type": "code",
   "execution_count": 4,
   "metadata": {},
   "outputs": [],
   "source": [
    "# geography\n",
    "import geopandas as gpd\n",
    "import osmnx as ox\n",
    "import csv"
   ]
  },
  {
   "cell_type": "code",
   "execution_count": 45,
   "metadata": {},
   "outputs": [],
   "source": [
    "df = pd.read_csv('/Users/katiecason/Desktop/207_folder/w207_finalproject/data/tweets_csv/april1_april2.csv')"
   ]
  },
  {
   "cell_type": "code",
   "execution_count": 6,
   "metadata": {},
   "outputs": [],
   "source": [
    "# trying to check if user_locations that contain los (usually los angeles) have coordinates to match\n",
    "\n",
    "#df_1 = df[df['user_location'].notna()]\n",
    "#df_1[df_1['user_location'].str.contains('Los')]"
   ]
  },
  {
   "cell_type": "code",
   "execution_count": 7,
   "metadata": {},
   "outputs": [],
   "source": [
    "#df[df['user_location'].notna()]['user_location'].unique()"
   ]
  },
  {
   "cell_type": "code",
   "execution_count": 8,
   "metadata": {},
   "outputs": [
    {
     "name": "stdout",
     "output_type": "stream",
     "text": [
      "Requirement already satisfied: geopy in /Users/katiecason/opt/anaconda3/lib/python3.8/site-packages (2.0.0)\n",
      "Requirement already satisfied: geographiclib<2,>=1.49 in /Users/katiecason/opt/anaconda3/lib/python3.8/site-packages (from geopy) (1.50)\n",
      "Note: you may need to restart the kernel to use updated packages.\n"
     ]
    }
   ],
   "source": [
    "pip install geopy"
   ]
  },
  {
   "cell_type": "code",
   "execution_count": 9,
   "metadata": {},
   "outputs": [],
   "source": [
    "from geopy.geocoders import Nominatim\n",
    "from geopy.point import Point"
   ]
  },
  {
   "cell_type": "code",
   "execution_count": 10,
   "metadata": {},
   "outputs": [],
   "source": [
    "#for x in range(len(df)):\n",
    "#   geolocator = Nominatim(user_agent='katiecason@berkeley.edu')\n",
    "#    location = geolocator.reverse(df['coordinates'][x])\n",
    "#    print(location.address)\n",
    "\n",
    "\n",
    "#FOR FLORIDA\n",
    "#df = df[df['coordinates'].notna()]\n",
    "#data = df['coordinates'].str.split(',', n=1, expand = True)\n",
    "#df['longitude'] = pd.to_numeric(data[0])\n",
    "#df['latitude'] = pd.to_numeric(data[1])\n",
    "#df = df[(df['latitude']< 31) & (df['latitude']>25.75)]\n",
    "#df = df[(df['longitude']< 86) & (df['longitude']>80)]"
   ]
  },
  {
   "cell_type": "code",
   "execution_count": 46,
   "metadata": {},
   "outputs": [],
   "source": [
    "#manually filtering latitude and longitude to find locations\n",
    "\n",
    "df = df[df['coordinates'].notna()]\n",
    "data = df['coordinates'].str.split(',', n=1, expand = True)\n",
    "df['longitude'] = data[0]\n",
    "df['latitude'] = data[1]\n",
    "df['coordinates'] = df[['latitude', 'longitude']].apply(lambda x: ','.join(x), axis=1)"
   ]
  },
  {
   "cell_type": "code",
   "execution_count": 12,
   "metadata": {},
   "outputs": [],
   "source": [
    "#geolocator = Nominatim(user_agent='katiecason@berkeley.edu')\n",
    "#location = geolocator.reverse(df['coordinates'][68])\n",
    "#address = location.raw['address']\n",
    "#county = address.get('county', '')\n",
    "#print(county)"
   ]
  },
  {
   "cell_type": "code",
   "execution_count": 13,
   "metadata": {},
   "outputs": [
    {
     "data": {
      "text/plain": [
       "'Los Angeles County'"
      ]
     },
     "execution_count": 13,
     "metadata": {},
     "output_type": "execute_result"
    }
   ],
   "source": [
    "#geolocator = Nominatim(user_agent='katiecason@berkeley.edu')\n",
    "#location = geolocator.reverse(df['coordinates'][68], exactly_one = True)\n",
    "#address = location.raw['address']\n",
    "#county = address.get('county', '')\n",
    "#county"
   ]
  },
  {
   "cell_type": "code",
   "execution_count": null,
   "metadata": {},
   "outputs": [],
   "source": [
    "#counties = []\n",
    "#for x in range(len(df)):\n",
    "#    geolocator = Nominatim(user_agent='katiecason@berkeley.edu')\n",
    "#    location = geolocator.reverse(df['coordinates'][x])\n",
    "#    address = location.raw['address']\n",
    "#    county = address.get('county', '')\n",
    "#    counties.append(county)"
   ]
  },
  {
   "cell_type": "code",
   "execution_count": 14,
   "metadata": {},
   "outputs": [
    {
     "data": {
      "text/plain": [
       "0      (The Bing Restaurant, Kilimani Road, Kilimani,...\n",
       "1      (202 - Business Center, 202, Route de Luxembou...\n",
       "2      (227, High Street, Mole Valley, Surrey, South ...\n",
       "3      (144, Pearl Street, Spadina—Fort York, Old Tor...\n",
       "4      (Malta, Prijevor, Opština Herceg Novi, Crna Go...\n",
       "                             ...                        \n",
       "586    (Dasaragadem, Varandsivandlapalle, Rompicherla...\n",
       "587    (Church Street, Newcastle Ward 4, Newcastle Lo...\n",
       "588    (Dar Imlil, P2030, Talate n Chaoute ⵜⴰⵍⴰⵜ ⵏ ⵛⴰ...\n",
       "589    (EMS Stadium, Rajaji Road, Thiruthiyad, Kozhik...\n",
       "590    (Song Teo, 4169, หน้าทอน, จังหวัดสุราษฎร์ธานี,...\n",
       "Name: coordinates, Length: 591, dtype: object"
      ]
     },
     "execution_count": 14,
     "metadata": {},
     "output_type": "execute_result"
    }
   ],
   "source": [
    "geolocator = Nominatim(user_agent='katiecason@berkeley.edu')\n",
    "location = df['coordinates'].apply(lambda x: geolocator.reverse(x))"
   ]
  },
  {
   "cell_type": "code",
   "execution_count": 47,
   "metadata": {},
   "outputs": [],
   "source": [
    "counties = location.apply(lambda x: x.raw['address'].get('county', ''))"
   ]
  },
  {
   "cell_type": "code",
   "execution_count": 48,
   "metadata": {},
   "outputs": [],
   "source": [
    "df['county'] = counties"
   ]
  },
  {
   "cell_type": "code",
   "execution_count": 49,
   "metadata": {},
   "outputs": [
    {
     "data": {
      "text/html": [
       "<div>\n",
       "<style scoped>\n",
       "    .dataframe tbody tr th:only-of-type {\n",
       "        vertical-align: middle;\n",
       "    }\n",
       "\n",
       "    .dataframe tbody tr th {\n",
       "        vertical-align: top;\n",
       "    }\n",
       "\n",
       "    .dataframe thead th {\n",
       "        text-align: right;\n",
       "    }\n",
       "</style>\n",
       "<table border=\"1\" class=\"dataframe\">\n",
       "  <thead>\n",
       "    <tr style=\"text-align: right;\">\n",
       "      <th></th>\n",
       "      <th>coordinates</th>\n",
       "      <th>created_at</th>\n",
       "      <th>hashtags</th>\n",
       "      <th>media</th>\n",
       "      <th>urls</th>\n",
       "      <th>favorite_count</th>\n",
       "      <th>id</th>\n",
       "      <th>in_reply_to_screen_name</th>\n",
       "      <th>in_reply_to_status_id</th>\n",
       "      <th>in_reply_to_user_id</th>\n",
       "      <th>...</th>\n",
       "      <th>user_location</th>\n",
       "      <th>user_name</th>\n",
       "      <th>user_screen_name.1</th>\n",
       "      <th>user_statuses_count</th>\n",
       "      <th>user_time_zone</th>\n",
       "      <th>user_urls</th>\n",
       "      <th>user_verified</th>\n",
       "      <th>longitude</th>\n",
       "      <th>latitude</th>\n",
       "      <th>county</th>\n",
       "    </tr>\n",
       "  </thead>\n",
       "  <tbody>\n",
       "    <tr>\n",
       "      <th>0</th>\n",
       "      <td>-1.29889,36.77943</td>\n",
       "      <td>Wed Apr 01 09:01:18 +0000 2020</td>\n",
       "      <td>corona coronavirus covid stayhome</td>\n",
       "      <td>NaN</td>\n",
       "      <td>https://www.instagram.com/p/B-brG4pFTdp/?igshi...</td>\n",
       "      <td>0</td>\n",
       "      <td>1245275030956544002</td>\n",
       "      <td>NaN</td>\n",
       "      <td>NaN</td>\n",
       "      <td>NaN</td>\n",
       "      <td>...</td>\n",
       "      <td>EAST AFRICA, WORLDWIDE</td>\n",
       "      <td>NDANAH MIQASSA</td>\n",
       "      <td>bandanahmiqassa</td>\n",
       "      <td>23042</td>\n",
       "      <td>NaN</td>\n",
       "      <td>https://youtu.be/0uu8AzxGmeI</td>\n",
       "      <td>False</td>\n",
       "      <td>36.77943</td>\n",
       "      <td>-1.29889</td>\n",
       "      <td></td>\n",
       "    </tr>\n",
       "    <tr>\n",
       "      <th>1</th>\n",
       "      <td>49.64968784,6.12745379</td>\n",
       "      <td>Wed Apr 01 08:17:02 +0000 2020</td>\n",
       "      <td>actufoot football luxembourg</td>\n",
       "      <td>NaN</td>\n",
       "      <td>http://dlvr.it/RSy1bQ</td>\n",
       "      <td>0</td>\n",
       "      <td>1245263893682769921</td>\n",
       "      <td>NaN</td>\n",
       "      <td>NaN</td>\n",
       "      <td>NaN</td>\n",
       "      <td>...</td>\n",
       "      <td>Luxembourg</td>\n",
       "      <td>FuPa Luxembourg</td>\n",
       "      <td>fupalux</td>\n",
       "      <td>6243</td>\n",
       "      <td>NaN</td>\n",
       "      <td>http://www.fupa.net/luxemburg</td>\n",
       "      <td>False</td>\n",
       "      <td>6.12745379</td>\n",
       "      <td>49.64968784</td>\n",
       "      <td>Canton Luxembourg</td>\n",
       "    </tr>\n",
       "    <tr>\n",
       "      <th>2</th>\n",
       "      <td>51.2334699,-0.32863</td>\n",
       "      <td>Wed Apr 01 09:01:11 +0000 2020</td>\n",
       "      <td>homeschooling stayhome corona</td>\n",
       "      <td>NaN</td>\n",
       "      <td>https://www.instagram.com/p/B-brXf-hhna/?igshi...</td>\n",
       "      <td>0</td>\n",
       "      <td>1245275001563099136</td>\n",
       "      <td>NaN</td>\n",
       "      <td>NaN</td>\n",
       "      <td>NaN</td>\n",
       "      <td>...</td>\n",
       "      <td>NaN</td>\n",
       "      <td>Emilie-Kate Owen</td>\n",
       "      <td>emiliekateowen</td>\n",
       "      <td>236</td>\n",
       "      <td>NaN</td>\n",
       "      <td>NaN</td>\n",
       "      <td>False</td>\n",
       "      <td>-0.32863</td>\n",
       "      <td>51.2334699</td>\n",
       "      <td>Surrey</td>\n",
       "    </tr>\n",
       "    <tr>\n",
       "      <th>3</th>\n",
       "      <td>43.648,-79.3872</td>\n",
       "      <td>Wed Apr 01 10:04:31 +0000 2020</td>\n",
       "      <td>comedian comedy funny</td>\n",
       "      <td>NaN</td>\n",
       "      <td>https://www.instagram.com/p/B-byRhlHij9/?igshi...</td>\n",
       "      <td>0</td>\n",
       "      <td>1245290940148875265</td>\n",
       "      <td>NaN</td>\n",
       "      <td>NaN</td>\n",
       "      <td>NaN</td>\n",
       "      <td>...</td>\n",
       "      <td>Toronto,NewYork,LosAngeles,MIA</td>\n",
       "      <td>KingOfScotia</td>\n",
       "      <td>SoFlyyTizzy902</td>\n",
       "      <td>11637</td>\n",
       "      <td>NaN</td>\n",
       "      <td>NaN</td>\n",
       "      <td>False</td>\n",
       "      <td>-79.3872</td>\n",
       "      <td>43.648</td>\n",
       "      <td></td>\n",
       "    </tr>\n",
       "    <tr>\n",
       "      <th>4</th>\n",
       "      <td>42.4969,18.4503</td>\n",
       "      <td>Wed Apr 01 08:48:05 +0000 2020</td>\n",
       "      <td>stayhome staysafe stayhealthy corona covid cov...</td>\n",
       "      <td>NaN</td>\n",
       "      <td>https://www.instagram.com/p/B-bp3RaIgii/?igshi...</td>\n",
       "      <td>0</td>\n",
       "      <td>1245271705804771328</td>\n",
       "      <td>NaN</td>\n",
       "      <td>NaN</td>\n",
       "      <td>NaN</td>\n",
       "      <td>...</td>\n",
       "      <td>NaN</td>\n",
       "      <td>ellen schepens</td>\n",
       "      <td>ellenschepens</td>\n",
       "      <td>1587</td>\n",
       "      <td>NaN</td>\n",
       "      <td>http://www.ellenschepens.com</td>\n",
       "      <td>False</td>\n",
       "      <td>18.4503</td>\n",
       "      <td>42.4969</td>\n",
       "      <td>Opština Herceg Novi</td>\n",
       "    </tr>\n",
       "    <tr>\n",
       "      <th>...</th>\n",
       "      <td>...</td>\n",
       "      <td>...</td>\n",
       "      <td>...</td>\n",
       "      <td>...</td>\n",
       "      <td>...</td>\n",
       "      <td>...</td>\n",
       "      <td>...</td>\n",
       "      <td>...</td>\n",
       "      <td>...</td>\n",
       "      <td>...</td>\n",
       "      <td>...</td>\n",
       "      <td>...</td>\n",
       "      <td>...</td>\n",
       "      <td>...</td>\n",
       "      <td>...</td>\n",
       "      <td>...</td>\n",
       "      <td>...</td>\n",
       "      <td>...</td>\n",
       "      <td>...</td>\n",
       "      <td>...</td>\n",
       "      <td>...</td>\n",
       "    </tr>\n",
       "    <tr>\n",
       "      <th>586</th>\n",
       "      <td>13.67087,79.04951</td>\n",
       "      <td>Thu Apr 02 06:25:53 +0000 2020</td>\n",
       "      <td>NaN</td>\n",
       "      <td>NaN</td>\n",
       "      <td>https://www.instagram.com/p/B-d-ZGUDFc1/?igshi...</td>\n",
       "      <td>0</td>\n",
       "      <td>1245598309328117761</td>\n",
       "      <td>NaN</td>\n",
       "      <td>NaN</td>\n",
       "      <td>NaN</td>\n",
       "      <td>...</td>\n",
       "      <td>Andhra Pradesh, India</td>\n",
       "      <td>M S Imran Jkmsf</td>\n",
       "      <td>msimran4462</td>\n",
       "      <td>70</td>\n",
       "      <td>NaN</td>\n",
       "      <td>NaN</td>\n",
       "      <td>False</td>\n",
       "      <td>79.04951</td>\n",
       "      <td>13.67087</td>\n",
       "      <td>Rompicherla</td>\n",
       "    </tr>\n",
       "    <tr>\n",
       "      <th>587</th>\n",
       "      <td>-27.75,29.9333</td>\n",
       "      <td>Thu Apr 02 06:25:49 +0000 2020</td>\n",
       "      <td>NaN</td>\n",
       "      <td>NaN</td>\n",
       "      <td>https://www.instagram.com/p/B-d-YiDDB76/?igshi...</td>\n",
       "      <td>0</td>\n",
       "      <td>1245598290940289026</td>\n",
       "      <td>NaN</td>\n",
       "      <td>NaN</td>\n",
       "      <td>NaN</td>\n",
       "      <td>...</td>\n",
       "      <td>Newcastle, South Africa</td>\n",
       "      <td>Peter Mushoriwa</td>\n",
       "      <td>mushoriwapeter</td>\n",
       "      <td>36</td>\n",
       "      <td>NaN</td>\n",
       "      <td>NaN</td>\n",
       "      <td>False</td>\n",
       "      <td>29.9333</td>\n",
       "      <td>-27.75</td>\n",
       "      <td>Amajuba District Municipality</td>\n",
       "    </tr>\n",
       "    <tr>\n",
       "      <th>588</th>\n",
       "      <td>31.13570968,-7.91885142</td>\n",
       "      <td>Thu Apr 02 06:15:36 +0000 2020</td>\n",
       "      <td>NaN</td>\n",
       "      <td>NaN</td>\n",
       "      <td>https://www.instagram.com/p/B-d9NPfp95N/?igshi...</td>\n",
       "      <td>6</td>\n",
       "      <td>1245595719076990976</td>\n",
       "      <td>NaN</td>\n",
       "      <td>NaN</td>\n",
       "      <td>NaN</td>\n",
       "      <td>...</td>\n",
       "      <td>The Atlas Expedition</td>\n",
       "      <td>alice morrison</td>\n",
       "      <td>aliceoutthere1</td>\n",
       "      <td>7725</td>\n",
       "      <td>NaN</td>\n",
       "      <td>http://www.alicemorrison.co.uk/podcast</td>\n",
       "      <td>False</td>\n",
       "      <td>-7.91885142</td>\n",
       "      <td>31.13570968</td>\n",
       "      <td>cercle d'Asni</td>\n",
       "    </tr>\n",
       "    <tr>\n",
       "      <th>589</th>\n",
       "      <td>11.256405,75.785708</td>\n",
       "      <td>Thu Apr 02 06:29:27 +0000 2020</td>\n",
       "      <td>gocorona TheTower StaySafe stayhome stayhealth...</td>\n",
       "      <td>NaN</td>\n",
       "      <td>http://ubaid.ck https://www.instagram.com/p/B-...</td>\n",
       "      <td>0</td>\n",
       "      <td>1245599205298556929</td>\n",
       "      <td>NaN</td>\n",
       "      <td>NaN</td>\n",
       "      <td>NaN</td>\n",
       "      <td>...</td>\n",
       "      <td>#Vengara #Kozhikode #Kerala</td>\n",
       "      <td>❤ Tagliafico ⚽</td>\n",
       "      <td>zainukappan</td>\n",
       "      <td>46932</td>\n",
       "      <td>NaN</td>\n",
       "      <td>NaN</td>\n",
       "      <td>False</td>\n",
       "      <td>75.785708</td>\n",
       "      <td>11.256405</td>\n",
       "      <td>Kozhikode</td>\n",
       "    </tr>\n",
       "    <tr>\n",
       "      <th>590</th>\n",
       "      <td>9.53580482,99.93404734</td>\n",
       "      <td>Thu Apr 02 06:33:00 +0000 2020</td>\n",
       "      <td>corona archive thailand kohsamui</td>\n",
       "      <td>NaN</td>\n",
       "      <td>https://www.instagram.com/p/B-d_NJ1JOxH/?igshi...</td>\n",
       "      <td>3</td>\n",
       "      <td>1245600097708019712</td>\n",
       "      <td>NaN</td>\n",
       "      <td>NaN</td>\n",
       "      <td>NaN</td>\n",
       "      <td>...</td>\n",
       "      <td>Moscow, Russia</td>\n",
       "      <td>leyli Karimova</td>\n",
       "      <td>leylikarimova</td>\n",
       "      <td>51407</td>\n",
       "      <td>NaN</td>\n",
       "      <td>http://www.instagram.com/leyli.karimova</td>\n",
       "      <td>False</td>\n",
       "      <td>99.93404734</td>\n",
       "      <td>9.53580482</td>\n",
       "      <td></td>\n",
       "    </tr>\n",
       "  </tbody>\n",
       "</table>\n",
       "<p>591 rows × 37 columns</p>\n",
       "</div>"
      ],
      "text/plain": [
       "                 coordinates                      created_at  \\\n",
       "0          -1.29889,36.77943  Wed Apr 01 09:01:18 +0000 2020   \n",
       "1     49.64968784,6.12745379  Wed Apr 01 08:17:02 +0000 2020   \n",
       "2        51.2334699,-0.32863  Wed Apr 01 09:01:11 +0000 2020   \n",
       "3            43.648,-79.3872  Wed Apr 01 10:04:31 +0000 2020   \n",
       "4            42.4969,18.4503  Wed Apr 01 08:48:05 +0000 2020   \n",
       "..                       ...                             ...   \n",
       "586        13.67087,79.04951  Thu Apr 02 06:25:53 +0000 2020   \n",
       "587           -27.75,29.9333  Thu Apr 02 06:25:49 +0000 2020   \n",
       "588  31.13570968,-7.91885142  Thu Apr 02 06:15:36 +0000 2020   \n",
       "589      11.256405,75.785708  Thu Apr 02 06:29:27 +0000 2020   \n",
       "590   9.53580482,99.93404734  Thu Apr 02 06:33:00 +0000 2020   \n",
       "\n",
       "                                              hashtags media  \\\n",
       "0                    corona coronavirus covid stayhome   NaN   \n",
       "1                         actufoot football luxembourg   NaN   \n",
       "2                        homeschooling stayhome corona   NaN   \n",
       "3                                comedian comedy funny   NaN   \n",
       "4    stayhome staysafe stayhealthy corona covid cov...   NaN   \n",
       "..                                                 ...   ...   \n",
       "586                                                NaN   NaN   \n",
       "587                                                NaN   NaN   \n",
       "588                                                NaN   NaN   \n",
       "589  gocorona TheTower StaySafe stayhome stayhealth...   NaN   \n",
       "590                   corona archive thailand kohsamui   NaN   \n",
       "\n",
       "                                                  urls  favorite_count  \\\n",
       "0    https://www.instagram.com/p/B-brG4pFTdp/?igshi...               0   \n",
       "1                                http://dlvr.it/RSy1bQ               0   \n",
       "2    https://www.instagram.com/p/B-brXf-hhna/?igshi...               0   \n",
       "3    https://www.instagram.com/p/B-byRhlHij9/?igshi...               0   \n",
       "4    https://www.instagram.com/p/B-bp3RaIgii/?igshi...               0   \n",
       "..                                                 ...             ...   \n",
       "586  https://www.instagram.com/p/B-d-ZGUDFc1/?igshi...               0   \n",
       "587  https://www.instagram.com/p/B-d-YiDDB76/?igshi...               0   \n",
       "588  https://www.instagram.com/p/B-d9NPfp95N/?igshi...               6   \n",
       "589  http://ubaid.ck https://www.instagram.com/p/B-...               0   \n",
       "590  https://www.instagram.com/p/B-d_NJ1JOxH/?igshi...               3   \n",
       "\n",
       "                      id in_reply_to_screen_name  in_reply_to_status_id  \\\n",
       "0    1245275030956544002                     NaN                    NaN   \n",
       "1    1245263893682769921                     NaN                    NaN   \n",
       "2    1245275001563099136                     NaN                    NaN   \n",
       "3    1245290940148875265                     NaN                    NaN   \n",
       "4    1245271705804771328                     NaN                    NaN   \n",
       "..                   ...                     ...                    ...   \n",
       "586  1245598309328117761                     NaN                    NaN   \n",
       "587  1245598290940289026                     NaN                    NaN   \n",
       "588  1245595719076990976                     NaN                    NaN   \n",
       "589  1245599205298556929                     NaN                    NaN   \n",
       "590  1245600097708019712                     NaN                    NaN   \n",
       "\n",
       "     in_reply_to_user_id  ...                   user_location  \\\n",
       "0                    NaN  ...          EAST AFRICA, WORLDWIDE   \n",
       "1                    NaN  ...                      Luxembourg   \n",
       "2                    NaN  ...                             NaN   \n",
       "3                    NaN  ...  Toronto,NewYork,LosAngeles,MIA   \n",
       "4                    NaN  ...                             NaN   \n",
       "..                   ...  ...                             ...   \n",
       "586                  NaN  ...           Andhra Pradesh, India   \n",
       "587                  NaN  ...         Newcastle, South Africa   \n",
       "588                  NaN  ...            The Atlas Expedition   \n",
       "589                  NaN  ...     #Vengara #Kozhikode #Kerala   \n",
       "590                  NaN  ...                  Moscow, Russia   \n",
       "\n",
       "            user_name user_screen_name.1  user_statuses_count  user_time_zone  \\\n",
       "0      NDANAH MIQASSA    bandanahmiqassa                23042             NaN   \n",
       "1     FuPa Luxembourg            fupalux                 6243             NaN   \n",
       "2    Emilie-Kate Owen     emiliekateowen                  236             NaN   \n",
       "3        KingOfScotia     SoFlyyTizzy902                11637             NaN   \n",
       "4      ellen schepens      ellenschepens                 1587             NaN   \n",
       "..                ...                ...                  ...             ...   \n",
       "586   M S Imran Jkmsf        msimran4462                   70             NaN   \n",
       "587   Peter Mushoriwa     mushoriwapeter                   36             NaN   \n",
       "588    alice morrison     aliceoutthere1                 7725             NaN   \n",
       "589    ❤ Tagliafico ⚽        zainukappan                46932             NaN   \n",
       "590    leyli Karimova      leylikarimova                51407             NaN   \n",
       "\n",
       "                                   user_urls user_verified    longitude  \\\n",
       "0               https://youtu.be/0uu8AzxGmeI         False     36.77943   \n",
       "1              http://www.fupa.net/luxemburg         False   6.12745379   \n",
       "2                                        NaN         False     -0.32863   \n",
       "3                                        NaN         False     -79.3872   \n",
       "4               http://www.ellenschepens.com         False      18.4503   \n",
       "..                                       ...           ...          ...   \n",
       "586                                      NaN         False     79.04951   \n",
       "587                                      NaN         False      29.9333   \n",
       "588   http://www.alicemorrison.co.uk/podcast         False  -7.91885142   \n",
       "589                                      NaN         False    75.785708   \n",
       "590  http://www.instagram.com/leyli.karimova         False  99.93404734   \n",
       "\n",
       "        latitude                         county  \n",
       "0       -1.29889                                 \n",
       "1    49.64968784              Canton Luxembourg  \n",
       "2     51.2334699                         Surrey  \n",
       "3         43.648                                 \n",
       "4        42.4969            Opština Herceg Novi  \n",
       "..           ...                            ...  \n",
       "586     13.67087                    Rompicherla  \n",
       "587       -27.75  Amajuba District Municipality  \n",
       "588  31.13570968                  cercle d'Asni  \n",
       "589    11.256405                      Kozhikode  \n",
       "590   9.53580482                                 \n",
       "\n",
       "[591 rows x 37 columns]"
      ]
     },
     "execution_count": 49,
     "metadata": {},
     "output_type": "execute_result"
    }
   ],
   "source": [
    "df"
   ]
  },
  {
   "cell_type": "code",
   "execution_count": 54,
   "metadata": {},
   "outputs": [
    {
     "ename": "AttributeError",
     "evalue": "'NoneType' object has no attribute 'county'",
     "output_type": "error",
     "traceback": [
      "\u001b[0;31m---------------------------------------------------------------------------\u001b[0m",
      "\u001b[0;31mAttributeError\u001b[0m                            Traceback (most recent call last)",
      "\u001b[0;32m<ipython-input-54-becc66532860>\u001b[0m in \u001b[0;36m<module>\u001b[0;34m\u001b[0m\n\u001b[0;32m----> 1\u001b[0;31m \u001b[0mdf\u001b[0m \u001b[0;34m=\u001b[0m \u001b[0mdf\u001b[0m\u001b[0;34m.\u001b[0m\u001b[0mcounty\u001b[0m\u001b[0;34m.\u001b[0m\u001b[0mreplace\u001b[0m\u001b[0;34m(\u001b[0m\u001b[0;34m''\u001b[0m\u001b[0;34m,\u001b[0m \u001b[0mnp\u001b[0m\u001b[0;34m.\u001b[0m\u001b[0mnan\u001b[0m\u001b[0;34m,\u001b[0m \u001b[0minplace\u001b[0m\u001b[0;34m=\u001b[0m\u001b[0;32mTrue\u001b[0m\u001b[0;34m)\u001b[0m\u001b[0;34m\u001b[0m\u001b[0;34m\u001b[0m\u001b[0m\n\u001b[0m",
      "\u001b[0;31mAttributeError\u001b[0m: 'NoneType' object has no attribute 'county'"
     ]
    }
   ],
   "source": [
    "df = df.county.replace('', np.nan, inplace=True)"
   ]
  },
  {
   "cell_type": "code",
   "execution_count": 53,
   "metadata": {},
   "outputs": [
    {
     "ename": "AttributeError",
     "evalue": "'NoneType' object has no attribute 'dropna'",
     "output_type": "error",
     "traceback": [
      "\u001b[0;31m---------------------------------------------------------------------------\u001b[0m",
      "\u001b[0;31mAttributeError\u001b[0m                            Traceback (most recent call last)",
      "\u001b[0;32m<ipython-input-53-38ffb19561c9>\u001b[0m in \u001b[0;36m<module>\u001b[0;34m\u001b[0m\n\u001b[0;32m----> 1\u001b[0;31m \u001b[0mdf\u001b[0m \u001b[0;34m=\u001b[0m \u001b[0mdf\u001b[0m\u001b[0;34m.\u001b[0m\u001b[0mdropna\u001b[0m\u001b[0;34m(\u001b[0m\u001b[0msubset\u001b[0m\u001b[0;34m=\u001b[0m\u001b[0;34m[\u001b[0m\u001b[0;34m'county'\u001b[0m\u001b[0;34m]\u001b[0m\u001b[0;34m,\u001b[0m \u001b[0minplace\u001b[0m\u001b[0;34m=\u001b[0m\u001b[0;32mTrue\u001b[0m\u001b[0;34m)\u001b[0m\u001b[0;34m\u001b[0m\u001b[0;34m\u001b[0m\u001b[0m\n\u001b[0m",
      "\u001b[0;31mAttributeError\u001b[0m: 'NoneType' object has no attribute 'dropna'"
     ]
    }
   ],
   "source": [
    "df = df.dropna(subset=['county'], inplace=True)"
   ]
  },
  {
   "cell_type": "code",
   "execution_count": null,
   "metadata": {},
   "outputs": [],
   "source": []
  },
  {
   "cell_type": "code",
   "execution_count": null,
   "metadata": {},
   "outputs": [],
   "source": [
    "#county = counties\n",
    "#countydf = pd.DataFrame(county, columns=[\"county\"])\n",
    "#df = pd.concat([df, countydf],axis=1)\n",
    "#df"
   ]
  },
  {
   "cell_type": "code",
   "execution_count": 43,
   "metadata": {},
   "outputs": [],
   "source": [
    "df.county.replace('', np.nan, inplace=True)\n",
    "df = df.dropna(subset=['county'], inplace=True)"
   ]
  },
  {
   "cell_type": "code",
   "execution_count": 44,
   "metadata": {},
   "outputs": [],
   "source": [
    "df"
   ]
  },
  {
   "cell_type": "code",
   "execution_count": 34,
   "metadata": {},
   "outputs": [
    {
     "ename": "TypeError",
     "evalue": "'NoneType' object is not subscriptable",
     "output_type": "error",
     "traceback": [
      "\u001b[0;31m---------------------------------------------------------------------------\u001b[0m",
      "\u001b[0;31mTypeError\u001b[0m                                 Traceback (most recent call last)",
      "\u001b[0;32m<ipython-input-34-565f84d40d79>\u001b[0m in \u001b[0;36m<module>\u001b[0;34m\u001b[0m\n\u001b[0;32m----> 1\u001b[0;31m \u001b[0mitems_counts\u001b[0m \u001b[0;34m=\u001b[0m \u001b[0mdf\u001b[0m\u001b[0;34m[\u001b[0m\u001b[0;34m'county'\u001b[0m\u001b[0;34m]\u001b[0m\u001b[0;34m.\u001b[0m\u001b[0mvalue_counts\u001b[0m\u001b[0;34m(\u001b[0m\u001b[0;34m)\u001b[0m\u001b[0;34m.\u001b[0m\u001b[0midxmax\u001b[0m\u001b[0;34m(\u001b[0m\u001b[0;34m)\u001b[0m\u001b[0;34m\u001b[0m\u001b[0;34m\u001b[0m\u001b[0m\n\u001b[0m\u001b[1;32m      2\u001b[0m \u001b[0;31m#df['county']\u001b[0m\u001b[0;34m\u001b[0m\u001b[0;34m\u001b[0m\u001b[0;34m\u001b[0m\u001b[0m\n\u001b[1;32m      3\u001b[0m \u001b[0mitems_counts\u001b[0m\u001b[0;34m\u001b[0m\u001b[0;34m\u001b[0m\u001b[0m\n",
      "\u001b[0;31mTypeError\u001b[0m: 'NoneType' object is not subscriptable"
     ]
    }
   ],
   "source": [
    "items_counts = df['county'].value_counts().idxmax()\n",
    "#df['county']\n",
    "items_counts"
   ]
  },
  {
   "cell_type": "code",
   "execution_count": null,
   "metadata": {},
   "outputs": [],
   "source": [
    "#def city_state_country(coord):\n",
    " #   location = geolocator.reverse(coord, exactly_one=True)\n",
    " #   address = location.raw['address']\n",
    " #   city = address.get('city', '')\n",
    " #   county = address.get('county', '')\n",
    " #   state = address.get('state', '')\n",
    " #   country = address.get('country', '')\n",
    " #   return city, county, state, country\n",
    "\n",
    "#print(city_state_country(df['coordinates'][68]))"
   ]
  },
  {
   "cell_type": "code",
   "execution_count": null,
   "metadata": {},
   "outputs": [],
   "source": []
  }
 ],
 "metadata": {
  "kernelspec": {
   "display_name": "Python 3",
   "language": "python",
   "name": "python3"
  },
  "language_info": {
   "codemirror_mode": {
    "name": "ipython",
    "version": 3
   },
   "file_extension": ".py",
   "mimetype": "text/x-python",
   "name": "python",
   "nbconvert_exporter": "python",
   "pygments_lexer": "ipython3",
   "version": "3.8.3"
  }
 },
 "nbformat": 4,
 "nbformat_minor": 4
}
