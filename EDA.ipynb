{
 "cells": [
  {
   "cell_type": "code",
   "execution_count": 4,
   "metadata": {},
   "outputs": [],
   "source": [
    "from datascience import *\n",
    "import numpy as np\n",
    "import pandas as pd\n",
    "from sklearn.feature_extraction.text import CountVectorizer\n",
    "from sklearn.feature_extraction import DictVectorizer\n",
    "from sklearn.feature_extraction.text import TfidfTransformer\n",
    "from sklearn.feature_extraction.stop_words import ENGLISH_STOP_WORDS\n",
    "from sklearn.feature_extraction.text import TfidfVectorizer\n",
    "from sklearn.model_selection import train_test_split\n",
    "from sklearn import linear_model\n",
    "from sklearn.metrics import confusion_matrix\n",
    "from sklearn import svm\n",
    "import matplotlib.pyplot as plt\n",
    "from sklearn.naive_bayes import MultinomialNB\n",
    "import itertools\n",
    "import seaborn as sn\n",
    "from textblob import TextBlob\n",
    "import twint\n",
    "%matplotlib inline"
   ]
  },
  {
   "cell_type": "code",
   "execution_count": 3,
   "metadata": {},
   "outputs": [],
   "source": [
    "march_pt_3 = pd.read_csv('data/patterns-part3.csv')"
   ]
  },
  {
   "cell_type": "code",
   "execution_count": 12,
   "metadata": {},
   "outputs": [
    {
     "data": {
      "text/plain": [
       "Index(['safegraph_place_id', 'location_name', 'street_address', 'city',\n",
       "       'region', 'postal_code', 'safegraph_brand_ids', 'brands',\n",
       "       'date_range_start', 'date_range_end', 'raw_visit_counts',\n",
       "       'raw_visitor_counts', 'visits_by_day', 'poi_cbg', 'visitor_home_cbgs',\n",
       "       'visitor_daytime_cbgs', 'visitor_work_cbgs',\n",
       "       'visitor_country_of_origin', 'distance_from_home', 'median_dwell',\n",
       "       'bucketed_dwell_times', 'related_same_day_brand',\n",
       "       'related_same_month_brand', 'popularity_by_hour', 'popularity_by_day',\n",
       "       'device_type'],\n",
       "      dtype='object')"
      ]
     },
     "execution_count": 12,
     "metadata": {},
     "output_type": "execute_result"
    }
   ],
   "source": [
    "march_pt_3.columns"
   ]
  },
  {
   "cell_type": "code",
   "execution_count": 25,
   "metadata": {},
   "outputs": [
    {
     "data": {
      "text/html": [
       "<div>\n",
       "<style scoped>\n",
       "    .dataframe tbody tr th:only-of-type {\n",
       "        vertical-align: middle;\n",
       "    }\n",
       "\n",
       "    .dataframe tbody tr th {\n",
       "        vertical-align: top;\n",
       "    }\n",
       "\n",
       "    .dataframe thead th {\n",
       "        text-align: right;\n",
       "    }\n",
       "</style>\n",
       "<table border=\"1\" class=\"dataframe\">\n",
       "  <thead>\n",
       "    <tr style=\"text-align: right;\">\n",
       "      <th></th>\n",
       "      <th>location_name</th>\n",
       "      <th>city</th>\n",
       "      <th>region</th>\n",
       "      <th>raw_visitor_counts</th>\n",
       "      <th>date_range_start</th>\n",
       "      <th>date_range_end</th>\n",
       "    </tr>\n",
       "  </thead>\n",
       "  <tbody>\n",
       "    <tr>\n",
       "      <th>0</th>\n",
       "      <td>Chevron Extra Mile</td>\n",
       "      <td>Gardena</td>\n",
       "      <td>CA</td>\n",
       "      <td>60</td>\n",
       "      <td>2020-03-01T00:00:00-08:00</td>\n",
       "      <td>2020-04-01T00:00:00-07:00</td>\n",
       "    </tr>\n",
       "    <tr>\n",
       "      <th>1</th>\n",
       "      <td>Country Cleaning Services</td>\n",
       "      <td>Smithville</td>\n",
       "      <td>TX</td>\n",
       "      <td>3</td>\n",
       "      <td>2020-03-01T00:00:00-06:00</td>\n",
       "      <td>2020-04-01T00:00:00-05:00</td>\n",
       "    </tr>\n",
       "    <tr>\n",
       "      <th>2</th>\n",
       "      <td>Walgreens</td>\n",
       "      <td>Ripon</td>\n",
       "      <td>WI</td>\n",
       "      <td>237</td>\n",
       "      <td>2020-03-01T00:00:00-06:00</td>\n",
       "      <td>2020-04-01T00:00:00-05:00</td>\n",
       "    </tr>\n",
       "    <tr>\n",
       "      <th>3</th>\n",
       "      <td>Pastosa Ravioli</td>\n",
       "      <td>Brooklyn</td>\n",
       "      <td>NY</td>\n",
       "      <td>179</td>\n",
       "      <td>2020-03-01T00:00:00-05:00</td>\n",
       "      <td>2020-04-01T00:00:00-04:00</td>\n",
       "    </tr>\n",
       "    <tr>\n",
       "      <th>4</th>\n",
       "      <td>Devon Lincoln Plaza</td>\n",
       "      <td>Chicago</td>\n",
       "      <td>IL</td>\n",
       "      <td>508</td>\n",
       "      <td>2020-03-01T00:00:00-06:00</td>\n",
       "      <td>2020-04-01T00:00:00-05:00</td>\n",
       "    </tr>\n",
       "  </tbody>\n",
       "</table>\n",
       "</div>"
      ],
      "text/plain": [
       "               location_name        city region  raw_visitor_counts  \\\n",
       "0         Chevron Extra Mile     Gardena     CA                  60   \n",
       "1  Country Cleaning Services  Smithville     TX                   3   \n",
       "2                  Walgreens       Ripon     WI                 237   \n",
       "3            Pastosa Ravioli    Brooklyn     NY                 179   \n",
       "4        Devon Lincoln Plaza     Chicago     IL                 508   \n",
       "\n",
       "            date_range_start             date_range_end  \n",
       "0  2020-03-01T00:00:00-08:00  2020-04-01T00:00:00-07:00  \n",
       "1  2020-03-01T00:00:00-06:00  2020-04-01T00:00:00-05:00  \n",
       "2  2020-03-01T00:00:00-06:00  2020-04-01T00:00:00-05:00  \n",
       "3  2020-03-01T00:00:00-05:00  2020-04-01T00:00:00-04:00  \n",
       "4  2020-03-01T00:00:00-06:00  2020-04-01T00:00:00-05:00  "
      ]
     },
     "execution_count": 25,
     "metadata": {},
     "output_type": "execute_result"
    }
   ],
   "source": [
    "subset = march_pt_3.loc[:, ['location_name','city', 'region', 'raw_visitor_counts', 'date_range_start', 'date_range_end']]\n",
    "subset.head()"
   ]
  },
  {
   "cell_type": "code",
   "execution_count": 26,
   "metadata": {
    "scrolled": true
   },
   "outputs": [
    {
     "data": {
      "text/html": [
       "<div>\n",
       "<style scoped>\n",
       "    .dataframe tbody tr th:only-of-type {\n",
       "        vertical-align: middle;\n",
       "    }\n",
       "\n",
       "    .dataframe tbody tr th {\n",
       "        vertical-align: top;\n",
       "    }\n",
       "\n",
       "    .dataframe thead th {\n",
       "        text-align: right;\n",
       "    }\n",
       "</style>\n",
       "<table border=\"1\" class=\"dataframe\">\n",
       "  <thead>\n",
       "    <tr style=\"text-align: right;\">\n",
       "      <th></th>\n",
       "      <th>location_name</th>\n",
       "      <th>city</th>\n",
       "      <th>region</th>\n",
       "      <th>raw_visitor_counts</th>\n",
       "      <th>date_range_start</th>\n",
       "      <th>date_range_end</th>\n",
       "    </tr>\n",
       "  </thead>\n",
       "  <tbody>\n",
       "    <tr>\n",
       "      <th>7</th>\n",
       "      <td>Village Square</td>\n",
       "      <td>Coral Springs</td>\n",
       "      <td>FL</td>\n",
       "      <td>203</td>\n",
       "      <td>2020-03-01T00:00:00-05:00</td>\n",
       "      <td>2020-04-01T00:00:00-04:00</td>\n",
       "    </tr>\n",
       "    <tr>\n",
       "      <th>42</th>\n",
       "      <td>Rene's Specializing In Mercedes</td>\n",
       "      <td>Apopka</td>\n",
       "      <td>FL</td>\n",
       "      <td>15</td>\n",
       "      <td>2020-03-01T00:00:00-05:00</td>\n",
       "      <td>2020-04-01T00:00:00-04:00</td>\n",
       "    </tr>\n",
       "    <tr>\n",
       "      <th>46</th>\n",
       "      <td>Nemours Children's Urgent Care Kissimmee</td>\n",
       "      <td>Kissimmee</td>\n",
       "      <td>FL</td>\n",
       "      <td>52</td>\n",
       "      <td>2020-03-01T00:00:00-05:00</td>\n",
       "      <td>2020-04-01T00:00:00-04:00</td>\n",
       "    </tr>\n",
       "    <tr>\n",
       "      <th>64</th>\n",
       "      <td>Pinellas Affordable Pressure Washing</td>\n",
       "      <td>Saint Petersburg</td>\n",
       "      <td>FL</td>\n",
       "      <td>5</td>\n",
       "      <td>2020-03-01T00:00:00-05:00</td>\n",
       "      <td>2020-04-01T00:00:00-04:00</td>\n",
       "    </tr>\n",
       "    <tr>\n",
       "      <th>67</th>\n",
       "      <td>Papi's Tire Service</td>\n",
       "      <td>Bradenton</td>\n",
       "      <td>FL</td>\n",
       "      <td>148</td>\n",
       "      <td>2020-03-01T00:00:00-05:00</td>\n",
       "      <td>2020-04-01T00:00:00-04:00</td>\n",
       "    </tr>\n",
       "  </tbody>\n",
       "</table>\n",
       "</div>"
      ],
      "text/plain": [
       "                               location_name              city region  \\\n",
       "7                             Village Square     Coral Springs     FL   \n",
       "42           Rene's Specializing In Mercedes            Apopka     FL   \n",
       "46  Nemours Children's Urgent Care Kissimmee         Kissimmee     FL   \n",
       "64      Pinellas Affordable Pressure Washing  Saint Petersburg     FL   \n",
       "67                       Papi's Tire Service         Bradenton     FL   \n",
       "\n",
       "    raw_visitor_counts           date_range_start             date_range_end  \n",
       "7                  203  2020-03-01T00:00:00-05:00  2020-04-01T00:00:00-04:00  \n",
       "42                  15  2020-03-01T00:00:00-05:00  2020-04-01T00:00:00-04:00  \n",
       "46                  52  2020-03-01T00:00:00-05:00  2020-04-01T00:00:00-04:00  \n",
       "64                   5  2020-03-01T00:00:00-05:00  2020-04-01T00:00:00-04:00  \n",
       "67                 148  2020-03-01T00:00:00-05:00  2020-04-01T00:00:00-04:00  "
      ]
     },
     "execution_count": 26,
     "metadata": {},
     "output_type": "execute_result"
    }
   ],
   "source": [
    "florida = subset.loc[subset['region'] == 'FL']\n",
    "florida.head()"
   ]
  },
  {
   "cell_type": "code",
   "execution_count": 20,
   "metadata": {},
   "outputs": [
    {
     "data": {
      "text/plain": [
       "31"
      ]
     },
     "execution_count": 20,
     "metadata": {},
     "output_type": "execute_result"
    }
   ],
   "source": [
    "import ast\n",
    "x = subset.iloc[0, 3]\n",
    "len(ast.literal_eval(x))"
   ]
  },
  {
   "cell_type": "markdown",
   "metadata": {},
   "source": [
    "## Reddit Mental Health Dataset EDA (outdated)"
   ]
  },
  {
   "cell_type": "code",
   "execution_count": 7,
   "metadata": {
    "scrolled": true
   },
   "outputs": [],
   "source": [
    "mh_post = pd.read_csv('data/mentalhealth_post_features_tfidf_256.csv')\n",
    "mh_pre = pd.read_csv('data/mentalhealth_pre_features_tfidf_256.csv')"
   ]
  },
  {
   "cell_type": "code",
   "execution_count": 77,
   "metadata": {},
   "outputs": [],
   "source": [
    "anxiety_post = pd.read_csv('data/anxiety_post_features_tfidf_256.csv')\n",
    "anxiety_pre = pd.read_csv('data/anxiety_pre_features_tfidf_256.csv')"
   ]
  },
  {
   "cell_type": "code",
   "execution_count": 10,
   "metadata": {},
   "outputs": [
    {
     "data": {
      "text/plain": [
       "18925"
      ]
     },
     "execution_count": 10,
     "metadata": {},
     "output_type": "execute_result"
    }
   ],
   "source": [
    "len(mh_pre)"
   ]
  },
  {
   "cell_type": "code",
   "execution_count": null,
   "metadata": {},
   "outputs": [],
   "source": []
  },
  {
   "cell_type": "code",
   "execution_count": 78,
   "metadata": {},
   "outputs": [
    {
     "data": {
      "text/html": [
       "<div>\n",
       "<style scoped>\n",
       "    .dataframe tbody tr th:only-of-type {\n",
       "        vertical-align: middle;\n",
       "    }\n",
       "\n",
       "    .dataframe tbody tr th {\n",
       "        vertical-align: top;\n",
       "    }\n",
       "\n",
       "    .dataframe thead th {\n",
       "        text-align: right;\n",
       "    }\n",
       "</style>\n",
       "<table border=\"1\" class=\"dataframe\">\n",
       "  <thead>\n",
       "    <tr style=\"text-align: right;\">\n",
       "      <th></th>\n",
       "      <th>subreddit</th>\n",
       "      <th>author</th>\n",
       "      <th>date</th>\n",
       "      <th>post</th>\n",
       "      <th>automated_readability_index</th>\n",
       "      <th>coleman_liau_index</th>\n",
       "      <th>flesch_kincaid_grade_level</th>\n",
       "      <th>flesch_reading_ease</th>\n",
       "      <th>gulpease_index</th>\n",
       "      <th>gunning_fog_index</th>\n",
       "      <th>...</th>\n",
       "      <th>tfidf_wish</th>\n",
       "      <th>tfidf_without</th>\n",
       "      <th>tfidf_wonder</th>\n",
       "      <th>tfidf_work</th>\n",
       "      <th>tfidf_worri</th>\n",
       "      <th>tfidf_wors</th>\n",
       "      <th>tfidf_would</th>\n",
       "      <th>tfidf_wrong</th>\n",
       "      <th>tfidf_x200b</th>\n",
       "      <th>tfidf_year</th>\n",
       "    </tr>\n",
       "  </thead>\n",
       "  <tbody>\n",
       "    <tr>\n",
       "      <th>0</th>\n",
       "      <td>mentalhealth</td>\n",
       "      <td>Autumfire117</td>\n",
       "      <td>2020/01/01</td>\n",
       "      <td>Not depressed or suicidal, yet the thought of ...</td>\n",
       "      <td>6.283511</td>\n",
       "      <td>5.687673</td>\n",
       "      <td>6.568202</td>\n",
       "      <td>80.795116</td>\n",
       "      <td>66.002584</td>\n",
       "      <td>9.955408</td>\n",
       "      <td>...</td>\n",
       "      <td>0.0</td>\n",
       "      <td>0.139581</td>\n",
       "      <td>0.000000</td>\n",
       "      <td>0.000000</td>\n",
       "      <td>0.0</td>\n",
       "      <td>0.0</td>\n",
       "      <td>0.051431</td>\n",
       "      <td>0.000000</td>\n",
       "      <td>0.0</td>\n",
       "      <td>0.093246</td>\n",
       "    </tr>\n",
       "    <tr>\n",
       "      <th>1</th>\n",
       "      <td>mentalhealth</td>\n",
       "      <td>elf_boy_</td>\n",
       "      <td>2020/01/01</td>\n",
       "      <td>How I Barely Survived the Last Decade Trigger ...</td>\n",
       "      <td>4.953877</td>\n",
       "      <td>6.139650</td>\n",
       "      <td>5.820522</td>\n",
       "      <td>78.808202</td>\n",
       "      <td>69.141398</td>\n",
       "      <td>9.052063</td>\n",
       "      <td>...</td>\n",
       "      <td>0.0</td>\n",
       "      <td>0.000000</td>\n",
       "      <td>0.000000</td>\n",
       "      <td>0.000000</td>\n",
       "      <td>0.0</td>\n",
       "      <td>0.0</td>\n",
       "      <td>0.020834</td>\n",
       "      <td>0.096198</td>\n",
       "      <td>0.0</td>\n",
       "      <td>0.245525</td>\n",
       "    </tr>\n",
       "    <tr>\n",
       "      <th>2</th>\n",
       "      <td>mentalhealth</td>\n",
       "      <td>mcks02</td>\n",
       "      <td>2020/01/01</td>\n",
       "      <td>Coping skills I was wondering if anyone had an...</td>\n",
       "      <td>0.919777</td>\n",
       "      <td>2.657734</td>\n",
       "      <td>3.307321</td>\n",
       "      <td>90.400864</td>\n",
       "      <td>80.951220</td>\n",
       "      <td>6.229480</td>\n",
       "      <td>...</td>\n",
       "      <td>0.0</td>\n",
       "      <td>0.000000</td>\n",
       "      <td>0.137643</td>\n",
       "      <td>0.092402</td>\n",
       "      <td>0.0</td>\n",
       "      <td>0.0</td>\n",
       "      <td>0.000000</td>\n",
       "      <td>0.000000</td>\n",
       "      <td>0.0</td>\n",
       "      <td>0.081734</td>\n",
       "    </tr>\n",
       "  </tbody>\n",
       "</table>\n",
       "<p>3 rows × 350 columns</p>\n",
       "</div>"
      ],
      "text/plain": [
       "      subreddit        author        date  \\\n",
       "0  mentalhealth  Autumfire117  2020/01/01   \n",
       "1  mentalhealth      elf_boy_  2020/01/01   \n",
       "2  mentalhealth        mcks02  2020/01/01   \n",
       "\n",
       "                                                post  \\\n",
       "0  Not depressed or suicidal, yet the thought of ...   \n",
       "1  How I Barely Survived the Last Decade Trigger ...   \n",
       "2  Coping skills I was wondering if anyone had an...   \n",
       "\n",
       "   automated_readability_index  coleman_liau_index  \\\n",
       "0                     6.283511            5.687673   \n",
       "1                     4.953877            6.139650   \n",
       "2                     0.919777            2.657734   \n",
       "\n",
       "   flesch_kincaid_grade_level  flesch_reading_ease  gulpease_index  \\\n",
       "0                    6.568202            80.795116       66.002584   \n",
       "1                    5.820522            78.808202       69.141398   \n",
       "2                    3.307321            90.400864       80.951220   \n",
       "\n",
       "   gunning_fog_index  ...  tfidf_wish  tfidf_without  tfidf_wonder  \\\n",
       "0           9.955408  ...         0.0       0.139581      0.000000   \n",
       "1           9.052063  ...         0.0       0.000000      0.000000   \n",
       "2           6.229480  ...         0.0       0.000000      0.137643   \n",
       "\n",
       "   tfidf_work  tfidf_worri  tfidf_wors  tfidf_would  tfidf_wrong  tfidf_x200b  \\\n",
       "0    0.000000          0.0         0.0     0.051431     0.000000          0.0   \n",
       "1    0.000000          0.0         0.0     0.020834     0.096198          0.0   \n",
       "2    0.092402          0.0         0.0     0.000000     0.000000          0.0   \n",
       "\n",
       "   tfidf_year  \n",
       "0    0.093246  \n",
       "1    0.245525  \n",
       "2    0.081734  \n",
       "\n",
       "[3 rows x 350 columns]"
      ]
     },
     "execution_count": 78,
     "metadata": {},
     "output_type": "execute_result"
    }
   ],
   "source": [
    "mh_post.head(3)"
   ]
  },
  {
   "cell_type": "code",
   "execution_count": 75,
   "metadata": {},
   "outputs": [],
   "source": [
    "def compare_top_TFIDFs(pre_df, post_df):\n",
    "    \n",
    "    # Get TF_IDF columns and mean for each column\n",
    "    tf_idf_pre_from_df = mh_pre.iloc[:, 94:]\n",
    "    avg_score_pre = tf_idf_pre_from_df.apply(np.mean, axis=0)\n",
    "\n",
    "    tf_idf_post_from_df = mh_post.iloc[:, 94:]\n",
    "    avg_score_post = tf_idf_post_from_df.apply(np.mean, axis=0)\n",
    "\n",
    "    avg_scores = pd.DataFrame()\n",
    "    avg_scores['pre'] = avg_score_pre\n",
    "    avg_scores['post'] = avg_score_post\n",
    "    \n",
    "    top_ten_scores_by_post = avg_scores.sort_values(by='post', ascending=False).iloc[:10, :]\n",
    "    top_ten_scores_by_post.plot.bar(figsize=(15, 8), rot=0)\n",
    "    plt.show()"
   ]
  },
  {
   "cell_type": "code",
   "execution_count": 76,
   "metadata": {},
   "outputs": [
    {
     "data": {
      "image/png": "[encoded data removed]",
      "text/plain": [
       "<Figure size 1080x576 with 1 Axes>"
      ]
     },
     "metadata": {
      "needs_background": "light"
     },
     "output_type": "display_data"
    }
   ],
   "source": [
    "compare_top_TFIDFs(mh_pre, mh_post)"
   ]
  },
  {
   "cell_type": "markdown",
   "metadata": {},
   "source": [
    "Polarity"
   ]
  },
  {
   "cell_type": "code",
   "execution_count": 31,
   "metadata": {
    "scrolled": true
   },
   "outputs": [
    {
     "data": {
      "text/plain": [
       "0    1\n",
       "1    5\n",
       "2    4\n",
       "3    0\n",
       "4    0\n",
       "5    0\n",
       "6    0\n",
       "7    5\n",
       "8    4\n",
       "9    3\n",
       "Name: liwc_family, dtype: int64"
      ]
     },
     "execution_count": 31,
     "metadata": {},
     "output_type": "execute_result"
    }
   ],
   "source": [
    "mh_post['liwc_family'][:10]"
   ]
  },
  {
   "cell_type": "markdown",
   "metadata": {},
   "source": [
    "## Notes\n",
    "\n",
    "`automated_readability_index`: gives an estimate of the U.S. grade level that can understand the text. Example: ARI of 9-10 means that the text can be understood by a 4th grader or older."
   ]
  },
  {
   "cell_type": "code",
   "execution_count": 17,
   "metadata": {},
   "outputs": [],
   "source": [
    "# Get post data\n",
    "def get_tfidf_matrix(df, colname):\n",
    "    text_list = df[colname]\n",
    "    tf = TfidfVectorizer(analyzer='word', \n",
    "                     ngram_range=(1,3), \n",
    "                     min_df = 0, \n",
    "                     stop_words = 'english')\n",
    "    \n",
    "    tfidf_matrix = tf.fit_transform(text_list)\n",
    "    return (tf, tfidf_matrix)"
   ]
  },
  {
   "cell_type": "code",
   "execution_count": 18,
   "metadata": {},
   "outputs": [],
   "source": [
    "tf_pre, tfidf_matrix_pre = get_tfidf_matrix(mh_pre, 'post')"
   ]
  },
  {
   "cell_type": "code",
   "execution_count": 19,
   "metadata": {},
   "outputs": [
    {
     "data": {
      "text/plain": [
       "['00', '00 00', '00 00 morning', '00 09', '00 09 00']"
      ]
     },
     "execution_count": 19,
     "metadata": {},
     "output_type": "execute_result"
    }
   ],
   "source": [
    "tf_pre.get_feature_names()[:5]"
   ]
  },
  {
   "cell_type": "code",
   "execution_count": 25,
   "metadata": {},
   "outputs": [
    {
     "data": {
      "text/plain": [
       "(18925, 2378728)"
      ]
     },
     "execution_count": 25,
     "metadata": {},
     "output_type": "execute_result"
    }
   ],
   "source": [
    "tfidf_matrix_pre_dense = tfidf_matrix_pre.todense()\n",
    "tfidf_matrix_pre_dense.shape"
   ]
  },
  {
   "cell_type": "code",
   "execution_count": 15,
   "metadata": {},
   "outputs": [],
   "source": [
    "tf_pre = TfidfVectorizer(analyzer='word', \n",
    "                     ngram_range=(1,3), \n",
    "                     min_df = 0, \n",
    "                     stop_words = 'english')\n",
    "tf_post = TfidfVectorizer(analyzer='word', \n",
    "                     ngram_range=(1,3), \n",
    "                     min_df = 0, \n",
    "                     stop_words = 'english')"
   ]
  },
  {
   "cell_type": "code",
   "execution_count": null,
   "metadata": {},
   "outputs": [],
   "source": [
    "tfidf_matrix_pre = tf_pre.fit_transform(posts_pre)"
   ]
  }
 ],
 "metadata": {
  "kernelspec": {
   "display_name": "Python 3",
   "language": "python",
   "name": "python3"
  },
  "language_info": {
   "codemirror_mode": {
    "name": "ipython",
    "version": 3
   },
   "file_extension": ".py",
   "mimetype": "text/x-python",
   "name": "python",
   "nbconvert_exporter": "python",
   "pygments_lexer": "ipython3",
   "version": "3.7.0"
  }
 },
 "nbformat": 4,
 "nbformat_minor": 2
}
