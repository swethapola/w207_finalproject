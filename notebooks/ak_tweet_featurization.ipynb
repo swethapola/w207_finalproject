{
 "cells": [
  {
   "cell_type": "code",
   "execution_count": 5,
   "metadata": {},
   "outputs": [],
   "source": [
    "import matplotlib.pyplot as plt\n",
    "import pandas as pd\n",
    "import numpy as np\n",
    "from sklearn.feature_extraction.text import CountVectorizer\n",
    "from sklearn.feature_extraction import DictVectorizer\n",
    "from sklearn.feature_extraction.text import TfidfTransformer\n",
    "from sklearn.feature_extraction.stop_words import ENGLISH_STOP_WORDS\n",
    "from sklearn.feature_extraction.text import TfidfVectorizer\n",
    "from sklearn.model_selection import train_test_split\n",
    "from sklearn import linear_model\n",
    "from sklearn.metrics import confusion_matrix\n",
    "from sklearn import svm\n",
    "import matplotlib.pyplot as plt\n",
    "from sklearn.naive_bayes import MultinomialNB\n",
    "import itertools\n",
    "import seaborn as sn\n",
    "from textblob import TextBlob\n",
    "import glob\n",
    "\n",
    "# warning\n",
    "import warnings\n",
    "warnings.filterwarnings(\"ignore\")"
   ]
  },
  {
   "cell_type": "markdown",
   "metadata": {},
   "source": [
    "## This section compiles all CSVs into one"
   ]
  },
  {
   "cell_type": "code",
   "execution_count": 30,
   "metadata": {},
   "outputs": [],
   "source": [
    "path = '../data/month to month tweet CSVs/*.csv'"
   ]
  },
  {
   "cell_type": "code",
   "execution_count": 33,
   "metadata": {},
   "outputs": [],
   "source": [
    "def compile_month_csvs(path_with_csvs):\n",
    "    months_compiled_df = pd.DataFrame()\n",
    "    for month_csv in glob.glob(path_with_csvs):\n",
    "        month_df = pd.read_csv(month_csv)\n",
    "        months_compiled_df = months_compiled_df.append(month_df)\n",
    "    return months_compiled_df"
   ]
  },
  {
   "cell_type": "code",
   "execution_count": 36,
   "metadata": {},
   "outputs": [],
   "source": [
    "# Set index using a column but then delete the index name\n",
    "months_compiled_df = compile_month_csvs(path)\n",
    "months_compiled_df = months_compiled_df.set_index('Unnamed: 0')\n",
    "months_compiled_df.index.name = None\n",
    "\n",
    "# Sort by date ascending\n",
    "months_compiled_df = months_compiled_df.sort_values(by='created_at')"
   ]
  },
  {
   "cell_type": "code",
   "execution_count": 37,
   "metadata": {},
   "outputs": [
    {
     "data": {
      "text/html": [
       "<div>\n",
       "<style scoped>\n",
       "    .dataframe tbody tr th:only-of-type {\n",
       "        vertical-align: middle;\n",
       "    }\n",
       "\n",
       "    .dataframe tbody tr th {\n",
       "        vertical-align: top;\n",
       "    }\n",
       "\n",
       "    .dataframe thead th {\n",
       "        text-align: right;\n",
       "    }\n",
       "</style>\n",
       "<table border=\"1\" class=\"dataframe\">\n",
       "  <thead>\n",
       "    <tr style=\"text-align: right;\">\n",
       "      <th></th>\n",
       "      <th>created_at</th>\n",
       "      <th>full_text</th>\n",
       "      <th>geo</th>\n",
       "      <th>place</th>\n",
       "      <th>truncated</th>\n",
       "      <th>display_text_range</th>\n",
       "      <th>user</th>\n",
       "      <th>id</th>\n",
       "      <th>entities</th>\n",
       "      <th>possibly_sensitive</th>\n",
       "      <th>lang</th>\n",
       "      <th>longitude</th>\n",
       "      <th>latitude</th>\n",
       "      <th>state</th>\n",
       "      <th>county</th>\n",
       "    </tr>\n",
       "  </thead>\n",
       "  <tbody>\n",
       "    <tr>\n",
       "      <th>885</th>\n",
       "      <td>2020-03-20</td>\n",
       "      <td>Been having so much fun with these live stream...</td>\n",
       "      <td>[33.98902523, -118.35189342]</td>\n",
       "      <td>{'id': '3b77caf94bfc81fe', 'url': 'https://api...</td>\n",
       "      <td>False</td>\n",
       "      <td>[0, 237]</td>\n",
       "      <td>{'id': 202073462, 'id_str': '202073462', 'name...</td>\n",
       "      <td>1241080025371144192</td>\n",
       "      <td>{'hashtags': [{'text': 'live', 'indices': [168...</td>\n",
       "      <td>False</td>\n",
       "      <td>en</td>\n",
       "      <td>-118.351893</td>\n",
       "      <td>33.989025</td>\n",
       "      <td>California</td>\n",
       "      <td>Los Angeles County</td>\n",
       "    </tr>\n",
       "    <tr>\n",
       "      <th>866</th>\n",
       "      <td>2020-03-20</td>\n",
       "      <td>Should I get myself some Corona? @ CVS Pharmac...</td>\n",
       "      <td>[37.67867687, -120.95931306]</td>\n",
       "      <td>{'id': 'e41805d7248dbf1e', 'url': 'https://api...</td>\n",
       "      <td>False</td>\n",
       "      <td>[0, 71]</td>\n",
       "      <td>{'id': 19253082, 'id_str': '19253082', 'name':...</td>\n",
       "      <td>1241075581598433281</td>\n",
       "      <td>{'hashtags': [], 'symbols': [], 'user_mentions...</td>\n",
       "      <td>False</td>\n",
       "      <td>en</td>\n",
       "      <td>-120.959313</td>\n",
       "      <td>37.678677</td>\n",
       "      <td>California</td>\n",
       "      <td>Stanislaus County</td>\n",
       "    </tr>\n",
       "    <tr>\n",
       "      <th>852</th>\n",
       "      <td>2020-03-20</td>\n",
       "      <td>Forced vacation? Social distancing? Unemployed...</td>\n",
       "      <td>[33.8362, -117.89]</td>\n",
       "      <td>{'id': '0c2e6999105f8070', 'url': 'https://api...</td>\n",
       "      <td>False</td>\n",
       "      <td>[0, 236]</td>\n",
       "      <td>{'id': 767209483, 'id_str': '767209483', 'name...</td>\n",
       "      <td>1241068075425857541</td>\n",
       "      <td>{'hashtags': [{'text': 'chillin', 'indices': [...</td>\n",
       "      <td>True</td>\n",
       "      <td>en</td>\n",
       "      <td>-117.890000</td>\n",
       "      <td>33.836200</td>\n",
       "      <td>California</td>\n",
       "      <td>Orange County</td>\n",
       "    </tr>\n",
       "  </tbody>\n",
       "</table>\n",
       "</div>"
      ],
      "text/plain": [
       "     created_at                                          full_text  \\\n",
       "885  2020-03-20  Been having so much fun with these live stream...   \n",
       "866  2020-03-20  Should I get myself some Corona? @ CVS Pharmac...   \n",
       "852  2020-03-20  Forced vacation? Social distancing? Unemployed...   \n",
       "\n",
       "                              geo  \\\n",
       "885  [33.98902523, -118.35189342]   \n",
       "866  [37.67867687, -120.95931306]   \n",
       "852            [33.8362, -117.89]   \n",
       "\n",
       "                                                 place  truncated  \\\n",
       "885  {'id': '3b77caf94bfc81fe', 'url': 'https://api...      False   \n",
       "866  {'id': 'e41805d7248dbf1e', 'url': 'https://api...      False   \n",
       "852  {'id': '0c2e6999105f8070', 'url': 'https://api...      False   \n",
       "\n",
       "    display_text_range                                               user  \\\n",
       "885           [0, 237]  {'id': 202073462, 'id_str': '202073462', 'name...   \n",
       "866            [0, 71]  {'id': 19253082, 'id_str': '19253082', 'name':...   \n",
       "852           [0, 236]  {'id': 767209483, 'id_str': '767209483', 'name...   \n",
       "\n",
       "                      id                                           entities  \\\n",
       "885  1241080025371144192  {'hashtags': [{'text': 'live', 'indices': [168...   \n",
       "866  1241075581598433281  {'hashtags': [], 'symbols': [], 'user_mentions...   \n",
       "852  1241068075425857541  {'hashtags': [{'text': 'chillin', 'indices': [...   \n",
       "\n",
       "     possibly_sensitive lang   longitude   latitude       state  \\\n",
       "885               False   en -118.351893  33.989025  California   \n",
       "866               False   en -120.959313  37.678677  California   \n",
       "852                True   en -117.890000  33.836200  California   \n",
       "\n",
       "                 county  \n",
       "885  Los Angeles County  \n",
       "866   Stanislaus County  \n",
       "852       Orange County  "
      ]
     },
     "execution_count": 37,
     "metadata": {},
     "output_type": "execute_result"
    }
   ],
   "source": [
    "months_compiled_df.head(3)"
   ]
  },
  {
   "cell_type": "code",
   "execution_count": 38,
   "metadata": {},
   "outputs": [
    {
     "data": {
      "text/plain": [
       "17965"
      ]
     },
     "execution_count": 38,
     "metadata": {},
     "output_type": "execute_result"
    }
   ],
   "source": [
    "len(months_compiled_df)"
   ]
  }
 ],
 "metadata": {
  "kernelspec": {
   "display_name": "Python 3",
   "language": "python",
   "name": "python3"
  },
  "language_info": {
   "codemirror_mode": {
    "name": "ipython",
    "version": 3
   },
   "file_extension": ".py",
   "mimetype": "text/x-python",
   "name": "python",
   "nbconvert_exporter": "python",
   "pygments_lexer": "ipython3",
   "version": "3.7.0"
  }
 },
 "nbformat": 4,
 "nbformat_minor": 2
}
