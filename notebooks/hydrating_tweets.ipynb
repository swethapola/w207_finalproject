{
 "cells": [
  {
   "cell_type": "code",
   "execution_count": 1,
   "metadata": {},
   "outputs": [],
   "source": [
    "import pandas as pd\n",
    "import os"
   ]
  },
  {
   "cell_type": "code",
   "execution_count": 3,
   "metadata": {},
   "outputs": [
    {
     "data": {
      "text/plain": [
       "'/Users/akaashkambath/Akaash/gradSchool/firstTerm/w207/w207_finalproject/data/tweets_csv/'"
      ]
     },
     "execution_count": 3,
     "metadata": {},
     "output_type": "execute_result"
    }
   ],
   "source": [
    "tweets_csv_dir = os.getcwd() + '/data/tweets_csv/'\n",
    "tweets_csv_dir"
   ]
  },
  {
   "cell_type": "code",
   "execution_count": 5,
   "metadata": {},
   "outputs": [
    {
     "data": {
      "text/html": [
       "<div>\n",
       "<style scoped>\n",
       "    .dataframe tbody tr th:only-of-type {\n",
       "        vertical-align: middle;\n",
       "    }\n",
       "\n",
       "    .dataframe tbody tr th {\n",
       "        vertical-align: top;\n",
       "    }\n",
       "\n",
       "    .dataframe thead th {\n",
       "        text-align: right;\n",
       "    }\n",
       "</style>\n",
       "<table border=\"1\" class=\"dataframe\">\n",
       "  <thead>\n",
       "    <tr style=\"text-align: right;\">\n",
       "      <th></th>\n",
       "      <th>coordinates</th>\n",
       "      <th>created_at</th>\n",
       "      <th>hashtags</th>\n",
       "      <th>media</th>\n",
       "      <th>urls</th>\n",
       "      <th>favorite_count</th>\n",
       "      <th>id</th>\n",
       "      <th>in_reply_to_screen_name</th>\n",
       "      <th>in_reply_to_status_id</th>\n",
       "      <th>in_reply_to_user_id</th>\n",
       "      <th>...</th>\n",
       "      <th>user_followers_count</th>\n",
       "      <th>user_friends_count</th>\n",
       "      <th>user_listed_count</th>\n",
       "      <th>user_location</th>\n",
       "      <th>user_name</th>\n",
       "      <th>user_screen_name.1</th>\n",
       "      <th>user_statuses_count</th>\n",
       "      <th>user_time_zone</th>\n",
       "      <th>user_urls</th>\n",
       "      <th>user_verified</th>\n",
       "    </tr>\n",
       "  </thead>\n",
       "  <tbody>\n",
       "    <tr>\n",
       "      <th>0</th>\n",
       "      <td>36.77943,-1.29889</td>\n",
       "      <td>Wed Apr 01 09:01:18 +0000 2020</td>\n",
       "      <td>corona coronavirus covid stayhome</td>\n",
       "      <td>NaN</td>\n",
       "      <td>https://www.instagram.com/p/B-brG4pFTdp/?igshi...</td>\n",
       "      <td>0</td>\n",
       "      <td>1245275030956544002</td>\n",
       "      <td>NaN</td>\n",
       "      <td>NaN</td>\n",
       "      <td>NaN</td>\n",
       "      <td>...</td>\n",
       "      <td>6723</td>\n",
       "      <td>3</td>\n",
       "      <td>15</td>\n",
       "      <td>EAST AFRICA, WORLDWIDE</td>\n",
       "      <td>NDANAH MIQASSA</td>\n",
       "      <td>bandanahmiqassa</td>\n",
       "      <td>23042</td>\n",
       "      <td>NaN</td>\n",
       "      <td>https://youtu.be/0uu8AzxGmeI</td>\n",
       "      <td>False</td>\n",
       "    </tr>\n",
       "    <tr>\n",
       "      <th>1</th>\n",
       "      <td>6.12745379,49.64968784</td>\n",
       "      <td>Wed Apr 01 08:17:02 +0000 2020</td>\n",
       "      <td>actufoot football luxembourg</td>\n",
       "      <td>NaN</td>\n",
       "      <td>http://dlvr.it/RSy1bQ</td>\n",
       "      <td>0</td>\n",
       "      <td>1245263893682769921</td>\n",
       "      <td>NaN</td>\n",
       "      <td>NaN</td>\n",
       "      <td>NaN</td>\n",
       "      <td>...</td>\n",
       "      <td>395</td>\n",
       "      <td>89</td>\n",
       "      <td>8</td>\n",
       "      <td>Luxembourg</td>\n",
       "      <td>FuPa Luxembourg</td>\n",
       "      <td>fupalux</td>\n",
       "      <td>6243</td>\n",
       "      <td>NaN</td>\n",
       "      <td>http://www.fupa.net/luxemburg</td>\n",
       "      <td>False</td>\n",
       "    </tr>\n",
       "    <tr>\n",
       "      <th>2</th>\n",
       "      <td>-0.32863,51.2334699</td>\n",
       "      <td>Wed Apr 01 09:01:11 +0000 2020</td>\n",
       "      <td>homeschooling stayhome corona</td>\n",
       "      <td>NaN</td>\n",
       "      <td>https://www.instagram.com/p/B-brXf-hhna/?igshi...</td>\n",
       "      <td>0</td>\n",
       "      <td>1245275001563099136</td>\n",
       "      <td>NaN</td>\n",
       "      <td>NaN</td>\n",
       "      <td>NaN</td>\n",
       "      <td>...</td>\n",
       "      <td>79</td>\n",
       "      <td>193</td>\n",
       "      <td>0</td>\n",
       "      <td>NaN</td>\n",
       "      <td>Emilie-Kate Owen</td>\n",
       "      <td>emiliekateowen</td>\n",
       "      <td>236</td>\n",
       "      <td>NaN</td>\n",
       "      <td>NaN</td>\n",
       "      <td>False</td>\n",
       "    </tr>\n",
       "  </tbody>\n",
       "</table>\n",
       "<p>3 rows × 34 columns</p>\n",
       "</div>"
      ],
      "text/plain": [
       "              coordinates                      created_at  \\\n",
       "0       36.77943,-1.29889  Wed Apr 01 09:01:18 +0000 2020   \n",
       "1  6.12745379,49.64968784  Wed Apr 01 08:17:02 +0000 2020   \n",
       "2     -0.32863,51.2334699  Wed Apr 01 09:01:11 +0000 2020   \n",
       "\n",
       "                            hashtags media  \\\n",
       "0  corona coronavirus covid stayhome   NaN   \n",
       "1       actufoot football luxembourg   NaN   \n",
       "2      homeschooling stayhome corona   NaN   \n",
       "\n",
       "                                                urls  favorite_count  \\\n",
       "0  https://www.instagram.com/p/B-brG4pFTdp/?igshi...               0   \n",
       "1                              http://dlvr.it/RSy1bQ               0   \n",
       "2  https://www.instagram.com/p/B-brXf-hhna/?igshi...               0   \n",
       "\n",
       "                    id in_reply_to_screen_name  in_reply_to_status_id  \\\n",
       "0  1245275030956544002                     NaN                    NaN   \n",
       "1  1245263893682769921                     NaN                    NaN   \n",
       "2  1245275001563099136                     NaN                    NaN   \n",
       "\n",
       "   in_reply_to_user_id  ... user_followers_count user_friends_count  \\\n",
       "0                  NaN  ...                 6723                  3   \n",
       "1                  NaN  ...                  395                 89   \n",
       "2                  NaN  ...                   79                193   \n",
       "\n",
       "  user_listed_count           user_location         user_name  \\\n",
       "0                15  EAST AFRICA, WORLDWIDE    NDANAH MIQASSA   \n",
       "1                 8              Luxembourg   FuPa Luxembourg   \n",
       "2                 0                     NaN  Emilie-Kate Owen   \n",
       "\n",
       "   user_screen_name.1 user_statuses_count user_time_zone  \\\n",
       "0     bandanahmiqassa               23042            NaN   \n",
       "1             fupalux                6243            NaN   \n",
       "2      emiliekateowen                 236            NaN   \n",
       "\n",
       "                       user_urls user_verified  \n",
       "0   https://youtu.be/0uu8AzxGmeI         False  \n",
       "1  http://www.fupa.net/luxemburg         False  \n",
       "2                            NaN         False  \n",
       "\n",
       "[3 rows x 34 columns]"
      ]
     },
     "execution_count": 5,
     "metadata": {},
     "output_type": "execute_result"
    }
   ],
   "source": [
    "april_1_2 = pd.read_csv('data/tweets_csv/april1_april2.csv')\n",
    "april_1_2.head(3)"
   ]
  },
  {
   "cell_type": "code",
   "execution_count": 6,
   "metadata": {},
   "outputs": [
    {
     "data": {
      "text/plain": [
       "Index(['coordinates', 'created_at', 'hashtags', 'media', 'urls',\n",
       "       'favorite_count', 'id', 'in_reply_to_screen_name',\n",
       "       'in_reply_to_status_id', 'in_reply_to_user_id', 'lang', 'place',\n",
       "       'possibly_sensitive', 'retweet_count', 'retweet_id',\n",
       "       'retweet_screen_name', 'source', 'text', 'tweet_url', 'user_created_at',\n",
       "       'user_screen_name', 'user_default_profile_image', 'user_description',\n",
       "       'user_favourites_count', 'user_followers_count', 'user_friends_count',\n",
       "       'user_listed_count', 'user_location', 'user_name', 'user_screen_name.1',\n",
       "       'user_statuses_count', 'user_time_zone', 'user_urls', 'user_verified'],\n",
       "      dtype='object')"
      ]
     },
     "execution_count": 6,
     "metadata": {},
     "output_type": "execute_result"
    }
   ],
   "source": [
    "april_1_2.columns"
   ]
  },
  {
   "cell_type": "code",
   "execution_count": 12,
   "metadata": {},
   "outputs": [],
   "source": [
    "import twarc"
   ]
  },
  {
   "cell_type": "code",
   "execution_count": null,
   "metadata": {},
   "outputs": [],
   "source": []
  }
 ],
 "metadata": {
  "kernelspec": {
   "display_name": "Python 3",
   "language": "python",
   "name": "python3"
  },
  "language_info": {
   "codemirror_mode": {
    "name": "ipython",
    "version": 3
   },
   "file_extension": ".py",
   "mimetype": "text/x-python",
   "name": "python",
   "nbconvert_exporter": "python",
   "pygments_lexer": "ipython3",
   "version": "3.8.3"
  }
 },
 "nbformat": 4,
 "nbformat_minor": 2
}
