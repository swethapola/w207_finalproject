{
 "cells": [
  {
   "cell_type": "code",
   "execution_count": 70,
   "metadata": {
    "scrolled": false
   },
   "outputs": [],
   "source": [
    "import pandas as pd\n",
    "import os\n",
    "from twarc import Twarc\n",
    "import glob\n",
    "import numpy as np\n",
    "from sklearn.feature_extraction.text import CountVectorizer\n",
    "from sklearn.feature_extraction import DictVectorizer\n",
    "from sklearn.feature_extraction.text import TfidfTransformer\n",
    "from sklearn.feature_extraction.stop_words import ENGLISH_STOP_WORDS\n",
    "from sklearn.feature_extraction.text import TfidfVectorizer\n",
    "from sklearn.model_selection import train_test_split\n",
    "from sklearn import linear_model\n",
    "from sklearn.metrics import confusion_matrix\n",
    "from sklearn import svm\n",
    "import matplotlib.pyplot as plt\n",
    "from sklearn.naive_bayes import MultinomialNB\n",
    "import itertools\n",
    "import seaborn as sn\n",
    "from textblob import TextBlob\n",
    "\n",
    "# warning\n",
    "import warnings\n",
    "warnings.filterwarnings(\"ignore\")"
   ]
  },
  {
   "cell_type": "code",
   "execution_count": 5,
   "metadata": {},
   "outputs": [],
   "source": [
    "twitter_consumer_key = 'ZjhIda3R2URBVWLIa6y7AZNwZ'\n",
    "twitter_consumer_secret = '9BRczF1KCEQlHvZWdlJPYFhhuEkRqNe5mKBdNgWvKQXdzOx00b'\n",
    "twitter_access_token = '3243547069-9qDXRsMNaJSfCwYg2yIMRDyhSoqMXaM2Da6oxKK'\n",
    "twitter_access_secret = 'Ota9ggjkJM1S14kPc8IPX3gRYqJGMmfqQ6zR3hoR1nPKX'"
   ]
  },
  {
   "cell_type": "code",
   "execution_count": 6,
   "metadata": {},
   "outputs": [],
   "source": [
    "# Create the twarc object using the credentials above to hydrate tweets below\n",
    "# t = Twarc(consumer_key=twitter_consumer_key, consumer_secret=twitter_consumer_secret, \n",
    "#           access_token=twitter_access_token, access_token_secret=twitter_access_secret)\n",
    "# t"
   ]
  },
  {
   "cell_type": "markdown",
   "metadata": {},
   "source": [
    "## Code for hydrating (no need to run)"
   ]
  },
  {
   "cell_type": "code",
   "execution_count": 7,
   "metadata": {},
   "outputs": [],
   "source": [
    "# For each cleaned CSV of tweet ids, hydrate it & create a df. Then append it to a larger df containing all the\n",
    "# tweets that have been hydrated so far.\n",
    "\n",
    "# Running this cell takes close to 45 minutes, because there are 251,395 total tweets to hydrate, and\n",
    "# the Twitter API hydrates at a rate of 360,000 tweets per hour.\n",
    "\n",
    "# NOTE: This cell doesn't need to be run because the tweets have already been hydrated. This cell\n",
    "# hydrates all the tweets into one massive df, and then after cleaning the df a bit,\n",
    "# it is converted into a final CSV file.\n",
    "\n",
    "# tweets_df = pd.DataFrame()\n",
    "# path = \"data/clean_data/*.csv\"\n",
    "# for clean_data_csv in glob.glob(path):\n",
    "#     tweet_list = list(t.hydrate(open(clean_data_csv)))\n",
    "#     tweet_df = pd.DataFrame(data=tweet_list)\n",
    "#     tweets_df = tweets_df.append(tweet_df)"
   ]
  },
  {
   "cell_type": "markdown",
   "metadata": {},
   "source": [
    "# Old - code used to create the slightly cleaned CSV"
   ]
  },
  {
   "cell_type": "code",
   "execution_count": 60,
   "metadata": {
    "scrolled": false
   },
   "outputs": [
    {
     "data": {
      "text/html": [
       "<div>\n",
       "<style scoped>\n",
       "    .dataframe tbody tr th:only-of-type {\n",
       "        vertical-align: middle;\n",
       "    }\n",
       "\n",
       "    .dataframe tbody tr th {\n",
       "        vertical-align: top;\n",
       "    }\n",
       "\n",
       "    .dataframe thead th {\n",
       "        text-align: right;\n",
       "    }\n",
       "</style>\n",
       "<table border=\"1\" class=\"dataframe\">\n",
       "  <thead>\n",
       "    <tr style=\"text-align: right;\">\n",
       "      <th></th>\n",
       "      <th>created_at</th>\n",
       "      <th>full_text</th>\n",
       "      <th>geo</th>\n",
       "      <th>place</th>\n",
       "      <th>truncated</th>\n",
       "      <th>display_text_range</th>\n",
       "      <th>user</th>\n",
       "      <th>id</th>\n",
       "      <th>entities</th>\n",
       "      <th>possibly_sensitive</th>\n",
       "      <th>lang</th>\n",
       "    </tr>\n",
       "  </thead>\n",
       "  <tbody>\n",
       "    <tr>\n",
       "      <th>0</th>\n",
       "      <td>2020-03-19 19:53:17</td>\n",
       "      <td>#statewaterheaters #getitin #corona #keepingpeoplesafe #plumber #pickeringtonohio new water heater swap out @ Pickerington, Ohio https://t.co/fMcPtH88m4</td>\n",
       "      <td>{'type': 'Point', 'coordinates': [39.8841, -82.759]}</td>\n",
       "      <td>{'id': '3995cc1483801d24', 'url': 'https://api.twitter.com/1.1/geo/id/3995cc1483801d24.json', 'place_type': 'city', 'name': 'Pickerington', 'full_name': 'Pickerington, OH', 'country_code': 'US', 'country': 'United States', 'contained_within': [], 'bounding_box': {'type': 'Polygon', 'coordinates': [[[-82.797752, 39.841431], [-82.684335, 39.841431], [-82.684335, 39.939034], [-82.797752, 39.939034]]]}, 'attributes': {}}</td>\n",
       "      <td>False</td>\n",
       "      <td>[0, 152]</td>\n",
       "      <td>{'id': 169711005, 'id_str': '169711005', 'name': 'David A Hesson', 'screen_name': 'hessonplumbing', 'location': 'ohio', 'description': '', 'url': 'https://t.co/uks1jwtN2r', 'entities': {'url': {'urls': [{'url': 'https://t.co/uks1jwtN2r', 'expanded_url': 'http://hessonplumbing.com', 'display_url': 'hessonplumbing.com', 'indices': [0, 23]}]}, 'description': {'urls': []}}, 'protected': False, 'followers_count': 18, 'friends_count': 19, 'listed_count': 0, 'created_at': 'Fri Jul 23 00:18:48 +0000 2010', 'favourites_count': 28, 'utc_offset': None, 'time_zone': None, 'geo_enabled': True, 'verified': False, 'statuses_count': 696, 'lang': None, 'contributors_enabled': False, 'is_translator': False, 'is_translation_enabled': False, 'profile_background_color': 'C0DEED', 'profile_background_image_url': 'http://abs.twimg.com/images/themes/theme1/bg.png', 'profile_background_image_url_https': 'https://abs.twimg.com/images/themes/theme1/bg.png', 'profile_background_tile': True, 'profile_image_url': 'http://pbs.twimg.com/profile_images/1284683783002902529/yyxQR0Hr_normal.jpg', 'profile_image_url_https': 'https://pbs.twimg.com/profile_images/1284683783002902529/yyxQR0Hr_normal.jpg', 'profile_banner_url': 'https://pbs.twimg.com/profile_banners/169711005/1542916153', 'profile_image_extensions_alt_text': None, 'profile_banner_extensions_alt_text': None, 'profile_link_color': '1B95E0', 'profile_sidebar_border_color': 'C0DEED', 'profile_sidebar_fill_color': 'DDEEF6', 'profile_text_color': '333333', 'profile_use_background_image': True, 'has_extended_profile': False, 'default_profile': False, 'default_profile_image': False, 'following': False, 'follow_request_sent': False, 'notifications': False, 'translator_type': 'none'}</td>\n",
       "      <td>1240728065983959040</td>\n",
       "      <td>{'hashtags': [{'text': 'statewaterheaters', 'indices': [0, 18]}, {'text': 'getitin', 'indices': [19, 27]}, {'text': 'corona', 'indices': [28, 35]}, {'text': 'keepingpeoplesafe', 'indices': [36, 54]}, {'text': 'plumber', 'indices': [55, 63]}, {'text': 'pickeringtonohio', 'indices': [64, 81]}], 'symbols': [], 'user_mentions': [], 'urls': [{'url': 'https://t.co/fMcPtH88m4', 'expanded_url': 'https://www.instagram.com/p/B97XqQvJJJD/?igshid=h6pxa1d1cjr7', 'display_url': 'instagram.com/p/B97XqQvJJJD/…', 'indices': [129, 152]}]}</td>\n",
       "      <td>False</td>\n",
       "      <td>en</td>\n",
       "    </tr>\n",
       "  </tbody>\n",
       "</table>\n",
       "</div>"
      ],
      "text/plain": [
       "            created_at  \\\n",
       "0  2020-03-19 19:53:17   \n",
       "\n",
       "                                                                                                                                                  full_text  \\\n",
       "0  #statewaterheaters #getitin #corona #keepingpeoplesafe #plumber #pickeringtonohio new water heater swap out @ Pickerington, Ohio https://t.co/fMcPtH88m4   \n",
       "\n",
       "                                                    geo  \\\n",
       "0  {'type': 'Point', 'coordinates': [39.8841, -82.759]}   \n",
       "\n",
       "                                                                                                                                                                                                                                                                                                                                                                                                                                  place  \\\n",
       "0  {'id': '3995cc1483801d24', 'url': 'https://api.twitter.com/1.1/geo/id/3995cc1483801d24.json', 'place_type': 'city', 'name': 'Pickerington', 'full_name': 'Pickerington, OH', 'country_code': 'US', 'country': 'United States', 'contained_within': [], 'bounding_box': {'type': 'Polygon', 'coordinates': [[[-82.797752, 39.841431], [-82.684335, 39.841431], [-82.684335, 39.939034], [-82.797752, 39.939034]]]}, 'attributes': {}}   \n",
       "\n",
       "  truncated display_text_range  \\\n",
       "0     False           [0, 152]   \n",
       "\n",
       "                                                                                                                                                                                                                                                                                                                                                                                                                                                                                                                                                                                                                                                                                                                                                                                                                                                                                                                                                                                                                                                                                                                                                                                                                                                                                                                                                                                                                                                                                                                                                                                                                                                                                                                                                                                                user  \\\n",
       "0  {'id': 169711005, 'id_str': '169711005', 'name': 'David A Hesson', 'screen_name': 'hessonplumbing', 'location': 'ohio', 'description': '', 'url': 'https://t.co/uks1jwtN2r', 'entities': {'url': {'urls': [{'url': 'https://t.co/uks1jwtN2r', 'expanded_url': 'http://hessonplumbing.com', 'display_url': 'hessonplumbing.com', 'indices': [0, 23]}]}, 'description': {'urls': []}}, 'protected': False, 'followers_count': 18, 'friends_count': 19, 'listed_count': 0, 'created_at': 'Fri Jul 23 00:18:48 +0000 2010', 'favourites_count': 28, 'utc_offset': None, 'time_zone': None, 'geo_enabled': True, 'verified': False, 'statuses_count': 696, 'lang': None, 'contributors_enabled': False, 'is_translator': False, 'is_translation_enabled': False, 'profile_background_color': 'C0DEED', 'profile_background_image_url': 'http://abs.twimg.com/images/themes/theme1/bg.png', 'profile_background_image_url_https': 'https://abs.twimg.com/images/themes/theme1/bg.png', 'profile_background_tile': True, 'profile_image_url': 'http://pbs.twimg.com/profile_images/1284683783002902529/yyxQR0Hr_normal.jpg', 'profile_image_url_https': 'https://pbs.twimg.com/profile_images/1284683783002902529/yyxQR0Hr_normal.jpg', 'profile_banner_url': 'https://pbs.twimg.com/profile_banners/169711005/1542916153', 'profile_image_extensions_alt_text': None, 'profile_banner_extensions_alt_text': None, 'profile_link_color': '1B95E0', 'profile_sidebar_border_color': 'C0DEED', 'profile_sidebar_fill_color': 'DDEEF6', 'profile_text_color': '333333', 'profile_use_background_image': True, 'has_extended_profile': False, 'default_profile': False, 'default_profile_image': False, 'following': False, 'follow_request_sent': False, 'notifications': False, 'translator_type': 'none'}   \n",
       "\n",
       "                    id  \\\n",
       "0  1240728065983959040   \n",
       "\n",
       "                                                                                                                                                                                                                                                                                                                                                                                                                                                                                                                                         entities  \\\n",
       "0  {'hashtags': [{'text': 'statewaterheaters', 'indices': [0, 18]}, {'text': 'getitin', 'indices': [19, 27]}, {'text': 'corona', 'indices': [28, 35]}, {'text': 'keepingpeoplesafe', 'indices': [36, 54]}, {'text': 'plumber', 'indices': [55, 63]}, {'text': 'pickeringtonohio', 'indices': [64, 81]}], 'symbols': [], 'user_mentions': [], 'urls': [{'url': 'https://t.co/fMcPtH88m4', 'expanded_url': 'https://www.instagram.com/p/B97XqQvJJJD/?igshid=h6pxa1d1cjr7', 'display_url': 'instagram.com/p/B97XqQvJJJD/…', 'indices': [129, 152]}]}   \n",
       "\n",
       "  possibly_sensitive lang  \n",
       "0              False   en  "
      ]
     },
     "execution_count": 60,
     "metadata": {},
     "output_type": "execute_result"
    }
   ],
   "source": [
    "# Take columns that we think we will use\n",
    "tw = tweets.loc[:, ['created_at', 'full_text', 'geo', 'truncated', 'display_text_range', 'user', 'id', 'entities', 'possibly_sensitive', 'lang']]\n",
    "tw.head(1)"
   ]
  },
  {
   "cell_type": "code",
   "execution_count": 61,
   "metadata": {},
   "outputs": [],
   "source": [
    "tw['truncated'] = tw.truncated.astype(bool)\n",
    "tw['possibly_sensitive'] = tw.possibly_sensitive.astype(bool)"
   ]
  },
  {
   "cell_type": "code",
   "execution_count": 62,
   "metadata": {},
   "outputs": [
    {
     "data": {
      "text/plain": [
       "created_at              0\n",
       "full_text               0\n",
       "geo                   125\n",
       "place                 615\n",
       "truncated               0\n",
       "display_text_range      4\n",
       "user                    2\n",
       "id                      0\n",
       "entities                4\n",
       "possibly_sensitive      0\n",
       "lang                    4\n",
       "dtype: int64"
      ]
     },
     "execution_count": 62,
     "metadata": {},
     "output_type": "execute_result"
    }
   ],
   "source": [
    "tw.isna().sum()"
   ]
  },
  {
   "cell_type": "code",
   "execution_count": 63,
   "metadata": {},
   "outputs": [
    {
     "name": "stdout",
     "output_type": "stream",
     "text": [
      "<class 'pandas.core.frame.DataFrame'>\n",
      "RangeIndex: 251395 entries, 0 to 251394\n",
      "Data columns (total 11 columns):\n",
      " #   Column              Non-Null Count   Dtype \n",
      "---  ------              --------------   ----- \n",
      " 0   created_at          251395 non-null  object\n",
      " 1   full_text           251395 non-null  object\n",
      " 2   geo                 251270 non-null  object\n",
      " 3   place               250780 non-null  object\n",
      " 4   truncated           251395 non-null  bool  \n",
      " 5   display_text_range  251391 non-null  object\n",
      " 6   user                251393 non-null  object\n",
      " 7   id                  251395 non-null  object\n",
      " 8   entities            251391 non-null  object\n",
      " 9   possibly_sensitive  251395 non-null  bool  \n",
      " 10  lang                251391 non-null  object\n",
      "dtypes: bool(2), object(9)\n",
      "memory usage: 1.3 GB\n"
     ]
    }
   ],
   "source": [
    "tw.info(memory_usage='deep')"
   ]
  },
  {
   "cell_type": "code",
   "execution_count": 64,
   "metadata": {},
   "outputs": [],
   "source": [
    "# Export the df of tweets as a CSV file in the data directory\n",
    "tw.to_csv((\"../data/tweets_slightly_cleaned.csv\"), index=False)"
   ]
  },
  {
   "cell_type": "code",
   "execution_count": 65,
   "metadata": {
    "scrolled": false
   },
   "outputs": [
    {
     "name": "stderr",
     "output_type": "stream",
     "text": [
      "/usr/local/lib/python3.7/site-packages/IPython/core/interactiveshell.py:3020: DtypeWarning: Columns (7) have mixed types.Specify dtype option on import or set low_memory=False.\n",
      "  interactivity=interactivity, compiler=compiler, result=result)\n"
     ]
    },
    {
     "data": {
      "text/html": [
       "<div>\n",
       "<style scoped>\n",
       "    .dataframe tbody tr th:only-of-type {\n",
       "        vertical-align: middle;\n",
       "    }\n",
       "\n",
       "    .dataframe tbody tr th {\n",
       "        vertical-align: top;\n",
       "    }\n",
       "\n",
       "    .dataframe thead th {\n",
       "        text-align: right;\n",
       "    }\n",
       "</style>\n",
       "<table border=\"1\" class=\"dataframe\">\n",
       "  <thead>\n",
       "    <tr style=\"text-align: right;\">\n",
       "      <th></th>\n",
       "      <th>created_at</th>\n",
       "      <th>full_text</th>\n",
       "      <th>geo</th>\n",
       "      <th>place</th>\n",
       "      <th>truncated</th>\n",
       "      <th>display_text_range</th>\n",
       "      <th>user</th>\n",
       "      <th>id</th>\n",
       "      <th>entities</th>\n",
       "      <th>possibly_sensitive</th>\n",
       "      <th>lang</th>\n",
       "    </tr>\n",
       "  </thead>\n",
       "  <tbody>\n",
       "    <tr>\n",
       "      <th>0</th>\n",
       "      <td>2020-03-19 19:53:17</td>\n",
       "      <td>#statewaterheaters #getitin #corona #keepingpeoplesafe #plumber #pickeringtonohio new water heater swap out @ Pickerington, Ohio https://t.co/fMcPtH88m4</td>\n",
       "      <td>{'type': 'Point', 'coordinates': [39.8841, -82.759]}</td>\n",
       "      <td>{'id': '3995cc1483801d24', 'url': 'https://api.twitter.com/1.1/geo/id/3995cc1483801d24.json', 'place_type': 'city', 'name': 'Pickerington', 'full_name': 'Pickerington, OH', 'country_code': 'US', 'country': 'United States', 'contained_within': [], 'bounding_box': {'type': 'Polygon', 'coordinates': [[[-82.797752, 39.841431], [-82.684335, 39.841431], [-82.684335, 39.939034], [-82.797752, 39.939034]]]}, 'attributes': {}}</td>\n",
       "      <td>False</td>\n",
       "      <td>[0, 152]</td>\n",
       "      <td>{'id': 169711005, 'id_str': '169711005', 'name': 'David A Hesson', 'screen_name': 'hessonplumbing', 'location': 'ohio', 'description': '', 'url': 'https://t.co/uks1jwtN2r', 'entities': {'url': {'urls': [{'url': 'https://t.co/uks1jwtN2r', 'expanded_url': 'http://hessonplumbing.com', 'display_url': 'hessonplumbing.com', 'indices': [0, 23]}]}, 'description': {'urls': []}}, 'protected': False, 'followers_count': 18, 'friends_count': 19, 'listed_count': 0, 'created_at': 'Fri Jul 23 00:18:48 +0000 2010', 'favourites_count': 28, 'utc_offset': None, 'time_zone': None, 'geo_enabled': True, 'verified': False, 'statuses_count': 696, 'lang': None, 'contributors_enabled': False, 'is_translator': False, 'is_translation_enabled': False, 'profile_background_color': 'C0DEED', 'profile_background_image_url': 'http://abs.twimg.com/images/themes/theme1/bg.png', 'profile_background_image_url_https': 'https://abs.twimg.com/images/themes/theme1/bg.png', 'profile_background_tile': True, 'profile_image_url': 'http://pbs.twimg.com/profile_images/1284683783002902529/yyxQR0Hr_normal.jpg', 'profile_image_url_https': 'https://pbs.twimg.com/profile_images/1284683783002902529/yyxQR0Hr_normal.jpg', 'profile_banner_url': 'https://pbs.twimg.com/profile_banners/169711005/1542916153', 'profile_image_extensions_alt_text': None, 'profile_banner_extensions_alt_text': None, 'profile_link_color': '1B95E0', 'profile_sidebar_border_color': 'C0DEED', 'profile_sidebar_fill_color': 'DDEEF6', 'profile_text_color': '333333', 'profile_use_background_image': True, 'has_extended_profile': False, 'default_profile': False, 'default_profile_image': False, 'following': False, 'follow_request_sent': False, 'notifications': False, 'translator_type': 'none'}</td>\n",
       "      <td>1240728065983959040</td>\n",
       "      <td>{'hashtags': [{'text': 'statewaterheaters', 'indices': [0, 18]}, {'text': 'getitin', 'indices': [19, 27]}, {'text': 'corona', 'indices': [28, 35]}, {'text': 'keepingpeoplesafe', 'indices': [36, 54]}, {'text': 'plumber', 'indices': [55, 63]}, {'text': 'pickeringtonohio', 'indices': [64, 81]}], 'symbols': [], 'user_mentions': [], 'urls': [{'url': 'https://t.co/fMcPtH88m4', 'expanded_url': 'https://www.instagram.com/p/B97XqQvJJJD/?igshid=h6pxa1d1cjr7', 'display_url': 'instagram.com/p/B97XqQvJJJD/…', 'indices': [129, 152]}]}</td>\n",
       "      <td>False</td>\n",
       "      <td>en</td>\n",
       "    </tr>\n",
       "    <tr>\n",
       "      <th>1</th>\n",
       "      <td>2020-03-19 19:53:46</td>\n",
       "      <td>\"ain't no humans outside! (corona!)\" 😂😂😂🤣 @ Cleveland, Ohio https://t.co/1i7cIsrITb</td>\n",
       "      <td>{'type': 'Point', 'coordinates': [41.4996, -81.6937]}</td>\n",
       "      <td>{'id': '0eb9676d24b211f1', 'url': 'https://api.twitter.com/1.1/geo/id/0eb9676d24b211f1.json', 'place_type': 'city', 'name': 'Cleveland', 'full_name': 'Cleveland, OH', 'country_code': 'US', 'country': 'United States', 'contained_within': [], 'bounding_box': {'type': 'Polygon', 'coordinates': [[[-81.877771, 41.392684], [-81.5331634, 41.392684], [-81.5331634, 41.599195], [-81.877771, 41.599195]]]}, 'attributes': {}}</td>\n",
       "      <td>False</td>\n",
       "      <td>[0, 83]</td>\n",
       "      <td>{'id': 29464656, 'id_str': '29464656', 'name': '®oSs', 'screen_name': 'Mycox_Little', 'location': 'Simple Pleasures Lane', 'description': \"sarcastic as fuck dude I'm NOT lookin 4 nothin jus keepin up w/&amp; meetin new folks welcome 2 MY 🌎\", 'url': 'https://t.co/zQjwMvzkyr', 'entities': {'url': {'urls': [{'url': 'https://t.co/zQjwMvzkyr', 'expanded_url': 'http://www.hottross.com', 'display_url': 'hottross.com', 'indices': [0, 23]}]}, 'description': {'urls': []}}, 'protected': False, 'followers_count': 204, 'friends_count': 867, 'listed_count': 5, 'created_at': 'Tue Apr 07 15:00:38 +0000 2009', 'favourites_count': 1898, 'utc_offset': None, 'time_zone': None, 'geo_enabled': True, 'verified': False, 'statuses_count': 22988, 'lang': None, 'contributors_enabled': False, 'is_translator': False, 'is_translation_enabled': False, 'profile_background_color': '9AE4E8', 'profile_background_image_url': 'http://abs.twimg.com/images/themes/theme1/bg.png', 'profile_background_image_url_https': 'https://abs.twimg.com/images/themes/theme1/bg.png', 'profile_background_tile': True, 'profile_image_url': 'http://pbs.twimg.com/profile_images/1290093193179148288/SWQURAS__normal.jpg', 'profile_image_url_https': 'https://pbs.twimg.com/profile_images/1290093193179148288/SWQURAS__normal.jpg', 'profile_banner_url': 'https://pbs.twimg.com/profile_banners/29464656/1409808479', 'profile_image_extensions_alt_text': None, 'profile_banner_extensions_alt_text': None, 'profile_link_color': '176B17', 'profile_sidebar_border_color': 'BDDCAD', 'profile_sidebar_fill_color': 'DDFFCC', 'profile_text_color': 'D41111', 'profile_use_background_image': True, 'has_extended_profile': True, 'default_profile': False, 'default_profile_image': False, 'following': False, 'follow_request_sent': False, 'notifications': False, 'translator_type': 'none'}</td>\n",
       "      <td>1240728187136610306</td>\n",
       "      <td>{'hashtags': [], 'symbols': [], 'user_mentions': [], 'urls': [{'url': 'https://t.co/1i7cIsrITb', 'expanded_url': 'https://www.instagram.com/p/B97XsjLhLtZL1nUKOKq1Vss3QddK3LkkEbo7Ok0/?igshid=1qdi3g1a18esr', 'display_url': 'instagram.com/p/B97XsjLhLtZL…', 'indices': [60, 83]}]}</td>\n",
       "      <td>False</td>\n",
       "      <td>en</td>\n",
       "    </tr>\n",
       "    <tr>\n",
       "      <th>2</th>\n",
       "      <td>2020-03-19 19:53:54</td>\n",
       "      <td>Salam Friends\\nLooking at the grave financial situation of middle &amp;amp; lower class household in Karachi developed due to Corona threat, we are planning to take some initiative.\\nIdeas required… https://t.co/uC60hpxYDj</td>\n",
       "      <td>{'type': 'Point', 'coordinates': [24.86, 67.01]}</td>\n",
       "      <td>{'id': '01aadce76841e2c5', 'url': 'https://api.twitter.com/1.1/geo/id/01aadce76841e2c5.json', 'place_type': 'city', 'name': 'Karachi', 'full_name': 'Karachi, Pakistan', 'country_code': 'PK', 'country': 'Pakistan', 'contained_within': [], 'bounding_box': {'type': 'Polygon', 'coordinates': [[[66.95121, 24.802239], [67.133179, 24.802239], [67.133179, 25.007912], [66.95121, 25.007912]]]}, 'attributes': {}}</td>\n",
       "      <td>False</td>\n",
       "      <td>[0, 216]</td>\n",
       "      <td>{'id': 3180254803, 'id_str': '3180254803', 'name': 'وجاہت علی شاہ', 'screen_name': 'Balishoo999', 'location': 'Karachi, Pakistan', 'description': '\\u200f🌹 اللَّهُمَّ صَلِّ عَلَى مُحَمَّدٍ وَعَلَى آلِ مُحَمَّدٍ وعَجِّلْ فَرَجَهُمْ🌹\\nFuture Developer 💻', 'url': None, 'entities': {'description': {'urls': []}}, 'protected': False, 'followers_count': 178, 'friends_count': 331, 'listed_count': 1, 'created_at': 'Thu Apr 30 05:00:55 +0000 2015', 'favourites_count': 847, 'utc_offset': None, 'time_zone': None, 'geo_enabled': True, 'verified': False, 'statuses_count': 1469, 'lang': None, 'contributors_enabled': False, 'is_translator': False, 'is_translation_enabled': False, 'profile_background_color': 'C0DEED', 'profile_background_image_url': 'http://abs.twimg.com/images/themes/theme1/bg.png', 'profile_background_image_url_https': 'https://abs.twimg.com/images/themes/theme1/bg.png', 'profile_background_tile': False, 'profile_image_url': 'http://pbs.twimg.com/profile_images/1323324108344610818/sTNKU1XW_normal.jpg', 'profile_image_url_https': 'https://pbs.twimg.com/profile_images/1323324108344610818/sTNKU1XW_normal.jpg', 'profile_banner_url': 'https://pbs.twimg.com/profile_banners/3180254803/1521368567', 'profile_image_extensions_alt_text': None, 'profile_banner_extensions_alt_text': None, 'profile_link_color': '1DA1F2', 'profile_sidebar_border_color': 'C0DEED', 'profile_sidebar_fill_color': 'DDEEF6', 'profile_text_color': '333333', 'profile_use_background_image': True, 'has_extended_profile': True, 'default_profile': True, 'default_profile_image': False, 'following': False, 'follow_request_sent': False, 'notifications': False, 'translator_type': 'none'}</td>\n",
       "      <td>1240728221986906113</td>\n",
       "      <td>{'hashtags': [], 'symbols': [], 'user_mentions': [], 'urls': [{'url': 'https://t.co/uC60hpxYDj', 'expanded_url': 'https://www.instagram.com/p/B97Xu5Mnql_h9vzuqo3yHXs3qiZEbtckRwdmsI0/?igshid=1g4vq3ak0d5kz', 'display_url': 'instagram.com/p/B97Xu5Mnql_h…', 'indices': [193, 216]}]}</td>\n",
       "      <td>False</td>\n",
       "      <td>en</td>\n",
       "    </tr>\n",
       "    <tr>\n",
       "      <th>3</th>\n",
       "      <td>2020-03-19 19:54:27</td>\n",
       "      <td>Thanks to COVID19 we are under unprecedented levels of stress. Thanks to corona, my Seanie was denied boarding in Paris before heading to Abidjan on 10-week contract. He unexpectedly… https://t.co/M1yzRvLftL</td>\n",
       "      <td>{'type': 'Point', 'coordinates': [-26.46984747, 28.02985028]}</td>\n",
       "      <td>{'id': '7db53e74bdc6007e', 'url': 'https://api.twitter.com/1.1/geo/id/7db53e74bdc6007e.json', 'place_type': 'city', 'name': 'Walkerville', 'full_name': 'Walkerville, South Africa', 'country_code': 'ZA', 'country': 'South Africa', 'contained_within': [], 'bounding_box': {'type': 'Polygon', 'coordinates': [[[27.8931563, -26.554172], [28.0783242, -26.554172], [28.0783242, -26.3351529], [27.8931563, -26.3351529]]]}, 'attributes': {}}</td>\n",
       "      <td>False</td>\n",
       "      <td>[0, 207]</td>\n",
       "      <td>{'id': 39557009, 'id_str': '39557009', 'name': 'Liezl Gericke', 'screen_name': 'LiezlGericke', 'location': 'South Africa', 'description': 'Virgin Atlantic - Head of Middle East, Africa and India', 'url': None, 'entities': {'description': {'urls': []}}, 'protected': False, 'followers_count': 435, 'friends_count': 151, 'listed_count': 7, 'created_at': 'Tue May 12 18:09:52 +0000 2009', 'favourites_count': 1689, 'utc_offset': None, 'time_zone': None, 'geo_enabled': True, 'verified': False, 'statuses_count': 1812, 'lang': None, 'contributors_enabled': False, 'is_translator': False, 'is_translation_enabled': False, 'profile_background_color': 'C0DEED', 'profile_background_image_url': 'http://abs.twimg.com/images/themes/theme1/bg.png', 'profile_background_image_url_https': 'https://abs.twimg.com/images/themes/theme1/bg.png', 'profile_background_tile': False, 'profile_image_url': 'http://pbs.twimg.com/profile_images/378800000648483256/90c1bc01f5a8e0e0ee19ef4c9989fd9d_normal.jpeg', 'profile_image_url_https': 'https://pbs.twimg.com/profile_images/378800000648483256/90c1bc01f5a8e0e0ee19ef4c9989fd9d_normal.jpeg', 'profile_image_extensions_alt_text': None, 'profile_link_color': '1DA1F2', 'profile_sidebar_border_color': 'C0DEED', 'profile_sidebar_fill_color': 'DDEEF6', 'profile_text_color': '333333', 'profile_use_background_image': True, 'has_extended_profile': False, 'default_profile': True, 'default_profile_image': False, 'following': False, 'follow_request_sent': False, 'notifications': False, 'translator_type': 'none'}</td>\n",
       "      <td>1240728361556750338</td>\n",
       "      <td>{'hashtags': [], 'symbols': [], 'user_mentions': [], 'urls': [{'url': 'https://t.co/M1yzRvLftL', 'expanded_url': 'https://www.instagram.com/p/B97XyyunUsePbT0nPIDbVodufS7m9ZrVdE7CsI0/?igshid=g4ks2qzgoewo', 'display_url': 'instagram.com/p/B97XyyunUseP…', 'indices': [184, 207]}]}</td>\n",
       "      <td>False</td>\n",
       "      <td>en</td>\n",
       "    </tr>\n",
       "    <tr>\n",
       "      <th>4</th>\n",
       "      <td>2020-03-19 19:55:33</td>\n",
       "      <td>#tbt to the current #anime that I'm rewatching with the #corona threat keeping us home \\n\\n#codegeass #lelouchoftherebellion \\nOn @netflix \\n\\n#theyze #Wolf #africa @ Africa https://t.co/5rdBOhrRSq</td>\n",
       "      <td>{'type': 'Point', 'coordinates': [1.0, 17.0]}</td>\n",
       "      <td>{'id': '00893962665a2284', 'url': 'https://api.twitter.com/1.1/geo/id/00893962665a2284.json', 'place_type': 'admin', 'name': 'Likouala', 'full_name': 'Likouala, Congo', 'country_code': 'CG', 'country': 'Congo Brazzaville', 'contained_within': [], 'bounding_box': {'type': 'Polygon', 'coordinates': [[[16.450258, -0.7840179], [18.66035, -0.7840179], [18.66035, 3.7060414], [16.450258, 3.7060414]]]}, 'attributes': {}}</td>\n",
       "      <td>False</td>\n",
       "      <td>[0, 192]</td>\n",
       "      <td>{'id': 2923230219, 'id_str': '2923230219', 'name': 'The Yze', 'screen_name': 'Therealyze', 'location': 'Pretoria, South Africa', 'description': 'The official Twitter page of The Yze.🇿🇦\\nSouth African Afro-Soul Rap artist and songwriter 🇿🇦 born and bred in Pretoria 🇿🇦 bookings: therealyze@gmail.com', 'url': 'https://t.co/X3Jgx4LBGG', 'entities': {'url': {'urls': [{'url': 'https://t.co/X3Jgx4LBGG', 'expanded_url': 'https://linktr.ee/theyze', 'display_url': 'linktr.ee/theyze', 'indices': [0, 23]}]}, 'description': {'urls': []}}, 'protected': False, 'followers_count': 92, 'friends_count': 211, 'listed_count': 0, 'created_at': 'Mon Dec 15 17:32:46 +0000 2014', 'favourites_count': 537, 'utc_offset': None, 'time_zone': None, 'geo_enabled': True, 'verified': False, 'statuses_count': 1751, 'lang': None, 'contributors_enabled': False, 'is_translator': False, 'is_translation_enabled': False, 'profile_background_color': 'C0DEED', 'profile_background_image_url': 'http://abs.twimg.com/images/themes/theme1/bg.png', 'profile_background_image_url_https': 'https://abs.twimg.com/images/themes/theme1/bg.png', 'profile_background_tile': False, 'profile_image_url': 'http://pbs.twimg.com/profile_images/1184199626880180224/jiHFvE3K_normal.jpg', 'profile_image_url_https': 'https://pbs.twimg.com/profile_images/1184199626880180224/jiHFvE3K_normal.jpg', 'profile_banner_url': 'https://pbs.twimg.com/profile_banners/2923230219/1588288127', 'profile_image_extensions_alt_text': None, 'profile_banner_extensions_alt_text': None, 'profile_link_color': '1DA1F2', 'profile_sidebar_border_color': 'C0DEED', 'profile_sidebar_fill_color': 'DDEEF6', 'profile_text_color': '333333', 'profile_use_background_image': True, 'has_extended_profile': True, 'default_profile': True, 'default_profile_image': False, 'following': False, 'follow_request_sent': False, 'notifications': False, 'translator_type': 'none'}</td>\n",
       "      <td>1240728639358017536</td>\n",
       "      <td>{'hashtags': [{'text': 'tbt', 'indices': [0, 4]}, {'text': 'anime', 'indices': [20, 26]}, {'text': 'corona', 'indices': [56, 63]}, {'text': 'codegeass', 'indices': [89, 99]}, {'text': 'lelouchoftherebellion', 'indices': [100, 122]}, {'text': 'theyze', 'indices': [138, 145]}, {'text': 'Wolf', 'indices': [146, 151]}, {'text': 'africa', 'indices': [152, 159]}], 'symbols': [], 'user_mentions': [{'screen_name': 'netflix', 'name': 'Netflix', 'id': 16573941, 'id_str': '16573941', 'indices': [127, 135]}], 'urls': [{'url': 'https://t.co/5rdBOhrRSq', 'expanded_url': 'https://www.instagram.com/p/B97X64oDfeq/?igshid=mqfwd1w7n5zc', 'display_url': 'instagram.com/p/B97X64oDfeq/…', 'indices': [169, 192]}]}</td>\n",
       "      <td>False</td>\n",
       "      <td>en</td>\n",
       "    </tr>\n",
       "  </tbody>\n",
       "</table>\n",
       "</div>"
      ],
      "text/plain": [
       "            created_at  \\\n",
       "0  2020-03-19 19:53:17   \n",
       "1  2020-03-19 19:53:46   \n",
       "2  2020-03-19 19:53:54   \n",
       "3  2020-03-19 19:54:27   \n",
       "4  2020-03-19 19:55:33   \n",
       "\n",
       "                                                                                                                                                                                                                    full_text  \\\n",
       "0                                                                    #statewaterheaters #getitin #corona #keepingpeoplesafe #plumber #pickeringtonohio new water heater swap out @ Pickerington, Ohio https://t.co/fMcPtH88m4   \n",
       "1                                                                                                                                         \"ain't no humans outside! (corona!)\" 😂😂😂🤣 @ Cleveland, Ohio https://t.co/1i7cIsrITb   \n",
       "2  Salam Friends\\nLooking at the grave financial situation of middle &amp; lower class household in Karachi developed due to Corona threat, we are planning to take some initiative.\\nIdeas required… https://t.co/uC60hpxYDj   \n",
       "3             Thanks to COVID19 we are under unprecedented levels of stress. Thanks to corona, my Seanie was denied boarding in Paris before heading to Abidjan on 10-week contract. He unexpectedly… https://t.co/M1yzRvLftL   \n",
       "4                       #tbt to the current #anime that I'm rewatching with the #corona threat keeping us home \\n\\n#codegeass #lelouchoftherebellion \\nOn @netflix \\n\\n#theyze #Wolf #africa @ Africa https://t.co/5rdBOhrRSq   \n",
       "\n",
       "                                                             geo  \\\n",
       "0           {'type': 'Point', 'coordinates': [39.8841, -82.759]}   \n",
       "1          {'type': 'Point', 'coordinates': [41.4996, -81.6937]}   \n",
       "2               {'type': 'Point', 'coordinates': [24.86, 67.01]}   \n",
       "3  {'type': 'Point', 'coordinates': [-26.46984747, 28.02985028]}   \n",
       "4                  {'type': 'Point', 'coordinates': [1.0, 17.0]}   \n",
       "\n",
       "                                                                                                                                                                                                                                                                                                                                                                                                                                               place  \\\n",
       "0               {'id': '3995cc1483801d24', 'url': 'https://api.twitter.com/1.1/geo/id/3995cc1483801d24.json', 'place_type': 'city', 'name': 'Pickerington', 'full_name': 'Pickerington, OH', 'country_code': 'US', 'country': 'United States', 'contained_within': [], 'bounding_box': {'type': 'Polygon', 'coordinates': [[[-82.797752, 39.841431], [-82.684335, 39.841431], [-82.684335, 39.939034], [-82.797752, 39.939034]]]}, 'attributes': {}}   \n",
       "1                   {'id': '0eb9676d24b211f1', 'url': 'https://api.twitter.com/1.1/geo/id/0eb9676d24b211f1.json', 'place_type': 'city', 'name': 'Cleveland', 'full_name': 'Cleveland, OH', 'country_code': 'US', 'country': 'United States', 'contained_within': [], 'bounding_box': {'type': 'Polygon', 'coordinates': [[[-81.877771, 41.392684], [-81.5331634, 41.392684], [-81.5331634, 41.599195], [-81.877771, 41.599195]]]}, 'attributes': {}}   \n",
       "2                              {'id': '01aadce76841e2c5', 'url': 'https://api.twitter.com/1.1/geo/id/01aadce76841e2c5.json', 'place_type': 'city', 'name': 'Karachi', 'full_name': 'Karachi, Pakistan', 'country_code': 'PK', 'country': 'Pakistan', 'contained_within': [], 'bounding_box': {'type': 'Polygon', 'coordinates': [[[66.95121, 24.802239], [67.133179, 24.802239], [67.133179, 25.007912], [66.95121, 25.007912]]]}, 'attributes': {}}   \n",
       "3  {'id': '7db53e74bdc6007e', 'url': 'https://api.twitter.com/1.1/geo/id/7db53e74bdc6007e.json', 'place_type': 'city', 'name': 'Walkerville', 'full_name': 'Walkerville, South Africa', 'country_code': 'ZA', 'country': 'South Africa', 'contained_within': [], 'bounding_box': {'type': 'Polygon', 'coordinates': [[[27.8931563, -26.554172], [28.0783242, -26.554172], [28.0783242, -26.3351529], [27.8931563, -26.3351529]]]}, 'attributes': {}}   \n",
       "4                   {'id': '00893962665a2284', 'url': 'https://api.twitter.com/1.1/geo/id/00893962665a2284.json', 'place_type': 'admin', 'name': 'Likouala', 'full_name': 'Likouala, Congo', 'country_code': 'CG', 'country': 'Congo Brazzaville', 'contained_within': [], 'bounding_box': {'type': 'Polygon', 'coordinates': [[[16.450258, -0.7840179], [18.66035, -0.7840179], [18.66035, 3.7060414], [16.450258, 3.7060414]]]}, 'attributes': {}}   \n",
       "\n",
       "   truncated display_text_range  \\\n",
       "0      False           [0, 152]   \n",
       "1      False            [0, 83]   \n",
       "2      False           [0, 216]   \n",
       "3      False           [0, 207]   \n",
       "4      False           [0, 192]   \n",
       "\n",
       "                                                                                                                                                                                                                                                                                                                                                                                                                                                                                                                                                                                                                                                                                                                                                                                                                                                                                                                                                                                                                                                                                                                                                                                                                                                                                                                                                                                                                                                                                                                                                                                                                                                                                                                                                                                                                                                                                                                                                                  user  \\\n",
       "0                                                                                                                                                                    {'id': 169711005, 'id_str': '169711005', 'name': 'David A Hesson', 'screen_name': 'hessonplumbing', 'location': 'ohio', 'description': '', 'url': 'https://t.co/uks1jwtN2r', 'entities': {'url': {'urls': [{'url': 'https://t.co/uks1jwtN2r', 'expanded_url': 'http://hessonplumbing.com', 'display_url': 'hessonplumbing.com', 'indices': [0, 23]}]}, 'description': {'urls': []}}, 'protected': False, 'followers_count': 18, 'friends_count': 19, 'listed_count': 0, 'created_at': 'Fri Jul 23 00:18:48 +0000 2010', 'favourites_count': 28, 'utc_offset': None, 'time_zone': None, 'geo_enabled': True, 'verified': False, 'statuses_count': 696, 'lang': None, 'contributors_enabled': False, 'is_translator': False, 'is_translation_enabled': False, 'profile_background_color': 'C0DEED', 'profile_background_image_url': 'http://abs.twimg.com/images/themes/theme1/bg.png', 'profile_background_image_url_https': 'https://abs.twimg.com/images/themes/theme1/bg.png', 'profile_background_tile': True, 'profile_image_url': 'http://pbs.twimg.com/profile_images/1284683783002902529/yyxQR0Hr_normal.jpg', 'profile_image_url_https': 'https://pbs.twimg.com/profile_images/1284683783002902529/yyxQR0Hr_normal.jpg', 'profile_banner_url': 'https://pbs.twimg.com/profile_banners/169711005/1542916153', 'profile_image_extensions_alt_text': None, 'profile_banner_extensions_alt_text': None, 'profile_link_color': '1B95E0', 'profile_sidebar_border_color': 'C0DEED', 'profile_sidebar_fill_color': 'DDEEF6', 'profile_text_color': '333333', 'profile_use_background_image': True, 'has_extended_profile': False, 'default_profile': False, 'default_profile_image': False, 'following': False, 'follow_request_sent': False, 'notifications': False, 'translator_type': 'none'}   \n",
       "1                                                                     {'id': 29464656, 'id_str': '29464656', 'name': '®oSs', 'screen_name': 'Mycox_Little', 'location': 'Simple Pleasures Lane', 'description': \"sarcastic as fuck dude I'm NOT lookin 4 nothin jus keepin up w/& meetin new folks welcome 2 MY 🌎\", 'url': 'https://t.co/zQjwMvzkyr', 'entities': {'url': {'urls': [{'url': 'https://t.co/zQjwMvzkyr', 'expanded_url': 'http://www.hottross.com', 'display_url': 'hottross.com', 'indices': [0, 23]}]}, 'description': {'urls': []}}, 'protected': False, 'followers_count': 204, 'friends_count': 867, 'listed_count': 5, 'created_at': 'Tue Apr 07 15:00:38 +0000 2009', 'favourites_count': 1898, 'utc_offset': None, 'time_zone': None, 'geo_enabled': True, 'verified': False, 'statuses_count': 22988, 'lang': None, 'contributors_enabled': False, 'is_translator': False, 'is_translation_enabled': False, 'profile_background_color': '9AE4E8', 'profile_background_image_url': 'http://abs.twimg.com/images/themes/theme1/bg.png', 'profile_background_image_url_https': 'https://abs.twimg.com/images/themes/theme1/bg.png', 'profile_background_tile': True, 'profile_image_url': 'http://pbs.twimg.com/profile_images/1290093193179148288/SWQURAS__normal.jpg', 'profile_image_url_https': 'https://pbs.twimg.com/profile_images/1290093193179148288/SWQURAS__normal.jpg', 'profile_banner_url': 'https://pbs.twimg.com/profile_banners/29464656/1409808479', 'profile_image_extensions_alt_text': None, 'profile_banner_extensions_alt_text': None, 'profile_link_color': '176B17', 'profile_sidebar_border_color': 'BDDCAD', 'profile_sidebar_fill_color': 'DDFFCC', 'profile_text_color': 'D41111', 'profile_use_background_image': True, 'has_extended_profile': True, 'default_profile': False, 'default_profile_image': False, 'following': False, 'follow_request_sent': False, 'notifications': False, 'translator_type': 'none'}   \n",
       "2                                                                                                                                                                                                                                {'id': 3180254803, 'id_str': '3180254803', 'name': 'وجاہت علی شاہ', 'screen_name': 'Balishoo999', 'location': 'Karachi, Pakistan', 'description': '\\u200f🌹 اللَّهُمَّ صَلِّ عَلَى مُحَمَّدٍ وَعَلَى آلِ مُحَمَّدٍ وعَجِّلْ فَرَجَهُمْ🌹\\nFuture Developer 💻', 'url': None, 'entities': {'description': {'urls': []}}, 'protected': False, 'followers_count': 178, 'friends_count': 331, 'listed_count': 1, 'created_at': 'Thu Apr 30 05:00:55 +0000 2015', 'favourites_count': 847, 'utc_offset': None, 'time_zone': None, 'geo_enabled': True, 'verified': False, 'statuses_count': 1469, 'lang': None, 'contributors_enabled': False, 'is_translator': False, 'is_translation_enabled': False, 'profile_background_color': 'C0DEED', 'profile_background_image_url': 'http://abs.twimg.com/images/themes/theme1/bg.png', 'profile_background_image_url_https': 'https://abs.twimg.com/images/themes/theme1/bg.png', 'profile_background_tile': False, 'profile_image_url': 'http://pbs.twimg.com/profile_images/1323324108344610818/sTNKU1XW_normal.jpg', 'profile_image_url_https': 'https://pbs.twimg.com/profile_images/1323324108344610818/sTNKU1XW_normal.jpg', 'profile_banner_url': 'https://pbs.twimg.com/profile_banners/3180254803/1521368567', 'profile_image_extensions_alt_text': None, 'profile_banner_extensions_alt_text': None, 'profile_link_color': '1DA1F2', 'profile_sidebar_border_color': 'C0DEED', 'profile_sidebar_fill_color': 'DDEEF6', 'profile_text_color': '333333', 'profile_use_background_image': True, 'has_extended_profile': True, 'default_profile': True, 'default_profile_image': False, 'following': False, 'follow_request_sent': False, 'notifications': False, 'translator_type': 'none'}   \n",
       "3                                                                                                                                                                                                                                                                                                                                                                       {'id': 39557009, 'id_str': '39557009', 'name': 'Liezl Gericke', 'screen_name': 'LiezlGericke', 'location': 'South Africa', 'description': 'Virgin Atlantic - Head of Middle East, Africa and India', 'url': None, 'entities': {'description': {'urls': []}}, 'protected': False, 'followers_count': 435, 'friends_count': 151, 'listed_count': 7, 'created_at': 'Tue May 12 18:09:52 +0000 2009', 'favourites_count': 1689, 'utc_offset': None, 'time_zone': None, 'geo_enabled': True, 'verified': False, 'statuses_count': 1812, 'lang': None, 'contributors_enabled': False, 'is_translator': False, 'is_translation_enabled': False, 'profile_background_color': 'C0DEED', 'profile_background_image_url': 'http://abs.twimg.com/images/themes/theme1/bg.png', 'profile_background_image_url_https': 'https://abs.twimg.com/images/themes/theme1/bg.png', 'profile_background_tile': False, 'profile_image_url': 'http://pbs.twimg.com/profile_images/378800000648483256/90c1bc01f5a8e0e0ee19ef4c9989fd9d_normal.jpeg', 'profile_image_url_https': 'https://pbs.twimg.com/profile_images/378800000648483256/90c1bc01f5a8e0e0ee19ef4c9989fd9d_normal.jpeg', 'profile_image_extensions_alt_text': None, 'profile_link_color': '1DA1F2', 'profile_sidebar_border_color': 'C0DEED', 'profile_sidebar_fill_color': 'DDEEF6', 'profile_text_color': '333333', 'profile_use_background_image': True, 'has_extended_profile': False, 'default_profile': True, 'default_profile_image': False, 'following': False, 'follow_request_sent': False, 'notifications': False, 'translator_type': 'none'}   \n",
       "4  {'id': 2923230219, 'id_str': '2923230219', 'name': 'The Yze', 'screen_name': 'Therealyze', 'location': 'Pretoria, South Africa', 'description': 'The official Twitter page of The Yze.🇿🇦\\nSouth African Afro-Soul Rap artist and songwriter 🇿🇦 born and bred in Pretoria 🇿🇦 bookings: therealyze@gmail.com', 'url': 'https://t.co/X3Jgx4LBGG', 'entities': {'url': {'urls': [{'url': 'https://t.co/X3Jgx4LBGG', 'expanded_url': 'https://linktr.ee/theyze', 'display_url': 'linktr.ee/theyze', 'indices': [0, 23]}]}, 'description': {'urls': []}}, 'protected': False, 'followers_count': 92, 'friends_count': 211, 'listed_count': 0, 'created_at': 'Mon Dec 15 17:32:46 +0000 2014', 'favourites_count': 537, 'utc_offset': None, 'time_zone': None, 'geo_enabled': True, 'verified': False, 'statuses_count': 1751, 'lang': None, 'contributors_enabled': False, 'is_translator': False, 'is_translation_enabled': False, 'profile_background_color': 'C0DEED', 'profile_background_image_url': 'http://abs.twimg.com/images/themes/theme1/bg.png', 'profile_background_image_url_https': 'https://abs.twimg.com/images/themes/theme1/bg.png', 'profile_background_tile': False, 'profile_image_url': 'http://pbs.twimg.com/profile_images/1184199626880180224/jiHFvE3K_normal.jpg', 'profile_image_url_https': 'https://pbs.twimg.com/profile_images/1184199626880180224/jiHFvE3K_normal.jpg', 'profile_banner_url': 'https://pbs.twimg.com/profile_banners/2923230219/1588288127', 'profile_image_extensions_alt_text': None, 'profile_banner_extensions_alt_text': None, 'profile_link_color': '1DA1F2', 'profile_sidebar_border_color': 'C0DEED', 'profile_sidebar_fill_color': 'DDEEF6', 'profile_text_color': '333333', 'profile_use_background_image': True, 'has_extended_profile': True, 'default_profile': True, 'default_profile_image': False, 'following': False, 'follow_request_sent': False, 'notifications': False, 'translator_type': 'none'}   \n",
       "\n",
       "                    id  \\\n",
       "0  1240728065983959040   \n",
       "1  1240728187136610306   \n",
       "2  1240728221986906113   \n",
       "3  1240728361556750338   \n",
       "4  1240728639358017536   \n",
       "\n",
       "                                                                                                                                                                                                                                                                                                                                                                                                                                                                                                                                                                                                                                                                                                                      entities  \\\n",
       "0                                                                                                                                                                               {'hashtags': [{'text': 'statewaterheaters', 'indices': [0, 18]}, {'text': 'getitin', 'indices': [19, 27]}, {'text': 'corona', 'indices': [28, 35]}, {'text': 'keepingpeoplesafe', 'indices': [36, 54]}, {'text': 'plumber', 'indices': [55, 63]}, {'text': 'pickeringtonohio', 'indices': [64, 81]}], 'symbols': [], 'user_mentions': [], 'urls': [{'url': 'https://t.co/fMcPtH88m4', 'expanded_url': 'https://www.instagram.com/p/B97XqQvJJJD/?igshid=h6pxa1d1cjr7', 'display_url': 'instagram.com/p/B97XqQvJJJD/…', 'indices': [129, 152]}]}   \n",
       "1                                                                                                                                                                                                                                                                                                                                                                                                                                         {'hashtags': [], 'symbols': [], 'user_mentions': [], 'urls': [{'url': 'https://t.co/1i7cIsrITb', 'expanded_url': 'https://www.instagram.com/p/B97XsjLhLtZL1nUKOKq1Vss3QddK3LkkEbo7Ok0/?igshid=1qdi3g1a18esr', 'display_url': 'instagram.com/p/B97XsjLhLtZL…', 'indices': [60, 83]}]}   \n",
       "2                                                                                                                                                                                                                                                                                                                                                                                                                                       {'hashtags': [], 'symbols': [], 'user_mentions': [], 'urls': [{'url': 'https://t.co/uC60hpxYDj', 'expanded_url': 'https://www.instagram.com/p/B97Xu5Mnql_h9vzuqo3yHXs3qiZEbtckRwdmsI0/?igshid=1g4vq3ak0d5kz', 'display_url': 'instagram.com/p/B97Xu5Mnql_h…', 'indices': [193, 216]}]}   \n",
       "3                                                                                                                                                                                                                                                                                                                                                                                                                                        {'hashtags': [], 'symbols': [], 'user_mentions': [], 'urls': [{'url': 'https://t.co/M1yzRvLftL', 'expanded_url': 'https://www.instagram.com/p/B97XyyunUsePbT0nPIDbVodufS7m9ZrVdE7CsI0/?igshid=g4ks2qzgoewo', 'display_url': 'instagram.com/p/B97XyyunUseP…', 'indices': [184, 207]}]}   \n",
       "4  {'hashtags': [{'text': 'tbt', 'indices': [0, 4]}, {'text': 'anime', 'indices': [20, 26]}, {'text': 'corona', 'indices': [56, 63]}, {'text': 'codegeass', 'indices': [89, 99]}, {'text': 'lelouchoftherebellion', 'indices': [100, 122]}, {'text': 'theyze', 'indices': [138, 145]}, {'text': 'Wolf', 'indices': [146, 151]}, {'text': 'africa', 'indices': [152, 159]}], 'symbols': [], 'user_mentions': [{'screen_name': 'netflix', 'name': 'Netflix', 'id': 16573941, 'id_str': '16573941', 'indices': [127, 135]}], 'urls': [{'url': 'https://t.co/5rdBOhrRSq', 'expanded_url': 'https://www.instagram.com/p/B97X64oDfeq/?igshid=mqfwd1w7n5zc', 'display_url': 'instagram.com/p/B97X64oDfeq/…', 'indices': [169, 192]}]}   \n",
       "\n",
       "   possibly_sensitive lang  \n",
       "0               False   en  \n",
       "1               False   en  \n",
       "2               False   en  \n",
       "3               False   en  \n",
       "4               False   en  "
      ]
     },
     "execution_count": 65,
     "metadata": {},
     "output_type": "execute_result"
    }
   ],
   "source": [
    "pd.read_csv('../data/tweets_slightly_cleaned.csv').head()"
   ]
  },
  {
   "cell_type": "markdown",
   "metadata": {},
   "source": [
    "## Code when working with group Fri 12/4 on `geo` column"
   ]
  },
  {
   "cell_type": "code",
   "execution_count": 53,
   "metadata": {},
   "outputs": [
    {
     "data": {
      "text/html": [
       "<div>\n",
       "<style scoped>\n",
       "    .dataframe tbody tr th:only-of-type {\n",
       "        vertical-align: middle;\n",
       "    }\n",
       "\n",
       "    .dataframe tbody tr th {\n",
       "        vertical-align: top;\n",
       "    }\n",
       "\n",
       "    .dataframe thead th {\n",
       "        text-align: right;\n",
       "    }\n",
       "</style>\n",
       "<table border=\"1\" class=\"dataframe\">\n",
       "  <thead>\n",
       "    <tr style=\"text-align: right;\">\n",
       "      <th></th>\n",
       "      <th>created_at</th>\n",
       "      <th>full_text</th>\n",
       "      <th>geo</th>\n",
       "      <th>place</th>\n",
       "      <th>truncated</th>\n",
       "      <th>display_text_range</th>\n",
       "      <th>user</th>\n",
       "      <th>id</th>\n",
       "      <th>entities</th>\n",
       "      <th>possibly_sensitive</th>\n",
       "      <th>lang</th>\n",
       "    </tr>\n",
       "  </thead>\n",
       "  <tbody>\n",
       "    <tr>\n",
       "      <th>0</th>\n",
       "      <td>2020-03-19 19:53:17</td>\n",
       "      <td>#statewaterheaters #getitin #corona #keepingpeoplesafe #plumber #pickeringtonohio new water heater swap out @ Pickerington, Ohio https://t.co/fMcPtH88m4</td>\n",
       "      <td>{'type': 'Point', 'coordinates': [39.8841, -82.759]}</td>\n",
       "      <td>{'id': '3995cc1483801d24', 'url': 'https://api.twitter.com/1.1/geo/id/3995cc1483801d24.json', 'place_type': 'city', 'name': 'Pickerington', 'full_name': 'Pickerington, OH', 'country_code': 'US', 'country': 'United States', 'contained_within': [], 'bounding_box': {'type': 'Polygon', 'coordinates': [[[-82.797752, 39.841431], [-82.684335, 39.841431], [-82.684335, 39.939034], [-82.797752, 39.939034]]]}, 'attributes': {}}</td>\n",
       "      <td>False</td>\n",
       "      <td>[0, 152]</td>\n",
       "      <td>{'id': 169711005, 'id_str': '169711005', 'name': 'David A Hesson', 'screen_name': 'hessonplumbing', 'location': 'ohio', 'description': '', 'url': 'https://t.co/uks1jwtN2r', 'entities': {'url': {'urls': [{'url': 'https://t.co/uks1jwtN2r', 'expanded_url': 'http://hessonplumbing.com', 'display_url': 'hessonplumbing.com', 'indices': [0, 23]}]}, 'description': {'urls': []}}, 'protected': False, 'followers_count': 18, 'friends_count': 19, 'listed_count': 0, 'created_at': 'Fri Jul 23 00:18:48 +0000 2010', 'favourites_count': 28, 'utc_offset': None, 'time_zone': None, 'geo_enabled': True, 'verified': False, 'statuses_count': 696, 'lang': None, 'contributors_enabled': False, 'is_translator': False, 'is_translation_enabled': False, 'profile_background_color': 'C0DEED', 'profile_background_image_url': 'http://abs.twimg.com/images/themes/theme1/bg.png', 'profile_background_image_url_https': 'https://abs.twimg.com/images/themes/theme1/bg.png', 'profile_background_tile': True, 'profile_image_url': 'http://pbs.twimg.com/profile_images/1284683783002902529/yyxQR0Hr_normal.jpg', 'profile_image_url_https': 'https://pbs.twimg.com/profile_images/1284683783002902529/yyxQR0Hr_normal.jpg', 'profile_banner_url': 'https://pbs.twimg.com/profile_banners/169711005/1542916153', 'profile_image_extensions_alt_text': None, 'profile_banner_extensions_alt_text': None, 'profile_link_color': '1B95E0', 'profile_sidebar_border_color': 'C0DEED', 'profile_sidebar_fill_color': 'DDEEF6', 'profile_text_color': '333333', 'profile_use_background_image': True, 'has_extended_profile': False, 'default_profile': False, 'default_profile_image': False, 'following': False, 'follow_request_sent': False, 'notifications': False, 'translator_type': 'none'}</td>\n",
       "      <td>1240728065983959040</td>\n",
       "      <td>{'hashtags': [{'text': 'statewaterheaters', 'indices': [0, 18]}, {'text': 'getitin', 'indices': [19, 27]}, {'text': 'corona', 'indices': [28, 35]}, {'text': 'keepingpeoplesafe', 'indices': [36, 54]}, {'text': 'plumber', 'indices': [55, 63]}, {'text': 'pickeringtonohio', 'indices': [64, 81]}], 'symbols': [], 'user_mentions': [], 'urls': [{'url': 'https://t.co/fMcPtH88m4', 'expanded_url': 'https://www.instagram.com/p/B97XqQvJJJD/?igshid=h6pxa1d1cjr7', 'display_url': 'instagram.com/p/B97XqQvJJJD/…', 'indices': [129, 152]}]}</td>\n",
       "      <td>False</td>\n",
       "      <td>en</td>\n",
       "    </tr>\n",
       "    <tr>\n",
       "      <th>1</th>\n",
       "      <td>2020-03-19 19:53:46</td>\n",
       "      <td>\"ain't no humans outside! (corona!)\" 😂😂😂🤣 @ Cleveland, Ohio https://t.co/1i7cIsrITb</td>\n",
       "      <td>{'type': 'Point', 'coordinates': [41.4996, -81.6937]}</td>\n",
       "      <td>{'id': '0eb9676d24b211f1', 'url': 'https://api.twitter.com/1.1/geo/id/0eb9676d24b211f1.json', 'place_type': 'city', 'name': 'Cleveland', 'full_name': 'Cleveland, OH', 'country_code': 'US', 'country': 'United States', 'contained_within': [], 'bounding_box': {'type': 'Polygon', 'coordinates': [[[-81.877771, 41.392684], [-81.5331634, 41.392684], [-81.5331634, 41.599195], [-81.877771, 41.599195]]]}, 'attributes': {}}</td>\n",
       "      <td>False</td>\n",
       "      <td>[0, 83]</td>\n",
       "      <td>{'id': 29464656, 'id_str': '29464656', 'name': '®oSs', 'screen_name': 'Mycox_Little', 'location': 'Simple Pleasures Lane', 'description': \"sarcastic as fuck dude I'm NOT lookin 4 nothin jus keepin up w/&amp; meetin new folks welcome 2 MY 🌎\", 'url': 'https://t.co/zQjwMvzkyr', 'entities': {'url': {'urls': [{'url': 'https://t.co/zQjwMvzkyr', 'expanded_url': 'http://www.hottross.com', 'display_url': 'hottross.com', 'indices': [0, 23]}]}, 'description': {'urls': []}}, 'protected': False, 'followers_count': 204, 'friends_count': 867, 'listed_count': 5, 'created_at': 'Tue Apr 07 15:00:38 +0000 2009', 'favourites_count': 1898, 'utc_offset': None, 'time_zone': None, 'geo_enabled': True, 'verified': False, 'statuses_count': 22988, 'lang': None, 'contributors_enabled': False, 'is_translator': False, 'is_translation_enabled': False, 'profile_background_color': '9AE4E8', 'profile_background_image_url': 'http://abs.twimg.com/images/themes/theme1/bg.png', 'profile_background_image_url_https': 'https://abs.twimg.com/images/themes/theme1/bg.png', 'profile_background_tile': True, 'profile_image_url': 'http://pbs.twimg.com/profile_images/1290093193179148288/SWQURAS__normal.jpg', 'profile_image_url_https': 'https://pbs.twimg.com/profile_images/1290093193179148288/SWQURAS__normal.jpg', 'profile_banner_url': 'https://pbs.twimg.com/profile_banners/29464656/1409808479', 'profile_image_extensions_alt_text': None, 'profile_banner_extensions_alt_text': None, 'profile_link_color': '176B17', 'profile_sidebar_border_color': 'BDDCAD', 'profile_sidebar_fill_color': 'DDFFCC', 'profile_text_color': 'D41111', 'profile_use_background_image': True, 'has_extended_profile': True, 'default_profile': False, 'default_profile_image': False, 'following': False, 'follow_request_sent': False, 'notifications': False, 'translator_type': 'none'}</td>\n",
       "      <td>1240728187136610306</td>\n",
       "      <td>{'hashtags': [], 'symbols': [], 'user_mentions': [], 'urls': [{'url': 'https://t.co/1i7cIsrITb', 'expanded_url': 'https://www.instagram.com/p/B97XsjLhLtZL1nUKOKq1Vss3QddK3LkkEbo7Ok0/?igshid=1qdi3g1a18esr', 'display_url': 'instagram.com/p/B97XsjLhLtZL…', 'indices': [60, 83]}]}</td>\n",
       "      <td>False</td>\n",
       "      <td>en</td>\n",
       "    </tr>\n",
       "  </tbody>\n",
       "</table>\n",
       "</div>"
      ],
      "text/plain": [
       "            created_at  \\\n",
       "0  2020-03-19 19:53:17   \n",
       "1  2020-03-19 19:53:46   \n",
       "\n",
       "                                                                                                                                                  full_text  \\\n",
       "0  #statewaterheaters #getitin #corona #keepingpeoplesafe #plumber #pickeringtonohio new water heater swap out @ Pickerington, Ohio https://t.co/fMcPtH88m4   \n",
       "1                                                                       \"ain't no humans outside! (corona!)\" 😂😂😂🤣 @ Cleveland, Ohio https://t.co/1i7cIsrITb   \n",
       "\n",
       "                                                     geo  \\\n",
       "0   {'type': 'Point', 'coordinates': [39.8841, -82.759]}   \n",
       "1  {'type': 'Point', 'coordinates': [41.4996, -81.6937]}   \n",
       "\n",
       "                                                                                                                                                                                                                                                                                                                                                                                                                                  place  \\\n",
       "0  {'id': '3995cc1483801d24', 'url': 'https://api.twitter.com/1.1/geo/id/3995cc1483801d24.json', 'place_type': 'city', 'name': 'Pickerington', 'full_name': 'Pickerington, OH', 'country_code': 'US', 'country': 'United States', 'contained_within': [], 'bounding_box': {'type': 'Polygon', 'coordinates': [[[-82.797752, 39.841431], [-82.684335, 39.841431], [-82.684335, 39.939034], [-82.797752, 39.939034]]]}, 'attributes': {}}   \n",
       "1      {'id': '0eb9676d24b211f1', 'url': 'https://api.twitter.com/1.1/geo/id/0eb9676d24b211f1.json', 'place_type': 'city', 'name': 'Cleveland', 'full_name': 'Cleveland, OH', 'country_code': 'US', 'country': 'United States', 'contained_within': [], 'bounding_box': {'type': 'Polygon', 'coordinates': [[[-81.877771, 41.392684], [-81.5331634, 41.392684], [-81.5331634, 41.599195], [-81.877771, 41.599195]]]}, 'attributes': {}}   \n",
       "\n",
       "   truncated display_text_range  \\\n",
       "0      False           [0, 152]   \n",
       "1      False            [0, 83]   \n",
       "\n",
       "                                                                                                                                                                                                                                                                                                                                                                                                                                                                                                                                                                                                                                                                                                                                                                                                                                                                                                                                                                                                                                                                                                                                                                                                                                                                                                                                                                                                                                                                                                                                                                                                                                                                                                                                                                                                                                                                                               user  \\\n",
       "0                                                                                                 {'id': 169711005, 'id_str': '169711005', 'name': 'David A Hesson', 'screen_name': 'hessonplumbing', 'location': 'ohio', 'description': '', 'url': 'https://t.co/uks1jwtN2r', 'entities': {'url': {'urls': [{'url': 'https://t.co/uks1jwtN2r', 'expanded_url': 'http://hessonplumbing.com', 'display_url': 'hessonplumbing.com', 'indices': [0, 23]}]}, 'description': {'urls': []}}, 'protected': False, 'followers_count': 18, 'friends_count': 19, 'listed_count': 0, 'created_at': 'Fri Jul 23 00:18:48 +0000 2010', 'favourites_count': 28, 'utc_offset': None, 'time_zone': None, 'geo_enabled': True, 'verified': False, 'statuses_count': 696, 'lang': None, 'contributors_enabled': False, 'is_translator': False, 'is_translation_enabled': False, 'profile_background_color': 'C0DEED', 'profile_background_image_url': 'http://abs.twimg.com/images/themes/theme1/bg.png', 'profile_background_image_url_https': 'https://abs.twimg.com/images/themes/theme1/bg.png', 'profile_background_tile': True, 'profile_image_url': 'http://pbs.twimg.com/profile_images/1284683783002902529/yyxQR0Hr_normal.jpg', 'profile_image_url_https': 'https://pbs.twimg.com/profile_images/1284683783002902529/yyxQR0Hr_normal.jpg', 'profile_banner_url': 'https://pbs.twimg.com/profile_banners/169711005/1542916153', 'profile_image_extensions_alt_text': None, 'profile_banner_extensions_alt_text': None, 'profile_link_color': '1B95E0', 'profile_sidebar_border_color': 'C0DEED', 'profile_sidebar_fill_color': 'DDEEF6', 'profile_text_color': '333333', 'profile_use_background_image': True, 'has_extended_profile': False, 'default_profile': False, 'default_profile_image': False, 'following': False, 'follow_request_sent': False, 'notifications': False, 'translator_type': 'none'}   \n",
       "1  {'id': 29464656, 'id_str': '29464656', 'name': '®oSs', 'screen_name': 'Mycox_Little', 'location': 'Simple Pleasures Lane', 'description': \"sarcastic as fuck dude I'm NOT lookin 4 nothin jus keepin up w/& meetin new folks welcome 2 MY 🌎\", 'url': 'https://t.co/zQjwMvzkyr', 'entities': {'url': {'urls': [{'url': 'https://t.co/zQjwMvzkyr', 'expanded_url': 'http://www.hottross.com', 'display_url': 'hottross.com', 'indices': [0, 23]}]}, 'description': {'urls': []}}, 'protected': False, 'followers_count': 204, 'friends_count': 867, 'listed_count': 5, 'created_at': 'Tue Apr 07 15:00:38 +0000 2009', 'favourites_count': 1898, 'utc_offset': None, 'time_zone': None, 'geo_enabled': True, 'verified': False, 'statuses_count': 22988, 'lang': None, 'contributors_enabled': False, 'is_translator': False, 'is_translation_enabled': False, 'profile_background_color': '9AE4E8', 'profile_background_image_url': 'http://abs.twimg.com/images/themes/theme1/bg.png', 'profile_background_image_url_https': 'https://abs.twimg.com/images/themes/theme1/bg.png', 'profile_background_tile': True, 'profile_image_url': 'http://pbs.twimg.com/profile_images/1290093193179148288/SWQURAS__normal.jpg', 'profile_image_url_https': 'https://pbs.twimg.com/profile_images/1290093193179148288/SWQURAS__normal.jpg', 'profile_banner_url': 'https://pbs.twimg.com/profile_banners/29464656/1409808479', 'profile_image_extensions_alt_text': None, 'profile_banner_extensions_alt_text': None, 'profile_link_color': '176B17', 'profile_sidebar_border_color': 'BDDCAD', 'profile_sidebar_fill_color': 'DDFFCC', 'profile_text_color': 'D41111', 'profile_use_background_image': True, 'has_extended_profile': True, 'default_profile': False, 'default_profile_image': False, 'following': False, 'follow_request_sent': False, 'notifications': False, 'translator_type': 'none'}   \n",
       "\n",
       "                    id  \\\n",
       "0  1240728065983959040   \n",
       "1  1240728187136610306   \n",
       "\n",
       "                                                                                                                                                                                                                                                                                                                                                                                                                                                                                                                                         entities  \\\n",
       "0  {'hashtags': [{'text': 'statewaterheaters', 'indices': [0, 18]}, {'text': 'getitin', 'indices': [19, 27]}, {'text': 'corona', 'indices': [28, 35]}, {'text': 'keepingpeoplesafe', 'indices': [36, 54]}, {'text': 'plumber', 'indices': [55, 63]}, {'text': 'pickeringtonohio', 'indices': [64, 81]}], 'symbols': [], 'user_mentions': [], 'urls': [{'url': 'https://t.co/fMcPtH88m4', 'expanded_url': 'https://www.instagram.com/p/B97XqQvJJJD/?igshid=h6pxa1d1cjr7', 'display_url': 'instagram.com/p/B97XqQvJJJD/…', 'indices': [129, 152]}]}   \n",
       "1                                                                                                                                                                                                                                                            {'hashtags': [], 'symbols': [], 'user_mentions': [], 'urls': [{'url': 'https://t.co/1i7cIsrITb', 'expanded_url': 'https://www.instagram.com/p/B97XsjLhLtZL1nUKOKq1Vss3QddK3LkkEbo7Ok0/?igshid=1qdi3g1a18esr', 'display_url': 'instagram.com/p/B97XsjLhLtZL…', 'indices': [60, 83]}]}   \n",
       "\n",
       "   possibly_sensitive lang  \n",
       "0               False   en  \n",
       "1               False   en  "
      ]
     },
     "execution_count": 53,
     "metadata": {},
     "output_type": "execute_result"
    }
   ],
   "source": [
    "tweets = pd.read_csv('../../data/tweets_slightly_cleaned.csv')\n",
    "pd.set_option('display.max_colwidth', None)\n",
    "tweets.head(2)"
   ]
  },
  {
   "cell_type": "code",
   "execution_count": 54,
   "metadata": {
    "scrolled": false
   },
   "outputs": [
    {
     "data": {
      "text/plain": [
       "251395"
      ]
     },
     "execution_count": 54,
     "metadata": {},
     "output_type": "execute_result"
    }
   ],
   "source": [
    "len(tweets['geo'])"
   ]
  },
  {
   "cell_type": "code",
   "execution_count": 55,
   "metadata": {},
   "outputs": [
    {
     "data": {
      "text/plain": [
       "True"
      ]
     },
     "execution_count": 55,
     "metadata": {},
     "output_type": "execute_result"
    }
   ],
   "source": [
    "any(tweets['geo'].isna())"
   ]
  },
  {
   "cell_type": "code",
   "execution_count": 60,
   "metadata": {},
   "outputs": [],
   "source": [
    "def remove_na(df, colname):\n",
    "    if any(df[colname].isna()):\n",
    "        return df[df[colname].notna()]\n",
    "    return df"
   ]
  },
  {
   "cell_type": "code",
   "execution_count": 58,
   "metadata": {},
   "outputs": [],
   "source": [
    "tweets = remove_na(tweets, 'geo')"
   ]
  },
  {
   "cell_type": "code",
   "execution_count": 63,
   "metadata": {},
   "outputs": [],
   "source": [
    "tweets = tweets.astype({'created_at': 'datetime64[ns]'})"
   ]
  },
  {
   "cell_type": "code",
   "execution_count": 64,
   "metadata": {},
   "outputs": [],
   "source": [
    "# Get tfidf data\n",
    "def get_tfidf_matrix(df, colname):\n",
    "    text_list = df[colname]\n",
    "    tf = TfidfVectorizer(analyzer='word', \n",
    "                     ngram_range=(1,3), \n",
    "                     min_df = 0, \n",
    "                     stop_words = 'english')\n",
    "    \n",
    "    tfidf_matrix = tf.fit_transform(text_list)\n",
    "    return (tf, tfidf_matrix)"
   ]
  },
  {
   "cell_type": "code",
   "execution_count": 65,
   "metadata": {},
   "outputs": [
    {
     "data": {
      "text/plain": [
       "False"
      ]
     },
     "execution_count": 65,
     "metadata": {},
     "output_type": "execute_result"
    }
   ],
   "source": [
    "any(tweets.full_text.isna())"
   ]
  },
  {
   "cell_type": "code",
   "execution_count": 66,
   "metadata": {},
   "outputs": [],
   "source": [
    "tweets = remove_na(tweets, 'full_text')"
   ]
  },
  {
   "cell_type": "code",
   "execution_count": 73,
   "metadata": {},
   "outputs": [],
   "source": [
    "top_1k = tweets.loc[:1000, :]"
   ]
  },
  {
   "cell_type": "code",
   "execution_count": 75,
   "metadata": {
    "scrolled": true
   },
   "outputs": [],
   "source": [
    "tf, tfidf_matrix = get_tfidf_matrix(top_1k, 'full_text')"
   ]
  },
  {
   "cell_type": "code",
   "execution_count": 76,
   "metadata": {},
   "outputs": [
    {
     "data": {
      "text/plain": [
       "['000', '000 rounds', '000 rounds think', '01pm', '01pm sunset']"
      ]
     },
     "execution_count": 76,
     "metadata": {},
     "output_type": "execute_result"
    }
   ],
   "source": [
    "tf.get_feature_names()[:5]"
   ]
  },
  {
   "cell_type": "code",
   "execution_count": null,
   "metadata": {},
   "outputs": [],
   "source": []
  }
 ],
 "metadata": {
  "kernelspec": {
   "display_name": "Python 3",
   "language": "python",
   "name": "python3"
  },
  "language_info": {
   "codemirror_mode": {
    "name": "ipython",
    "version": 3
   },
   "file_extension": ".py",
   "mimetype": "text/x-python",
   "name": "python",
   "nbconvert_exporter": "python",
   "pygments_lexer": "ipython3",
   "version": "3.7.0"
  }
 },
 "nbformat": 4,
 "nbformat_minor": 2
}
