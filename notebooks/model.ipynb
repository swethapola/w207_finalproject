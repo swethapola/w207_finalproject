{
 "cells": [
  {
   "cell_type": "code",
   "execution_count": 258,
   "metadata": {},
   "outputs": [],
   "source": [
    "import matplotlib.pyplot as plt\n",
    "import pandas as pd\n",
    "import numpy as np\n",
    "from sklearn.feature_extraction.text import CountVectorizer\n",
    "from sklearn.feature_extraction import DictVectorizer\n",
    "from sklearn.feature_extraction.text import TfidfTransformer\n",
    "from sklearn.feature_extraction.stop_words import ENGLISH_STOP_WORDS\n",
    "from sklearn.feature_extraction.text import TfidfVectorizer\n",
    "from sklearn.model_selection import train_test_split\n",
    "from sklearn import linear_model\n",
    "from sklearn.metrics import confusion_matrix\n",
    "from sklearn import svm\n",
    "import matplotlib.pyplot as plt\n",
    "from sklearn.naive_bayes import MultinomialNB\n",
    "import itertools\n",
    "import seaborn as sn\n",
    "from textblob import TextBlob\n",
    "import glob\n",
    "\n",
    "# warning\n",
    "import warnings\n",
    "warnings.filterwarnings(\"ignore\")"
   ]
  },
  {
   "cell_type": "code",
   "execution_count": 259,
   "metadata": {
    "scrolled": true
   },
   "outputs": [
    {
     "data": {
      "text/html": [
       "<div>\n",
       "<style scoped>\n",
       "    .dataframe tbody tr th:only-of-type {\n",
       "        vertical-align: middle;\n",
       "    }\n",
       "\n",
       "    .dataframe tbody tr th {\n",
       "        vertical-align: top;\n",
       "    }\n",
       "\n",
       "    .dataframe thead th {\n",
       "        text-align: right;\n",
       "    }\n",
       "</style>\n",
       "<table border=\"1\" class=\"dataframe\">\n",
       "  <thead>\n",
       "    <tr style=\"text-align: right;\">\n",
       "      <th></th>\n",
       "      <th>date</th>\n",
       "      <th>full_text</th>\n",
       "      <th>geo</th>\n",
       "      <th>truncated</th>\n",
       "      <th>display_text_range</th>\n",
       "      <th>user</th>\n",
       "      <th>tweet_id</th>\n",
       "      <th>entities</th>\n",
       "      <th>possibly_sensitive</th>\n",
       "      <th>longitude</th>\n",
       "      <th>...</th>\n",
       "      <th>yoursel</th>\n",
       "      <th>youth</th>\n",
       "      <th>youtube</th>\n",
       "      <th>yrxltdq</th>\n",
       "      <th>yummy</th>\n",
       "      <th>yumyum</th>\n",
       "      <th>yup</th>\n",
       "      <th>zero</th>\n",
       "      <th>zoom</th>\n",
       "      <th>sentiment</th>\n",
       "    </tr>\n",
       "  </thead>\n",
       "  <tbody>\n",
       "    <tr>\n",
       "      <th>0</th>\n",
       "      <td>2020-03-30</td>\n",
       "      <td>Definitely making a routine to stop from going...</td>\n",
       "      <td>[41.42362498, -122.39264801]</td>\n",
       "      <td>False</td>\n",
       "      <td>[0, 239]</td>\n",
       "      <td>{'id': 988896150571790336, 'id_str': '98889615...</td>\n",
       "      <td>1244710975422574592</td>\n",
       "      <td>{'hashtags': [], 'symbols': [], 'user_mentions...</td>\n",
       "      <td>False</td>\n",
       "      <td>-122.392648</td>\n",
       "      <td>...</td>\n",
       "      <td>0.0</td>\n",
       "      <td>0.0</td>\n",
       "      <td>0.0</td>\n",
       "      <td>0.0</td>\n",
       "      <td>0.0</td>\n",
       "      <td>0.0</td>\n",
       "      <td>0.0</td>\n",
       "      <td>0.0</td>\n",
       "      <td>0.0</td>\n",
       "      <td>-0.0625</td>\n",
       "    </tr>\n",
       "    <tr>\n",
       "      <th>1</th>\n",
       "      <td>2020-03-30</td>\n",
       "      <td>This is my 'self-isolating' face. #quarantine ...</td>\n",
       "      <td>[34.1722, -118.378]</td>\n",
       "      <td>False</td>\n",
       "      <td>[0, 140]</td>\n",
       "      <td>{'id': 1008423932267921408, 'id_str': '1008423...</td>\n",
       "      <td>1244710063589089281</td>\n",
       "      <td>{'hashtags': [{'text': 'quarantine', 'indices'...</td>\n",
       "      <td>False</td>\n",
       "      <td>-118.378000</td>\n",
       "      <td>...</td>\n",
       "      <td>0.0</td>\n",
       "      <td>0.0</td>\n",
       "      <td>0.0</td>\n",
       "      <td>0.0</td>\n",
       "      <td>0.0</td>\n",
       "      <td>0.0</td>\n",
       "      <td>0.0</td>\n",
       "      <td>0.0</td>\n",
       "      <td>0.0</td>\n",
       "      <td>0.0000</td>\n",
       "    </tr>\n",
       "    <tr>\n",
       "      <th>2</th>\n",
       "      <td>2020-03-30</td>\n",
       "      <td>Corona virus testing and treatment is availabl...</td>\n",
       "      <td>[33.97977, -118.18884]</td>\n",
       "      <td>False</td>\n",
       "      <td>[0, 233]</td>\n",
       "      <td>{'id': 107183997, 'id_str': '107183997', 'name...</td>\n",
       "      <td>1244708953994469377</td>\n",
       "      <td>{'hashtags': [], 'symbols': [], 'user_mentions...</td>\n",
       "      <td>False</td>\n",
       "      <td>-118.188840</td>\n",
       "      <td>...</td>\n",
       "      <td>0.0</td>\n",
       "      <td>0.0</td>\n",
       "      <td>0.0</td>\n",
       "      <td>0.0</td>\n",
       "      <td>0.0</td>\n",
       "      <td>0.0</td>\n",
       "      <td>0.0</td>\n",
       "      <td>0.0</td>\n",
       "      <td>0.0</td>\n",
       "      <td>0.4000</td>\n",
       "    </tr>\n",
       "  </tbody>\n",
       "</table>\n",
       "<p>3 rows × 2309 columns</p>\n",
       "</div>"
      ],
      "text/plain": [
       "         date                                          full_text  \\\n",
       "0  2020-03-30  Definitely making a routine to stop from going...   \n",
       "1  2020-03-30  This is my 'self-isolating' face. #quarantine ...   \n",
       "2  2020-03-30  Corona virus testing and treatment is availabl...   \n",
       "\n",
       "                            geo  truncated display_text_range  \\\n",
       "0  [41.42362498, -122.39264801]      False           [0, 239]   \n",
       "1           [34.1722, -118.378]      False           [0, 140]   \n",
       "2        [33.97977, -118.18884]      False           [0, 233]   \n",
       "\n",
       "                                                user             tweet_id  \\\n",
       "0  {'id': 988896150571790336, 'id_str': '98889615...  1244710975422574592   \n",
       "1  {'id': 1008423932267921408, 'id_str': '1008423...  1244710063589089281   \n",
       "2  {'id': 107183997, 'id_str': '107183997', 'name...  1244708953994469377   \n",
       "\n",
       "                                            entities  possibly_sensitive  \\\n",
       "0  {'hashtags': [], 'symbols': [], 'user_mentions...               False   \n",
       "1  {'hashtags': [{'text': 'quarantine', 'indices'...               False   \n",
       "2  {'hashtags': [], 'symbols': [], 'user_mentions...               False   \n",
       "\n",
       "    longitude  ...  yoursel youth youtube  yrxltdq  yummy  yumyum  yup  zero  \\\n",
       "0 -122.392648  ...      0.0   0.0     0.0      0.0    0.0     0.0  0.0   0.0   \n",
       "1 -118.378000  ...      0.0   0.0     0.0      0.0    0.0     0.0  0.0   0.0   \n",
       "2 -118.188840  ...      0.0   0.0     0.0      0.0    0.0     0.0  0.0   0.0   \n",
       "\n",
       "   zoom  sentiment  \n",
       "0   0.0    -0.0625  \n",
       "1   0.0     0.0000  \n",
       "2   0.0     0.4000  \n",
       "\n",
       "[3 rows x 2309 columns]"
      ]
     },
     "execution_count": 259,
     "metadata": {},
     "output_type": "execute_result"
    }
   ],
   "source": [
    "df = pd.read_csv('../data/final_data.csv')\n",
    "df.head(3)"
   ]
  },
  {
   "cell_type": "code",
   "execution_count": 260,
   "metadata": {},
   "outputs": [
    {
     "data": {
      "text/html": [
       "<div>\n",
       "<style scoped>\n",
       "    .dataframe tbody tr th:only-of-type {\n",
       "        vertical-align: middle;\n",
       "    }\n",
       "\n",
       "    .dataframe tbody tr th {\n",
       "        vertical-align: top;\n",
       "    }\n",
       "\n",
       "    .dataframe thead th {\n",
       "        text-align: right;\n",
       "    }\n",
       "</style>\n",
       "<table border=\"1\" class=\"dataframe\">\n",
       "  <thead>\n",
       "    <tr style=\"text-align: right;\">\n",
       "      <th></th>\n",
       "      <th>county</th>\n",
       "      <th>biden_votes</th>\n",
       "      <th>biden_percent</th>\n",
       "      <th>trump_votes</th>\n",
       "      <th>trump_percent</th>\n",
       "      <th>biden_yes</th>\n",
       "    </tr>\n",
       "  </thead>\n",
       "  <tbody>\n",
       "    <tr>\n",
       "      <th>0</th>\n",
       "      <td>Alameda County</td>\n",
       "      <td>617486</td>\n",
       "      <td>80.2</td>\n",
       "      <td>136238</td>\n",
       "      <td>17.7</td>\n",
       "      <td>1</td>\n",
       "    </tr>\n",
       "    <tr>\n",
       "      <th>1</th>\n",
       "      <td>Alpine County</td>\n",
       "      <td>473</td>\n",
       "      <td>64.7</td>\n",
       "      <td>238</td>\n",
       "      <td>32.6</td>\n",
       "      <td>1</td>\n",
       "    </tr>\n",
       "    <tr>\n",
       "      <th>2</th>\n",
       "      <td>Amador County</td>\n",
       "      <td>8153</td>\n",
       "      <td>36.6</td>\n",
       "      <td>13585</td>\n",
       "      <td>60.9</td>\n",
       "      <td>0</td>\n",
       "    </tr>\n",
       "    <tr>\n",
       "      <th>3</th>\n",
       "      <td>Butte County</td>\n",
       "      <td>50416</td>\n",
       "      <td>49.4</td>\n",
       "      <td>48723</td>\n",
       "      <td>47.8</td>\n",
       "      <td>1</td>\n",
       "    </tr>\n",
       "    <tr>\n",
       "      <th>4</th>\n",
       "      <td>Calaveras County</td>\n",
       "      <td>9845</td>\n",
       "      <td>36.8</td>\n",
       "      <td>16287</td>\n",
       "      <td>61.0</td>\n",
       "      <td>0</td>\n",
       "    </tr>\n",
       "  </tbody>\n",
       "</table>\n",
       "</div>"
      ],
      "text/plain": [
       "             county  biden_votes  biden_percent  trump_votes  trump_percent  \\\n",
       "0    Alameda County       617486           80.2       136238           17.7   \n",
       "1     Alpine County          473           64.7          238           32.6   \n",
       "2     Amador County         8153           36.6        13585           60.9   \n",
       "3      Butte County        50416           49.4        48723           47.8   \n",
       "4  Calaveras County         9845           36.8        16287           61.0   \n",
       "\n",
       "   biden_yes  \n",
       "0          1  \n",
       "1          1  \n",
       "2          0  \n",
       "3          1  \n",
       "4          0  "
      ]
     },
     "execution_count": 260,
     "metadata": {},
     "output_type": "execute_result"
    }
   ],
   "source": [
    "# load in political party by county info\n",
    "df_party = pd.read_csv('../data/political_party_bycounty.csv')\n",
    "df_party = df_party.drop(labels='Unnamed: 0', axis = 1)\n",
    "df_party.head()"
   ]
  },
  {
   "cell_type": "code",
   "execution_count": 261,
   "metadata": {},
   "outputs": [],
   "source": [
    "irrelevant_cols = ['full_text', 'geo', 'display_text_range', 'user', 'tweet_id',\n",
    "       'entities', 'longitude', 'latitude', 'state', 'preprocess_full_text']"
   ]
  },
  {
   "cell_type": "code",
   "execution_count": 262,
   "metadata": {
    "scrolled": true
   },
   "outputs": [
    {
     "data": {
      "text/html": [
       "<div>\n",
       "<style scoped>\n",
       "    .dataframe tbody tr th:only-of-type {\n",
       "        vertical-align: middle;\n",
       "    }\n",
       "\n",
       "    .dataframe tbody tr th {\n",
       "        vertical-align: top;\n",
       "    }\n",
       "\n",
       "    .dataframe thead th {\n",
       "        text-align: right;\n",
       "    }\n",
       "</style>\n",
       "<table border=\"1\" class=\"dataframe\">\n",
       "  <thead>\n",
       "    <tr style=\"text-align: right;\">\n",
       "      <th></th>\n",
       "      <th>date</th>\n",
       "      <th>truncated</th>\n",
       "      <th>possibly_sensitive</th>\n",
       "      <th>county</th>\n",
       "      <th>retail_rec</th>\n",
       "      <th>groc_pharm</th>\n",
       "      <th>parks</th>\n",
       "      <th>transit</th>\n",
       "      <th>workplaces</th>\n",
       "      <th>residential</th>\n",
       "      <th>...</th>\n",
       "      <th>yoursel</th>\n",
       "      <th>youth</th>\n",
       "      <th>youtube</th>\n",
       "      <th>yrxltdq</th>\n",
       "      <th>yummy</th>\n",
       "      <th>yumyum</th>\n",
       "      <th>yup</th>\n",
       "      <th>zero</th>\n",
       "      <th>zoom</th>\n",
       "      <th>sentiment</th>\n",
       "    </tr>\n",
       "  </thead>\n",
       "  <tbody>\n",
       "    <tr>\n",
       "      <th>0</th>\n",
       "      <td>2020-03-30</td>\n",
       "      <td>False</td>\n",
       "      <td>False</td>\n",
       "      <td>Siskiyou County</td>\n",
       "      <td>-33.0</td>\n",
       "      <td>-12.0</td>\n",
       "      <td>-2.0</td>\n",
       "      <td>-12.0</td>\n",
       "      <td>-40.0</td>\n",
       "      <td>10.0</td>\n",
       "      <td>...</td>\n",
       "      <td>0.0</td>\n",
       "      <td>0.0</td>\n",
       "      <td>0.0</td>\n",
       "      <td>0.0</td>\n",
       "      <td>0.0</td>\n",
       "      <td>0.0</td>\n",
       "      <td>0.0</td>\n",
       "      <td>0.0</td>\n",
       "      <td>0.0</td>\n",
       "      <td>-0.0625</td>\n",
       "    </tr>\n",
       "    <tr>\n",
       "      <th>1</th>\n",
       "      <td>2020-03-30</td>\n",
       "      <td>False</td>\n",
       "      <td>False</td>\n",
       "      <td>Los Angeles County</td>\n",
       "      <td>-42.0</td>\n",
       "      <td>-23.0</td>\n",
       "      <td>-34.0</td>\n",
       "      <td>-52.0</td>\n",
       "      <td>-51.0</td>\n",
       "      <td>22.0</td>\n",
       "      <td>...</td>\n",
       "      <td>0.0</td>\n",
       "      <td>0.0</td>\n",
       "      <td>0.0</td>\n",
       "      <td>0.0</td>\n",
       "      <td>0.0</td>\n",
       "      <td>0.0</td>\n",
       "      <td>0.0</td>\n",
       "      <td>0.0</td>\n",
       "      <td>0.0</td>\n",
       "      <td>0.0000</td>\n",
       "    </tr>\n",
       "  </tbody>\n",
       "</table>\n",
       "<p>2 rows × 2299 columns</p>\n",
       "</div>"
      ],
      "text/plain": [
       "         date  truncated  possibly_sensitive              county  retail_rec  \\\n",
       "0  2020-03-30      False               False     Siskiyou County       -33.0   \n",
       "1  2020-03-30      False               False  Los Angeles County       -42.0   \n",
       "\n",
       "   groc_pharm  parks  transit  workplaces  residential  ...  yoursel  youth  \\\n",
       "0       -12.0   -2.0    -12.0       -40.0         10.0  ...      0.0    0.0   \n",
       "1       -23.0  -34.0    -52.0       -51.0         22.0  ...      0.0    0.0   \n",
       "\n",
       "   youtube  yrxltdq  yummy  yumyum  yup  zero  zoom  sentiment  \n",
       "0      0.0      0.0    0.0     0.0  0.0   0.0   0.0    -0.0625  \n",
       "1      0.0      0.0    0.0     0.0  0.0   0.0   0.0     0.0000  \n",
       "\n",
       "[2 rows x 2299 columns]"
      ]
     },
     "execution_count": 262,
     "metadata": {},
     "output_type": "execute_result"
    }
   ],
   "source": [
    "relevant_cols = df.drop(columns=irrelevant_cols)\n",
    "relevant_cols.head(2)"
   ]
  },
  {
   "cell_type": "code",
   "execution_count": 263,
   "metadata": {},
   "outputs": [
    {
     "data": {
      "text/plain": [
       "17531"
      ]
     },
     "execution_count": 263,
     "metadata": {},
     "output_type": "execute_result"
    }
   ],
   "source": [
    "# Length before dropping missing values\n",
    "len(relevant_cols)"
   ]
  },
  {
   "cell_type": "code",
   "execution_count": 264,
   "metadata": {},
   "outputs": [],
   "source": [
    "# Drop rows with NaN values\n",
    "no_na = relevant_cols.dropna()\n",
    "no_na = no_na.merge(df_party, how = 'left')"
   ]
  },
  {
   "cell_type": "code",
   "execution_count": 265,
   "metadata": {},
   "outputs": [
    {
     "data": {
      "text/plain": [
       "15923"
      ]
     },
     "execution_count": 265,
     "metadata": {},
     "output_type": "execute_result"
    }
   ],
   "source": [
    "# Length after dropping missing values\n",
    "len(no_na)"
   ]
  },
  {
   "cell_type": "code",
   "execution_count": 266,
   "metadata": {},
   "outputs": [
    {
     "data": {
      "text/html": [
       "<div>\n",
       "<style scoped>\n",
       "    .dataframe tbody tr th:only-of-type {\n",
       "        vertical-align: middle;\n",
       "    }\n",
       "\n",
       "    .dataframe tbody tr th {\n",
       "        vertical-align: top;\n",
       "    }\n",
       "\n",
       "    .dataframe thead th {\n",
       "        text-align: right;\n",
       "    }\n",
       "</style>\n",
       "<table border=\"1\" class=\"dataframe\">\n",
       "  <thead>\n",
       "    <tr style=\"text-align: right;\">\n",
       "      <th></th>\n",
       "      <th>date</th>\n",
       "      <th>retail_rec</th>\n",
       "      <th>groc_pharm</th>\n",
       "      <th>parks</th>\n",
       "      <th>transit</th>\n",
       "      <th>workplaces</th>\n",
       "      <th>residential</th>\n",
       "      <th>public</th>\n",
       "      <th>polarity</th>\n",
       "      <th>aad</th>\n",
       "      <th>...</th>\n",
       "      <th>county_Shasta County</th>\n",
       "      <th>county_Siskiyou County</th>\n",
       "      <th>county_Solano County</th>\n",
       "      <th>county_Sonoma County</th>\n",
       "      <th>county_Stanislaus County</th>\n",
       "      <th>county_Tulare County</th>\n",
       "      <th>county_Ventura County</th>\n",
       "      <th>county_Yolo County</th>\n",
       "      <th>truncated_True</th>\n",
       "      <th>possibly_sensitive_True</th>\n",
       "    </tr>\n",
       "  </thead>\n",
       "  <tbody>\n",
       "    <tr>\n",
       "      <th>0</th>\n",
       "      <td>2020-03-30</td>\n",
       "      <td>-33.0</td>\n",
       "      <td>-12.0</td>\n",
       "      <td>-2.0</td>\n",
       "      <td>-12.0</td>\n",
       "      <td>-40.0</td>\n",
       "      <td>10.0</td>\n",
       "      <td>-24.25</td>\n",
       "      <td>-0.0625</td>\n",
       "      <td>0.0</td>\n",
       "      <td>...</td>\n",
       "      <td>0</td>\n",
       "      <td>1</td>\n",
       "      <td>0</td>\n",
       "      <td>0</td>\n",
       "      <td>0</td>\n",
       "      <td>0</td>\n",
       "      <td>0</td>\n",
       "      <td>0</td>\n",
       "      <td>0</td>\n",
       "      <td>0</td>\n",
       "    </tr>\n",
       "    <tr>\n",
       "      <th>1</th>\n",
       "      <td>2020-03-30</td>\n",
       "      <td>-42.0</td>\n",
       "      <td>-23.0</td>\n",
       "      <td>-34.0</td>\n",
       "      <td>-52.0</td>\n",
       "      <td>-51.0</td>\n",
       "      <td>22.0</td>\n",
       "      <td>-42.00</td>\n",
       "      <td>0.0000</td>\n",
       "      <td>0.0</td>\n",
       "      <td>...</td>\n",
       "      <td>0</td>\n",
       "      <td>0</td>\n",
       "      <td>0</td>\n",
       "      <td>0</td>\n",
       "      <td>0</td>\n",
       "      <td>0</td>\n",
       "      <td>0</td>\n",
       "      <td>0</td>\n",
       "      <td>0</td>\n",
       "      <td>0</td>\n",
       "    </tr>\n",
       "  </tbody>\n",
       "</table>\n",
       "<p>2 rows × 2338 columns</p>\n",
       "</div>"
      ],
      "text/plain": [
       "         date  retail_rec  groc_pharm  parks  transit  workplaces  \\\n",
       "0  2020-03-30       -33.0       -12.0   -2.0    -12.0       -40.0   \n",
       "1  2020-03-30       -42.0       -23.0  -34.0    -52.0       -51.0   \n",
       "\n",
       "   residential  public  polarity  aad  ...  county_Shasta County  \\\n",
       "0         10.0  -24.25   -0.0625  0.0  ...                     0   \n",
       "1         22.0  -42.00    0.0000  0.0  ...                     0   \n",
       "\n",
       "   county_Siskiyou County  county_Solano County  county_Sonoma County  \\\n",
       "0                       1                     0                     0   \n",
       "1                       0                     0                     0   \n",
       "\n",
       "   county_Stanislaus County  county_Tulare County  county_Ventura County  \\\n",
       "0                         0                     0                      0   \n",
       "1                         0                     0                      0   \n",
       "\n",
       "   county_Yolo County  truncated_True  possibly_sensitive_True  \n",
       "0                   0               0                        0  \n",
       "1                   0               0                        0  \n",
       "\n",
       "[2 rows x 2338 columns]"
      ]
     },
     "execution_count": 266,
     "metadata": {},
     "output_type": "execute_result"
    }
   ],
   "source": [
    "# One hot encode categorical columns\n",
    "dummy_cols = ['county', 'truncated', 'possibly_sensitive']\n",
    "ohe_df = pd.get_dummies(no_na, drop_first=True, columns=dummy_cols)\n",
    "ohe_df.head(2)"
   ]
  },
  {
   "cell_type": "code",
   "execution_count": 267,
   "metadata": {
    "scrolled": true
   },
   "outputs": [
    {
     "data": {
      "text/html": [
       "<div>\n",
       "<style scoped>\n",
       "    .dataframe tbody tr th:only-of-type {\n",
       "        vertical-align: middle;\n",
       "    }\n",
       "\n",
       "    .dataframe tbody tr th {\n",
       "        vertical-align: top;\n",
       "    }\n",
       "\n",
       "    .dataframe thead th {\n",
       "        text-align: right;\n",
       "    }\n",
       "</style>\n",
       "<table border=\"1\" class=\"dataframe\">\n",
       "  <thead>\n",
       "    <tr style=\"text-align: right;\">\n",
       "      <th></th>\n",
       "      <th>date</th>\n",
       "      <th>retail_rec</th>\n",
       "      <th>groc_pharm</th>\n",
       "      <th>parks</th>\n",
       "      <th>transit</th>\n",
       "      <th>workplaces</th>\n",
       "      <th>residential</th>\n",
       "      <th>public</th>\n",
       "      <th>polarity</th>\n",
       "      <th>aad</th>\n",
       "      <th>...</th>\n",
       "      <th>county_Siskiyou County</th>\n",
       "      <th>county_Solano County</th>\n",
       "      <th>county_Sonoma County</th>\n",
       "      <th>county_Stanislaus County</th>\n",
       "      <th>county_Tulare County</th>\n",
       "      <th>county_Ventura County</th>\n",
       "      <th>county_Yolo County</th>\n",
       "      <th>truncated_True</th>\n",
       "      <th>possibly_sensitive_True</th>\n",
       "      <th>county</th>\n",
       "    </tr>\n",
       "  </thead>\n",
       "  <tbody>\n",
       "    <tr>\n",
       "      <th>0</th>\n",
       "      <td>2020-03-30</td>\n",
       "      <td>-33.0</td>\n",
       "      <td>-12.0</td>\n",
       "      <td>-2.0</td>\n",
       "      <td>-12.0</td>\n",
       "      <td>-40.0</td>\n",
       "      <td>10.0</td>\n",
       "      <td>-24.25</td>\n",
       "      <td>-0.0625</td>\n",
       "      <td>0.0</td>\n",
       "      <td>...</td>\n",
       "      <td>1</td>\n",
       "      <td>0</td>\n",
       "      <td>0</td>\n",
       "      <td>0</td>\n",
       "      <td>0</td>\n",
       "      <td>0</td>\n",
       "      <td>0</td>\n",
       "      <td>0</td>\n",
       "      <td>0</td>\n",
       "      <td>Siskiyou County</td>\n",
       "    </tr>\n",
       "  </tbody>\n",
       "</table>\n",
       "<p>1 rows × 2339 columns</p>\n",
       "</div>"
      ],
      "text/plain": [
       "         date  retail_rec  groc_pharm  parks  transit  workplaces  \\\n",
       "0  2020-03-30       -33.0       -12.0   -2.0    -12.0       -40.0   \n",
       "\n",
       "   residential  public  polarity  aad  ...  county_Siskiyou County  \\\n",
       "0         10.0  -24.25   -0.0625  0.0  ...                       1   \n",
       "\n",
       "   county_Solano County  county_Sonoma County  county_Stanislaus County  \\\n",
       "0                     0                     0                         0   \n",
       "\n",
       "   county_Tulare County  county_Ventura County  county_Yolo County  \\\n",
       "0                     0                      0                   0   \n",
       "\n",
       "   truncated_True  possibly_sensitive_True           county  \n",
       "0               0                        0  Siskiyou County  \n",
       "\n",
       "[1 rows x 2339 columns]"
      ]
     },
     "execution_count": 267,
     "metadata": {},
     "output_type": "execute_result"
    }
   ],
   "source": [
    "# Add county back\n",
    "ohe_df['county'] = no_na['county']\n",
    "ohe_df.head(1)"
   ]
  },
  {
   "cell_type": "code",
   "execution_count": 268,
   "metadata": {},
   "outputs": [
    {
     "data": {
      "text/html": [
       "<div>\n",
       "<style scoped>\n",
       "    .dataframe tbody tr th:only-of-type {\n",
       "        vertical-align: middle;\n",
       "    }\n",
       "\n",
       "    .dataframe tbody tr th {\n",
       "        vertical-align: top;\n",
       "    }\n",
       "\n",
       "    .dataframe thead th {\n",
       "        text-align: right;\n",
       "    }\n",
       "</style>\n",
       "<table border=\"1\" class=\"dataframe\">\n",
       "  <thead>\n",
       "    <tr style=\"text-align: right;\">\n",
       "      <th></th>\n",
       "      <th>retail_rec</th>\n",
       "      <th>groc_pharm</th>\n",
       "      <th>parks</th>\n",
       "      <th>transit</th>\n",
       "      <th>workplaces</th>\n",
       "      <th>residential</th>\n",
       "      <th>public</th>\n",
       "    </tr>\n",
       "  </thead>\n",
       "  <tbody>\n",
       "    <tr>\n",
       "      <th>0</th>\n",
       "      <td>-33.0</td>\n",
       "      <td>-12.0</td>\n",
       "      <td>-2.0</td>\n",
       "      <td>-12.0</td>\n",
       "      <td>-40.0</td>\n",
       "      <td>10.0</td>\n",
       "      <td>-24.25</td>\n",
       "    </tr>\n",
       "    <tr>\n",
       "      <th>1</th>\n",
       "      <td>-42.0</td>\n",
       "      <td>-23.0</td>\n",
       "      <td>-34.0</td>\n",
       "      <td>-52.0</td>\n",
       "      <td>-51.0</td>\n",
       "      <td>22.0</td>\n",
       "      <td>-42.00</td>\n",
       "    </tr>\n",
       "    <tr>\n",
       "      <th>2</th>\n",
       "      <td>-42.0</td>\n",
       "      <td>-23.0</td>\n",
       "      <td>-34.0</td>\n",
       "      <td>-52.0</td>\n",
       "      <td>-51.0</td>\n",
       "      <td>22.0</td>\n",
       "      <td>-42.00</td>\n",
       "    </tr>\n",
       "    <tr>\n",
       "      <th>3</th>\n",
       "      <td>-42.0</td>\n",
       "      <td>-23.0</td>\n",
       "      <td>-34.0</td>\n",
       "      <td>-52.0</td>\n",
       "      <td>-51.0</td>\n",
       "      <td>22.0</td>\n",
       "      <td>-42.00</td>\n",
       "    </tr>\n",
       "    <tr>\n",
       "      <th>4</th>\n",
       "      <td>-42.0</td>\n",
       "      <td>-23.0</td>\n",
       "      <td>-34.0</td>\n",
       "      <td>-52.0</td>\n",
       "      <td>-51.0</td>\n",
       "      <td>22.0</td>\n",
       "      <td>-42.00</td>\n",
       "    </tr>\n",
       "  </tbody>\n",
       "</table>\n",
       "</div>"
      ],
      "text/plain": [
       "   retail_rec  groc_pharm  parks  transit  workplaces  residential  public\n",
       "0       -33.0       -12.0   -2.0    -12.0       -40.0         10.0  -24.25\n",
       "1       -42.0       -23.0  -34.0    -52.0       -51.0         22.0  -42.00\n",
       "2       -42.0       -23.0  -34.0    -52.0       -51.0         22.0  -42.00\n",
       "3       -42.0       -23.0  -34.0    -52.0       -51.0         22.0  -42.00\n",
       "4       -42.0       -23.0  -34.0    -52.0       -51.0         22.0  -42.00"
      ]
     },
     "execution_count": 268,
     "metadata": {},
     "output_type": "execute_result"
    }
   ],
   "source": [
    "y_labels = ohe_df.loc[:, ['retail_rec',\n",
    "       'groc_pharm', 'parks', 'transit', 'workplaces', 'residential', 'public']]\n",
    "y_labels.head()"
   ]
  },
  {
   "cell_type": "code",
   "execution_count": 269,
   "metadata": {},
   "outputs": [],
   "source": [
    "# minus_first_20 = df.iloc[:, 20:]\n",
    "# minus_first_20['date'] = df['date']\n",
    "# minus_first_20['county'] = df['county']\n",
    "# new_df = minus_first_20\n",
    "# new_df.head()"
   ]
  },
  {
   "cell_type": "code",
   "execution_count": 319,
   "metadata": {},
   "outputs": [
    {
     "data": {
      "text/html": [
       "<div>\n",
       "<style scoped>\n",
       "    .dataframe tbody tr th:only-of-type {\n",
       "        vertical-align: middle;\n",
       "    }\n",
       "\n",
       "    .dataframe tbody tr th {\n",
       "        vertical-align: top;\n",
       "    }\n",
       "\n",
       "    .dataframe thead th {\n",
       "        text-align: right;\n",
       "    }\n",
       "</style>\n",
       "<table border=\"1\" class=\"dataframe\">\n",
       "  <thead>\n",
       "    <tr style=\"text-align: right;\">\n",
       "      <th></th>\n",
       "      <th></th>\n",
       "      <th>retail_rec</th>\n",
       "      <th>groc_pharm</th>\n",
       "      <th>parks</th>\n",
       "      <th>transit</th>\n",
       "      <th>workplaces</th>\n",
       "      <th>residential</th>\n",
       "      <th>public</th>\n",
       "      <th>polarity</th>\n",
       "      <th>aad</th>\n",
       "      <th>abc</th>\n",
       "      <th>...</th>\n",
       "      <th>county_Shasta County</th>\n",
       "      <th>county_Siskiyou County</th>\n",
       "      <th>county_Solano County</th>\n",
       "      <th>county_Sonoma County</th>\n",
       "      <th>county_Stanislaus County</th>\n",
       "      <th>county_Tulare County</th>\n",
       "      <th>county_Ventura County</th>\n",
       "      <th>county_Yolo County</th>\n",
       "      <th>truncated_True</th>\n",
       "      <th>possibly_sensitive_True</th>\n",
       "    </tr>\n",
       "    <tr>\n",
       "      <th>county</th>\n",
       "      <th>date</th>\n",
       "      <th></th>\n",
       "      <th></th>\n",
       "      <th></th>\n",
       "      <th></th>\n",
       "      <th></th>\n",
       "      <th></th>\n",
       "      <th></th>\n",
       "      <th></th>\n",
       "      <th></th>\n",
       "      <th></th>\n",
       "      <th></th>\n",
       "      <th></th>\n",
       "      <th></th>\n",
       "      <th></th>\n",
       "      <th></th>\n",
       "      <th></th>\n",
       "      <th></th>\n",
       "      <th></th>\n",
       "      <th></th>\n",
       "      <th></th>\n",
       "      <th></th>\n",
       "    </tr>\n",
       "  </thead>\n",
       "  <tbody>\n",
       "    <tr>\n",
       "      <th rowspan=\"2\" valign=\"top\">Alameda County</th>\n",
       "      <th>2020-03-30</th>\n",
       "      <td>-48.0</td>\n",
       "      <td>-23.0</td>\n",
       "      <td>-1.0</td>\n",
       "      <td>-71.0</td>\n",
       "      <td>-64.0</td>\n",
       "      <td>27.0</td>\n",
       "      <td>-51.50</td>\n",
       "      <td>0.233333</td>\n",
       "      <td>0.0</td>\n",
       "      <td>0.0</td>\n",
       "      <td>...</td>\n",
       "      <td>0.0</td>\n",
       "      <td>0.0</td>\n",
       "      <td>0.0</td>\n",
       "      <td>0.0</td>\n",
       "      <td>0.0</td>\n",
       "      <td>0.0</td>\n",
       "      <td>0.0</td>\n",
       "      <td>0.0</td>\n",
       "      <td>0.0</td>\n",
       "      <td>0.0</td>\n",
       "    </tr>\n",
       "    <tr>\n",
       "      <th>2020-04-01</th>\n",
       "      <td>-48.0</td>\n",
       "      <td>-18.0</td>\n",
       "      <td>0.0</td>\n",
       "      <td>-70.0</td>\n",
       "      <td>-65.0</td>\n",
       "      <td>28.0</td>\n",
       "      <td>-50.25</td>\n",
       "      <td>0.221645</td>\n",
       "      <td>0.0</td>\n",
       "      <td>0.0</td>\n",
       "      <td>...</td>\n",
       "      <td>0.0</td>\n",
       "      <td>0.0</td>\n",
       "      <td>0.0</td>\n",
       "      <td>0.0</td>\n",
       "      <td>0.0</td>\n",
       "      <td>0.0</td>\n",
       "      <td>0.0</td>\n",
       "      <td>0.0</td>\n",
       "      <td>0.0</td>\n",
       "      <td>1.0</td>\n",
       "    </tr>\n",
       "  </tbody>\n",
       "</table>\n",
       "<p>2 rows × 2337 columns</p>\n",
       "</div>"
      ],
      "text/plain": [
       "                           retail_rec  groc_pharm  parks  transit  workplaces  \\\n",
       "county         date                                                             \n",
       "Alameda County 2020-03-30       -48.0       -23.0   -1.0    -71.0       -64.0   \n",
       "               2020-04-01       -48.0       -18.0    0.0    -70.0       -65.0   \n",
       "\n",
       "                           residential  public  polarity  aad  abc  ...  \\\n",
       "county         date                                                 ...   \n",
       "Alameda County 2020-03-30         27.0  -51.50  0.233333  0.0  0.0  ...   \n",
       "               2020-04-01         28.0  -50.25  0.221645  0.0  0.0  ...   \n",
       "\n",
       "                           county_Shasta County  county_Siskiyou County  \\\n",
       "county         date                                                       \n",
       "Alameda County 2020-03-30                   0.0                     0.0   \n",
       "               2020-04-01                   0.0                     0.0   \n",
       "\n",
       "                           county_Solano County  county_Sonoma County  \\\n",
       "county         date                                                     \n",
       "Alameda County 2020-03-30                   0.0                   0.0   \n",
       "               2020-04-01                   0.0                   0.0   \n",
       "\n",
       "                           county_Stanislaus County  county_Tulare County  \\\n",
       "county         date                                                         \n",
       "Alameda County 2020-03-30                       0.0                   0.0   \n",
       "               2020-04-01                       0.0                   0.0   \n",
       "\n",
       "                           county_Ventura County  county_Yolo County  \\\n",
       "county         date                                                    \n",
       "Alameda County 2020-03-30                    0.0                 0.0   \n",
       "               2020-04-01                    0.0                 0.0   \n",
       "\n",
       "                           truncated_True  possibly_sensitive_True  \n",
       "county         date                                                 \n",
       "Alameda County 2020-03-30             0.0                      0.0  \n",
       "               2020-04-01             0.0                      1.0  \n",
       "\n",
       "[2 rows x 2337 columns]"
      ]
     },
     "execution_count": 319,
     "metadata": {},
     "output_type": "execute_result"
    }
   ],
   "source": [
    "grouped = ohe_df.groupby(['county','date']).mean()\n",
    "grouped.head(2)"
   ]
  },
  {
   "cell_type": "code",
   "execution_count": 320,
   "metadata": {},
   "outputs": [
    {
     "data": {
      "text/plain": [
       "2540"
      ]
     },
     "execution_count": 320,
     "metadata": {},
     "output_type": "execute_result"
    }
   ],
   "source": [
    "len(grouped)"
   ]
  },
  {
   "cell_type": "code",
   "execution_count": 321,
   "metadata": {},
   "outputs": [],
   "source": [
    "reset_ind = grouped.reset_index()\n",
    "reset_ind.drop(columns=['county'], inplace=True)"
   ]
  },
  {
   "cell_type": "code",
   "execution_count": 322,
   "metadata": {
    "scrolled": true
   },
   "outputs": [
    {
     "data": {
      "text/html": [
       "<div>\n",
       "<style scoped>\n",
       "    .dataframe tbody tr th:only-of-type {\n",
       "        vertical-align: middle;\n",
       "    }\n",
       "\n",
       "    .dataframe tbody tr th {\n",
       "        vertical-align: top;\n",
       "    }\n",
       "\n",
       "    .dataframe thead th {\n",
       "        text-align: right;\n",
       "    }\n",
       "</style>\n",
       "<table border=\"1\" class=\"dataframe\">\n",
       "  <thead>\n",
       "    <tr style=\"text-align: right;\">\n",
       "      <th></th>\n",
       "      <th>date</th>\n",
       "      <th>retail_rec</th>\n",
       "      <th>groc_pharm</th>\n",
       "      <th>parks</th>\n",
       "      <th>transit</th>\n",
       "      <th>workplaces</th>\n",
       "      <th>residential</th>\n",
       "      <th>public</th>\n",
       "      <th>polarity</th>\n",
       "      <th>aad</th>\n",
       "      <th>...</th>\n",
       "      <th>county_Shasta County</th>\n",
       "      <th>county_Siskiyou County</th>\n",
       "      <th>county_Solano County</th>\n",
       "      <th>county_Sonoma County</th>\n",
       "      <th>county_Stanislaus County</th>\n",
       "      <th>county_Tulare County</th>\n",
       "      <th>county_Ventura County</th>\n",
       "      <th>county_Yolo County</th>\n",
       "      <th>truncated_True</th>\n",
       "      <th>possibly_sensitive_True</th>\n",
       "    </tr>\n",
       "  </thead>\n",
       "  <tbody>\n",
       "    <tr>\n",
       "      <th>0</th>\n",
       "      <td>2020-03-30</td>\n",
       "      <td>-48.0</td>\n",
       "      <td>-23.0</td>\n",
       "      <td>-1.0</td>\n",
       "      <td>-71.0</td>\n",
       "      <td>-64.0</td>\n",
       "      <td>27.0</td>\n",
       "      <td>-51.50</td>\n",
       "      <td>0.233333</td>\n",
       "      <td>0.0</td>\n",
       "      <td>...</td>\n",
       "      <td>0.0</td>\n",
       "      <td>0.0</td>\n",
       "      <td>0.0</td>\n",
       "      <td>0.0</td>\n",
       "      <td>0.0</td>\n",
       "      <td>0.0</td>\n",
       "      <td>0.0</td>\n",
       "      <td>0.0</td>\n",
       "      <td>0.0</td>\n",
       "      <td>0.0</td>\n",
       "    </tr>\n",
       "    <tr>\n",
       "      <th>1</th>\n",
       "      <td>2020-04-01</td>\n",
       "      <td>-48.0</td>\n",
       "      <td>-18.0</td>\n",
       "      <td>0.0</td>\n",
       "      <td>-70.0</td>\n",
       "      <td>-65.0</td>\n",
       "      <td>28.0</td>\n",
       "      <td>-50.25</td>\n",
       "      <td>0.221645</td>\n",
       "      <td>0.0</td>\n",
       "      <td>...</td>\n",
       "      <td>0.0</td>\n",
       "      <td>0.0</td>\n",
       "      <td>0.0</td>\n",
       "      <td>0.0</td>\n",
       "      <td>0.0</td>\n",
       "      <td>0.0</td>\n",
       "      <td>0.0</td>\n",
       "      <td>0.0</td>\n",
       "      <td>0.0</td>\n",
       "      <td>1.0</td>\n",
       "    </tr>\n",
       "  </tbody>\n",
       "</table>\n",
       "<p>2 rows × 2338 columns</p>\n",
       "</div>"
      ],
      "text/plain": [
       "         date  retail_rec  groc_pharm  parks  transit  workplaces  \\\n",
       "0  2020-03-30       -48.0       -23.0   -1.0    -71.0       -64.0   \n",
       "1  2020-04-01       -48.0       -18.0    0.0    -70.0       -65.0   \n",
       "\n",
       "   residential  public  polarity  aad  ...  county_Shasta County  \\\n",
       "0         27.0  -51.50  0.233333  0.0  ...                   0.0   \n",
       "1         28.0  -50.25  0.221645  0.0  ...                   0.0   \n",
       "\n",
       "   county_Siskiyou County  county_Solano County  county_Sonoma County  \\\n",
       "0                     0.0                   0.0                   0.0   \n",
       "1                     0.0                   0.0                   0.0   \n",
       "\n",
       "   county_Stanislaus County  county_Tulare County  county_Ventura County  \\\n",
       "0                       0.0                   0.0                    0.0   \n",
       "1                       0.0                   0.0                    0.0   \n",
       "\n",
       "   county_Yolo County  truncated_True  possibly_sensitive_True  \n",
       "0                 0.0             0.0                      0.0  \n",
       "1                 0.0             0.0                      1.0  \n",
       "\n",
       "[2 rows x 2338 columns]"
      ]
     },
     "execution_count": 322,
     "metadata": {},
     "output_type": "execute_result"
    }
   ],
   "source": [
    "final_df = reset_ind\n",
    "final_df.head(2)"
   ]
  },
  {
   "cell_type": "code",
   "execution_count": 323,
   "metadata": {},
   "outputs": [
    {
     "data": {
      "text/plain": [
       "['retail_rec',\n",
       " 'groc_pharm',\n",
       " 'parks',\n",
       " 'transit',\n",
       " 'workplaces',\n",
       " 'residential',\n",
       " 'public']"
      ]
     },
     "execution_count": 323,
     "metadata": {},
     "output_type": "execute_result"
    }
   ],
   "source": [
    "mobility_columns = list(final_df.columns)[1:8]\n",
    "mobility_columns"
   ]
  },
  {
   "cell_type": "code",
   "execution_count": 324,
   "metadata": {},
   "outputs": [],
   "source": [
    "y_public = final_df['public']\n",
    "y_residential = final_df['residential']"
   ]
  },
  {
   "cell_type": "code",
   "execution_count": 325,
   "metadata": {},
   "outputs": [
    {
     "data": {
      "text/plain": [
       "pandas._libs.tslibs.timestamps.Timestamp"
      ]
     },
     "execution_count": 325,
     "metadata": {},
     "output_type": "execute_result"
    }
   ],
   "source": [
    "# Convert date column to pd.DateTime object\n",
    "final_df['date'] = pd.to_datetime(final_df['date'])\n",
    "type(final_df['date'][0])"
   ]
  },
  {
   "cell_type": "code",
   "execution_count": 326,
   "metadata": {},
   "outputs": [
    {
     "data": {
      "text/html": [
       "<div>\n",
       "<style scoped>\n",
       "    .dataframe tbody tr th:only-of-type {\n",
       "        vertical-align: middle;\n",
       "    }\n",
       "\n",
       "    .dataframe tbody tr th {\n",
       "        vertical-align: top;\n",
       "    }\n",
       "\n",
       "    .dataframe thead th {\n",
       "        text-align: right;\n",
       "    }\n",
       "</style>\n",
       "<table border=\"1\" class=\"dataframe\">\n",
       "  <thead>\n",
       "    <tr style=\"text-align: right;\">\n",
       "      <th></th>\n",
       "      <th>date</th>\n",
       "      <th>retail_rec</th>\n",
       "      <th>groc_pharm</th>\n",
       "      <th>parks</th>\n",
       "      <th>transit</th>\n",
       "      <th>workplaces</th>\n",
       "      <th>residential</th>\n",
       "      <th>public</th>\n",
       "      <th>polarity</th>\n",
       "      <th>aad</th>\n",
       "      <th>...</th>\n",
       "      <th>county_Siskiyou County</th>\n",
       "      <th>county_Solano County</th>\n",
       "      <th>county_Sonoma County</th>\n",
       "      <th>county_Stanislaus County</th>\n",
       "      <th>county_Tulare County</th>\n",
       "      <th>county_Ventura County</th>\n",
       "      <th>county_Yolo County</th>\n",
       "      <th>truncated_True</th>\n",
       "      <th>possibly_sensitive_True</th>\n",
       "      <th>date_num</th>\n",
       "    </tr>\n",
       "  </thead>\n",
       "  <tbody>\n",
       "    <tr>\n",
       "      <th>0</th>\n",
       "      <td>2020-03-30</td>\n",
       "      <td>-48.0</td>\n",
       "      <td>-23.0</td>\n",
       "      <td>-1.0</td>\n",
       "      <td>-71.0</td>\n",
       "      <td>-64.0</td>\n",
       "      <td>27.0</td>\n",
       "      <td>-51.50</td>\n",
       "      <td>0.233333</td>\n",
       "      <td>0.0</td>\n",
       "      <td>...</td>\n",
       "      <td>0.0</td>\n",
       "      <td>0.0</td>\n",
       "      <td>0.0</td>\n",
       "      <td>0.0</td>\n",
       "      <td>0.0</td>\n",
       "      <td>0.0</td>\n",
       "      <td>0.0</td>\n",
       "      <td>0.0</td>\n",
       "      <td>0.0</td>\n",
       "      <td>0.0</td>\n",
       "    </tr>\n",
       "    <tr>\n",
       "      <th>1028</th>\n",
       "      <td>2020-03-30</td>\n",
       "      <td>-34.0</td>\n",
       "      <td>-18.0</td>\n",
       "      <td>-30.0</td>\n",
       "      <td>-35.0</td>\n",
       "      <td>-44.0</td>\n",
       "      <td>17.0</td>\n",
       "      <td>-32.75</td>\n",
       "      <td>0.068750</td>\n",
       "      <td>0.0</td>\n",
       "      <td>...</td>\n",
       "      <td>0.0</td>\n",
       "      <td>0.0</td>\n",
       "      <td>0.0</td>\n",
       "      <td>0.0</td>\n",
       "      <td>0.0</td>\n",
       "      <td>0.0</td>\n",
       "      <td>0.0</td>\n",
       "      <td>0.0</td>\n",
       "      <td>0.5</td>\n",
       "      <td>0.0</td>\n",
       "    </tr>\n",
       "  </tbody>\n",
       "</table>\n",
       "<p>2 rows × 2339 columns</p>\n",
       "</div>"
      ],
      "text/plain": [
       "           date  retail_rec  groc_pharm  parks  transit  workplaces  \\\n",
       "0    2020-03-30       -48.0       -23.0   -1.0    -71.0       -64.0   \n",
       "1028 2020-03-30       -34.0       -18.0  -30.0    -35.0       -44.0   \n",
       "\n",
       "      residential  public  polarity  aad  ...  county_Siskiyou County  \\\n",
       "0            27.0  -51.50  0.233333  0.0  ...                     0.0   \n",
       "1028         17.0  -32.75  0.068750  0.0  ...                     0.0   \n",
       "\n",
       "      county_Solano County  county_Sonoma County  county_Stanislaus County  \\\n",
       "0                      0.0                   0.0                       0.0   \n",
       "1028                   0.0                   0.0                       0.0   \n",
       "\n",
       "      county_Tulare County  county_Ventura County  county_Yolo County  \\\n",
       "0                      0.0                    0.0                 0.0   \n",
       "1028                   0.0                    0.0                 0.0   \n",
       "\n",
       "      truncated_True  possibly_sensitive_True  date_num  \n",
       "0                0.0                      0.0       0.0  \n",
       "1028             0.0                      0.5       0.0  \n",
       "\n",
       "[2 rows x 2339 columns]"
      ]
     },
     "execution_count": 326,
     "metadata": {},
     "output_type": "execute_result"
    }
   ],
   "source": [
    "final_df['date_num'] = (final_df['date'] - pd.to_datetime('03/30/2020'))/np.timedelta64(1, 'D')\n",
    "final_df = final_df.sort_values(by='date')\n",
    "final_df.head(2)"
   ]
  },
  {
   "cell_type": "code",
   "execution_count": 327,
   "metadata": {
    "scrolled": false
   },
   "outputs": [
    {
     "data": {
      "text/html": [
       "<div>\n",
       "<style scoped>\n",
       "    .dataframe tbody tr th:only-of-type {\n",
       "        vertical-align: middle;\n",
       "    }\n",
       "\n",
       "    .dataframe tbody tr th {\n",
       "        vertical-align: top;\n",
       "    }\n",
       "\n",
       "    .dataframe thead th {\n",
       "        text-align: right;\n",
       "    }\n",
       "</style>\n",
       "<table border=\"1\" class=\"dataframe\">\n",
       "  <thead>\n",
       "    <tr style=\"text-align: right;\">\n",
       "      <th></th>\n",
       "      <th>date</th>\n",
       "      <th>retail_rec</th>\n",
       "      <th>groc_pharm</th>\n",
       "      <th>parks</th>\n",
       "      <th>transit</th>\n",
       "      <th>workplaces</th>\n",
       "      <th>residential</th>\n",
       "      <th>public</th>\n",
       "      <th>polarity</th>\n",
       "      <th>aad</th>\n",
       "      <th>...</th>\n",
       "      <th>county_Siskiyou County</th>\n",
       "      <th>county_Solano County</th>\n",
       "      <th>county_Sonoma County</th>\n",
       "      <th>county_Stanislaus County</th>\n",
       "      <th>county_Tulare County</th>\n",
       "      <th>county_Ventura County</th>\n",
       "      <th>county_Yolo County</th>\n",
       "      <th>truncated_True</th>\n",
       "      <th>possibly_sensitive_True</th>\n",
       "      <th>date_num</th>\n",
       "    </tr>\n",
       "  </thead>\n",
       "  <tbody>\n",
       "    <tr>\n",
       "      <th>971</th>\n",
       "      <td>2020-09-20</td>\n",
       "      <td>-27.0</td>\n",
       "      <td>-10.0</td>\n",
       "      <td>14.0</td>\n",
       "      <td>-38.0</td>\n",
       "      <td>-17.0</td>\n",
       "      <td>6.0</td>\n",
       "      <td>-23.0</td>\n",
       "      <td>0.146667</td>\n",
       "      <td>0.0</td>\n",
       "      <td>...</td>\n",
       "      <td>0.0</td>\n",
       "      <td>0.0</td>\n",
       "      <td>0.0</td>\n",
       "      <td>0.0</td>\n",
       "      <td>0.0</td>\n",
       "      <td>0.0</td>\n",
       "      <td>0.0</td>\n",
       "      <td>1.0</td>\n",
       "      <td>0.000000</td>\n",
       "      <td>174.0</td>\n",
       "    </tr>\n",
       "    <tr>\n",
       "      <th>2513</th>\n",
       "      <td>2020-09-20</td>\n",
       "      <td>-22.0</td>\n",
       "      <td>-14.0</td>\n",
       "      <td>12.0</td>\n",
       "      <td>-11.0</td>\n",
       "      <td>-17.0</td>\n",
       "      <td>5.0</td>\n",
       "      <td>-16.0</td>\n",
       "      <td>0.321528</td>\n",
       "      <td>0.0</td>\n",
       "      <td>...</td>\n",
       "      <td>0.0</td>\n",
       "      <td>0.0</td>\n",
       "      <td>0.0</td>\n",
       "      <td>0.0</td>\n",
       "      <td>0.0</td>\n",
       "      <td>1.0</td>\n",
       "      <td>0.0</td>\n",
       "      <td>1.0</td>\n",
       "      <td>0.000000</td>\n",
       "      <td>174.0</td>\n",
       "    </tr>\n",
       "    <tr>\n",
       "      <th>1942</th>\n",
       "      <td>2020-09-20</td>\n",
       "      <td>-17.0</td>\n",
       "      <td>-2.0</td>\n",
       "      <td>13.0</td>\n",
       "      <td>-33.0</td>\n",
       "      <td>-12.0</td>\n",
       "      <td>3.0</td>\n",
       "      <td>-16.0</td>\n",
       "      <td>0.000000</td>\n",
       "      <td>0.0</td>\n",
       "      <td>...</td>\n",
       "      <td>0.0</td>\n",
       "      <td>0.0</td>\n",
       "      <td>0.0</td>\n",
       "      <td>0.0</td>\n",
       "      <td>0.0</td>\n",
       "      <td>0.0</td>\n",
       "      <td>0.0</td>\n",
       "      <td>1.0</td>\n",
       "      <td>0.000000</td>\n",
       "      <td>174.0</td>\n",
       "    </tr>\n",
       "    <tr>\n",
       "      <th>1202</th>\n",
       "      <td>2020-09-20</td>\n",
       "      <td>-22.0</td>\n",
       "      <td>-9.0</td>\n",
       "      <td>-31.0</td>\n",
       "      <td>-30.0</td>\n",
       "      <td>-23.0</td>\n",
       "      <td>5.0</td>\n",
       "      <td>-21.0</td>\n",
       "      <td>0.125805</td>\n",
       "      <td>0.0</td>\n",
       "      <td>...</td>\n",
       "      <td>0.0</td>\n",
       "      <td>0.0</td>\n",
       "      <td>0.0</td>\n",
       "      <td>0.0</td>\n",
       "      <td>0.0</td>\n",
       "      <td>0.0</td>\n",
       "      <td>0.0</td>\n",
       "      <td>1.0</td>\n",
       "      <td>0.176471</td>\n",
       "      <td>174.0</td>\n",
       "    </tr>\n",
       "    <tr>\n",
       "      <th>277</th>\n",
       "      <td>2020-09-20</td>\n",
       "      <td>-30.0</td>\n",
       "      <td>-12.0</td>\n",
       "      <td>12.0</td>\n",
       "      <td>-38.0</td>\n",
       "      <td>-16.0</td>\n",
       "      <td>6.0</td>\n",
       "      <td>-24.0</td>\n",
       "      <td>0.016667</td>\n",
       "      <td>0.0</td>\n",
       "      <td>...</td>\n",
       "      <td>0.0</td>\n",
       "      <td>0.0</td>\n",
       "      <td>0.0</td>\n",
       "      <td>0.0</td>\n",
       "      <td>0.0</td>\n",
       "      <td>0.0</td>\n",
       "      <td>0.0</td>\n",
       "      <td>1.0</td>\n",
       "      <td>0.000000</td>\n",
       "      <td>174.0</td>\n",
       "    </tr>\n",
       "  </tbody>\n",
       "</table>\n",
       "<p>5 rows × 2339 columns</p>\n",
       "</div>"
      ],
      "text/plain": [
       "           date  retail_rec  groc_pharm  parks  transit  workplaces  \\\n",
       "971  2020-09-20       -27.0       -10.0   14.0    -38.0       -17.0   \n",
       "2513 2020-09-20       -22.0       -14.0   12.0    -11.0       -17.0   \n",
       "1942 2020-09-20       -17.0        -2.0   13.0    -33.0       -12.0   \n",
       "1202 2020-09-20       -22.0        -9.0  -31.0    -30.0       -23.0   \n",
       "277  2020-09-20       -30.0       -12.0   12.0    -38.0       -16.0   \n",
       "\n",
       "      residential  public  polarity  aad  ...  county_Siskiyou County  \\\n",
       "971           6.0   -23.0  0.146667  0.0  ...                     0.0   \n",
       "2513          5.0   -16.0  0.321528  0.0  ...                     0.0   \n",
       "1942          3.0   -16.0  0.000000  0.0  ...                     0.0   \n",
       "1202          5.0   -21.0  0.125805  0.0  ...                     0.0   \n",
       "277           6.0   -24.0  0.016667  0.0  ...                     0.0   \n",
       "\n",
       "      county_Solano County  county_Sonoma County  county_Stanislaus County  \\\n",
       "971                    0.0                   0.0                       0.0   \n",
       "2513                   0.0                   0.0                       0.0   \n",
       "1942                   0.0                   0.0                       0.0   \n",
       "1202                   0.0                   0.0                       0.0   \n",
       "277                    0.0                   0.0                       0.0   \n",
       "\n",
       "      county_Tulare County  county_Ventura County  county_Yolo County  \\\n",
       "971                    0.0                    0.0                 0.0   \n",
       "2513                   0.0                    1.0                 0.0   \n",
       "1942                   0.0                    0.0                 0.0   \n",
       "1202                   0.0                    0.0                 0.0   \n",
       "277                    0.0                    0.0                 0.0   \n",
       "\n",
       "      truncated_True  possibly_sensitive_True  date_num  \n",
       "971              1.0                 0.000000     174.0  \n",
       "2513             1.0                 0.000000     174.0  \n",
       "1942             1.0                 0.000000     174.0  \n",
       "1202             1.0                 0.176471     174.0  \n",
       "277              1.0                 0.000000     174.0  \n",
       "\n",
       "[5 rows x 2339 columns]"
      ]
     },
     "execution_count": 327,
     "metadata": {},
     "output_type": "execute_result"
    }
   ],
   "source": [
    "before_mid_june = final_df[final_df['date'] < pd.to_datetime('2020-06-15')]\n",
    "mid_june_onwards = final_df[final_df['date'] >= pd.to_datetime('2020-06-15')]\n",
    "mid_june_onwards.tail(5)"
   ]
  },
  {
   "cell_type": "code",
   "execution_count": 328,
   "metadata": {},
   "outputs": [
    {
     "data": {
      "text/plain": [
       "'zoom'"
      ]
     },
     "execution_count": 328,
     "metadata": {},
     "output_type": "execute_result"
    }
   ],
   "source": [
    "list(before_mid_june.columns)[2294]"
   ]
  },
  {
   "cell_type": "code",
   "execution_count": 418,
   "metadata": {},
   "outputs": [],
   "source": [
    "less_cols = list(before_mid_june.columns)[0:8]\n",
    "less_cols2 = list(before_mid_june.columns)[2295:]"
   ]
  },
  {
   "cell_type": "code",
   "execution_count": 419,
   "metadata": {},
   "outputs": [
    {
     "data": {
      "text/plain": [
       "['date',\n",
       " 'retail_rec',\n",
       " 'groc_pharm',\n",
       " 'parks',\n",
       " 'transit',\n",
       " 'workplaces',\n",
       " 'residential',\n",
       " 'public']"
      ]
     },
     "execution_count": 419,
     "metadata": {},
     "output_type": "execute_result"
    }
   ],
   "source": [
    "less_cols"
   ]
  },
  {
   "cell_type": "code",
   "execution_count": 420,
   "metadata": {},
   "outputs": [
    {
     "data": {
      "text/plain": [
       "['sentiment',\n",
       " 'biden_votes',\n",
       " 'biden_percent',\n",
       " 'trump_votes',\n",
       " 'trump_percent',\n",
       " 'biden_yes',\n",
       " 'county_Contra Costa County',\n",
       " 'county_Fresno County',\n",
       " 'county_Humboldt County',\n",
       " 'county_Imperial County',\n",
       " 'county_Kern County',\n",
       " 'county_Kings County',\n",
       " 'county_Lake County',\n",
       " 'county_Los Angeles County',\n",
       " 'county_Madera County',\n",
       " 'county_Marin County',\n",
       " 'county_Mendocino County',\n",
       " 'county_Merced County',\n",
       " 'county_Monterey County',\n",
       " 'county_Napa County',\n",
       " 'county_Nevada County',\n",
       " 'county_Orange County',\n",
       " 'county_Placer County',\n",
       " 'county_Riverside County',\n",
       " 'county_Sacramento County',\n",
       " 'county_San Bernardino County',\n",
       " 'county_San Diego County',\n",
       " 'county_San Joaquin County',\n",
       " 'county_San Luis Obispo County',\n",
       " 'county_San Mateo County',\n",
       " 'county_Santa Barbara County',\n",
       " 'county_Santa Clara County',\n",
       " 'county_Santa Cruz County',\n",
       " 'county_Shasta County',\n",
       " 'county_Siskiyou County',\n",
       " 'county_Solano County',\n",
       " 'county_Sonoma County',\n",
       " 'county_Stanislaus County',\n",
       " 'county_Tulare County',\n",
       " 'county_Ventura County',\n",
       " 'county_Yolo County',\n",
       " 'truncated_True',\n",
       " 'possibly_sensitive_True',\n",
       " 'date_num']"
      ]
     },
     "execution_count": 420,
     "metadata": {},
     "output_type": "execute_result"
    }
   ],
   "source": [
    "less_cols2"
   ]
  },
  {
   "cell_type": "code",
   "execution_count": 421,
   "metadata": {},
   "outputs": [],
   "source": [
    "few_cols_train = before_mid_june.loc[:, less_cols+less_cols2]\n",
    "few_cols_test = mid_june_onwards.loc[:, less_cols+less_cols2]"
   ]
  },
  {
   "cell_type": "code",
   "execution_count": 422,
   "metadata": {},
   "outputs": [],
   "source": [
    "few_cols_test = few_cols_test.iloc[:, 8:]\n",
    "few_cols_train = few_cols_train.iloc[:, 8:]"
   ]
  },
  {
   "cell_type": "code",
   "execution_count": 423,
   "metadata": {},
   "outputs": [],
   "source": [
    "y_public_train = np.array(before_mid_june.public)\n",
    "y_public_test = np.array(mid_june_onwards.public)\n",
    "y_residential_train = np.array(before_mid_june.residential)\n",
    "y_residential_test = np.array(mid_june_onwards.residential)\n",
    "y_wp_train = np.array(before_mid_june.workplaces)\n",
    "y_wp_test = np.array(mid_june_onwards.workplaces)\n",
    "\n",
    "    \n",
    "y_groc_train = np.array(before_mid_june.groc_pharm)\n",
    "y_groc_test = np.array(mid_june_onwards.groc_pharm)\n",
    "\n",
    "y_parks_train = np.array(before_mid_june.parks)\n",
    "y_parks_test = np.array(mid_june_onwards.parks)\n",
    "\n",
    "y_transit_train = np.array(before_mid_june.transit)\n",
    "y_transit_test = np.array(mid_june_onwards.transit)\n",
    "\n",
    "y_retail_train = np.array(before_mid_june.retail_rec)\n",
    "y_retail_test = np.array(mid_june_onwards.retail_rec)"
   ]
  },
  {
   "cell_type": "code",
   "execution_count": 424,
   "metadata": {},
   "outputs": [
    {
     "data": {
      "text/plain": [
       "Index(['sentiment', 'biden_votes', 'biden_percent', 'trump_votes',\n",
       "       'trump_percent', 'biden_yes', 'county_Contra Costa County',\n",
       "       'county_Fresno County', 'county_Humboldt County',\n",
       "       'county_Imperial County', 'county_Kern County', 'county_Kings County',\n",
       "       'county_Lake County', 'county_Los Angeles County',\n",
       "       'county_Madera County', 'county_Marin County',\n",
       "       'county_Mendocino County', 'county_Merced County',\n",
       "       'county_Monterey County', 'county_Napa County', 'county_Nevada County',\n",
       "       'county_Orange County', 'county_Placer County',\n",
       "       'county_Riverside County', 'county_Sacramento County',\n",
       "       'county_San Bernardino County', 'county_San Diego County',\n",
       "       'county_San Joaquin County', 'county_San Luis Obispo County',\n",
       "       'county_San Mateo County', 'county_Santa Barbara County',\n",
       "       'county_Santa Clara County', 'county_Santa Cruz County',\n",
       "       'county_Shasta County', 'county_Siskiyou County',\n",
       "       'county_Solano County', 'county_Sonoma County',\n",
       "       'county_Stanislaus County', 'county_Tulare County',\n",
       "       'county_Ventura County', 'county_Yolo County', 'truncated_True',\n",
       "       'possibly_sensitive_True', 'date_num'],\n",
       "      dtype='object')"
      ]
     },
     "execution_count": 424,
     "metadata": {},
     "output_type": "execute_result"
    }
   ],
   "source": [
    "few_cols_train.columns"
   ]
  },
  {
   "cell_type": "code",
   "execution_count": 425,
   "metadata": {},
   "outputs": [
    {
     "data": {
      "text/html": [
       "<div>\n",
       "<style scoped>\n",
       "    .dataframe tbody tr th:only-of-type {\n",
       "        vertical-align: middle;\n",
       "    }\n",
       "\n",
       "    .dataframe tbody tr th {\n",
       "        vertical-align: top;\n",
       "    }\n",
       "\n",
       "    .dataframe thead th {\n",
       "        text-align: right;\n",
       "    }\n",
       "</style>\n",
       "<table border=\"1\" class=\"dataframe\">\n",
       "  <thead>\n",
       "    <tr style=\"text-align: right;\">\n",
       "      <th></th>\n",
       "      <th>sentiment</th>\n",
       "      <th>biden_votes</th>\n",
       "      <th>biden_percent</th>\n",
       "      <th>trump_votes</th>\n",
       "      <th>trump_percent</th>\n",
       "      <th>biden_yes</th>\n",
       "      <th>county_Contra Costa County</th>\n",
       "      <th>county_Fresno County</th>\n",
       "      <th>county_Humboldt County</th>\n",
       "      <th>county_Imperial County</th>\n",
       "      <th>...</th>\n",
       "      <th>county_Siskiyou County</th>\n",
       "      <th>county_Solano County</th>\n",
       "      <th>county_Sonoma County</th>\n",
       "      <th>county_Stanislaus County</th>\n",
       "      <th>county_Tulare County</th>\n",
       "      <th>county_Ventura County</th>\n",
       "      <th>county_Yolo County</th>\n",
       "      <th>truncated_True</th>\n",
       "      <th>possibly_sensitive_True</th>\n",
       "      <th>date_num</th>\n",
       "    </tr>\n",
       "  </thead>\n",
       "  <tbody>\n",
       "    <tr>\n",
       "      <th>0</th>\n",
       "      <td>0.233333</td>\n",
       "      <td>617486</td>\n",
       "      <td>80.2</td>\n",
       "      <td>136238</td>\n",
       "      <td>17.7</td>\n",
       "      <td>1</td>\n",
       "      <td>0.0</td>\n",
       "      <td>0.0</td>\n",
       "      <td>0.0</td>\n",
       "      <td>0.0</td>\n",
       "      <td>...</td>\n",
       "      <td>0.0</td>\n",
       "      <td>0.0</td>\n",
       "      <td>0.0</td>\n",
       "      <td>0.0</td>\n",
       "      <td>0.0</td>\n",
       "      <td>0.0</td>\n",
       "      <td>0.0</td>\n",
       "      <td>0.0</td>\n",
       "      <td>0.0</td>\n",
       "      <td>0.0</td>\n",
       "    </tr>\n",
       "    <tr>\n",
       "      <th>1028</th>\n",
       "      <td>0.068750</td>\n",
       "      <td>527475</td>\n",
       "      <td>53.0</td>\n",
       "      <td>448281</td>\n",
       "      <td>45.0</td>\n",
       "      <td>1</td>\n",
       "      <td>0.0</td>\n",
       "      <td>0.0</td>\n",
       "      <td>0.0</td>\n",
       "      <td>0.0</td>\n",
       "      <td>...</td>\n",
       "      <td>0.0</td>\n",
       "      <td>0.0</td>\n",
       "      <td>0.0</td>\n",
       "      <td>0.0</td>\n",
       "      <td>0.0</td>\n",
       "      <td>0.0</td>\n",
       "      <td>0.0</td>\n",
       "      <td>0.0</td>\n",
       "      <td>0.5</td>\n",
       "      <td>0.0</td>\n",
       "    </tr>\n",
       "  </tbody>\n",
       "</table>\n",
       "<p>2 rows × 44 columns</p>\n",
       "</div>"
      ],
      "text/plain": [
       "      sentiment  biden_votes  biden_percent  trump_votes  trump_percent  \\\n",
       "0      0.233333       617486           80.2       136238           17.7   \n",
       "1028   0.068750       527475           53.0       448281           45.0   \n",
       "\n",
       "      biden_yes  county_Contra Costa County  county_Fresno County  \\\n",
       "0             1                         0.0                   0.0   \n",
       "1028          1                         0.0                   0.0   \n",
       "\n",
       "      county_Humboldt County  county_Imperial County  ...  \\\n",
       "0                        0.0                     0.0  ...   \n",
       "1028                     0.0                     0.0  ...   \n",
       "\n",
       "      county_Siskiyou County  county_Solano County  county_Sonoma County  \\\n",
       "0                        0.0                   0.0                   0.0   \n",
       "1028                     0.0                   0.0                   0.0   \n",
       "\n",
       "      county_Stanislaus County  county_Tulare County  county_Ventura County  \\\n",
       "0                          0.0                   0.0                    0.0   \n",
       "1028                       0.0                   0.0                    0.0   \n",
       "\n",
       "      county_Yolo County  truncated_True  possibly_sensitive_True  date_num  \n",
       "0                    0.0             0.0                      0.0       0.0  \n",
       "1028                 0.0             0.0                      0.5       0.0  \n",
       "\n",
       "[2 rows x 44 columns]"
      ]
     },
     "execution_count": 425,
     "metadata": {},
     "output_type": "execute_result"
    }
   ],
   "source": [
    "few_cols_train.head(2)"
   ]
  },
  {
   "cell_type": "code",
   "execution_count": 426,
   "metadata": {},
   "outputs": [
    {
     "data": {
      "text/html": [
       "<div>\n",
       "<style scoped>\n",
       "    .dataframe tbody tr th:only-of-type {\n",
       "        vertical-align: middle;\n",
       "    }\n",
       "\n",
       "    .dataframe tbody tr th {\n",
       "        vertical-align: top;\n",
       "    }\n",
       "\n",
       "    .dataframe thead th {\n",
       "        text-align: right;\n",
       "    }\n",
       "</style>\n",
       "<table border=\"1\" class=\"dataframe\">\n",
       "  <thead>\n",
       "    <tr style=\"text-align: right;\">\n",
       "      <th></th>\n",
       "      <th>date</th>\n",
       "      <th>retail_rec</th>\n",
       "      <th>groc_pharm</th>\n",
       "      <th>parks</th>\n",
       "      <th>transit</th>\n",
       "      <th>workplaces</th>\n",
       "      <th>residential</th>\n",
       "      <th>public</th>\n",
       "      <th>polarity</th>\n",
       "      <th>aad</th>\n",
       "      <th>...</th>\n",
       "      <th>county_Siskiyou County</th>\n",
       "      <th>county_Solano County</th>\n",
       "      <th>county_Sonoma County</th>\n",
       "      <th>county_Stanislaus County</th>\n",
       "      <th>county_Tulare County</th>\n",
       "      <th>county_Ventura County</th>\n",
       "      <th>county_Yolo County</th>\n",
       "      <th>truncated_True</th>\n",
       "      <th>possibly_sensitive_True</th>\n",
       "      <th>date_num</th>\n",
       "    </tr>\n",
       "  </thead>\n",
       "  <tbody>\n",
       "    <tr>\n",
       "      <th>0</th>\n",
       "      <td>2020-03-30</td>\n",
       "      <td>-48.0</td>\n",
       "      <td>-23.0</td>\n",
       "      <td>-1.0</td>\n",
       "      <td>-71.0</td>\n",
       "      <td>-64.0</td>\n",
       "      <td>27.0</td>\n",
       "      <td>-51.50</td>\n",
       "      <td>0.233333</td>\n",
       "      <td>0.0</td>\n",
       "      <td>...</td>\n",
       "      <td>0.0</td>\n",
       "      <td>0.0</td>\n",
       "      <td>0.0</td>\n",
       "      <td>0.0</td>\n",
       "      <td>0.0</td>\n",
       "      <td>0.0</td>\n",
       "      <td>0.0</td>\n",
       "      <td>0.0</td>\n",
       "      <td>0.0</td>\n",
       "      <td>0.0</td>\n",
       "    </tr>\n",
       "    <tr>\n",
       "      <th>1028</th>\n",
       "      <td>2020-03-30</td>\n",
       "      <td>-34.0</td>\n",
       "      <td>-18.0</td>\n",
       "      <td>-30.0</td>\n",
       "      <td>-35.0</td>\n",
       "      <td>-44.0</td>\n",
       "      <td>17.0</td>\n",
       "      <td>-32.75</td>\n",
       "      <td>0.068750</td>\n",
       "      <td>0.0</td>\n",
       "      <td>...</td>\n",
       "      <td>0.0</td>\n",
       "      <td>0.0</td>\n",
       "      <td>0.0</td>\n",
       "      <td>0.0</td>\n",
       "      <td>0.0</td>\n",
       "      <td>0.0</td>\n",
       "      <td>0.0</td>\n",
       "      <td>0.0</td>\n",
       "      <td>0.5</td>\n",
       "      <td>0.0</td>\n",
       "    </tr>\n",
       "  </tbody>\n",
       "</table>\n",
       "<p>2 rows × 2339 columns</p>\n",
       "</div>"
      ],
      "text/plain": [
       "           date  retail_rec  groc_pharm  parks  transit  workplaces  \\\n",
       "0    2020-03-30       -48.0       -23.0   -1.0    -71.0       -64.0   \n",
       "1028 2020-03-30       -34.0       -18.0  -30.0    -35.0       -44.0   \n",
       "\n",
       "      residential  public  polarity  aad  ...  county_Siskiyou County  \\\n",
       "0            27.0  -51.50  0.233333  0.0  ...                     0.0   \n",
       "1028         17.0  -32.75  0.068750  0.0  ...                     0.0   \n",
       "\n",
       "      county_Solano County  county_Sonoma County  county_Stanislaus County  \\\n",
       "0                      0.0                   0.0                       0.0   \n",
       "1028                   0.0                   0.0                       0.0   \n",
       "\n",
       "      county_Tulare County  county_Ventura County  county_Yolo County  \\\n",
       "0                      0.0                    0.0                 0.0   \n",
       "1028                   0.0                    0.0                 0.0   \n",
       "\n",
       "      truncated_True  possibly_sensitive_True  date_num  \n",
       "0                0.0                      0.0       0.0  \n",
       "1028             0.0                      0.5       0.0  \n",
       "\n",
       "[2 rows x 2339 columns]"
      ]
     },
     "execution_count": 426,
     "metadata": {},
     "output_type": "execute_result"
    }
   ],
   "source": [
    "final_df.head(2)"
   ]
  },
  {
   "cell_type": "markdown",
   "metadata": {},
   "source": [
    "### load in the political party csv:"
   ]
  },
  {
   "cell_type": "code",
   "execution_count": 427,
   "metadata": {},
   "outputs": [],
   "source": [
    "#df_party = pd.read_csv('../data/political_party_bycounty.csv')\n",
    "#df_party = df_party.drop(labels='Unnamed: 0', axis = 1)\n",
    "#df_party"
   ]
  },
  {
   "cell_type": "code",
   "execution_count": 428,
   "metadata": {},
   "outputs": [],
   "source": [
    "#df_party = df_party.drop(labels='Unnamed: 0', axis = 1)\n",
    "#df_party"
   ]
  },
  {
   "cell_type": "code",
   "execution_count": 429,
   "metadata": {},
   "outputs": [
    {
     "data": {
      "text/plain": [
       "count    2540.000000\n",
       "mean      -29.099213\n",
       "std        11.325797\n",
       "min       -60.750000\n",
       "25%       -36.250000\n",
       "50%       -29.250000\n",
       "75%       -21.250000\n",
       "max        10.500000\n",
       "Name: public, dtype: float64"
      ]
     },
     "execution_count": 429,
     "metadata": {},
     "output_type": "execute_result"
    }
   ],
   "source": [
    "final_df.public.describe()"
   ]
  },
  {
   "cell_type": "code",
   "execution_count": 430,
   "metadata": {},
   "outputs": [
    {
     "data": {
      "text/plain": [
       "count    2540.000000\n",
       "mean       13.557480\n",
       "std         6.463355\n",
       "min         0.000000\n",
       "25%         9.000000\n",
       "50%        13.000000\n",
       "75%        17.000000\n",
       "max        35.000000\n",
       "Name: residential, dtype: float64"
      ]
     },
     "execution_count": 430,
     "metadata": {},
     "output_type": "execute_result"
    }
   ],
   "source": [
    "final_df.residential.describe()"
   ]
  },
  {
   "cell_type": "code",
   "execution_count": 431,
   "metadata": {},
   "outputs": [
    {
     "data": {
      "text/html": [
       "<div>\n",
       "<style scoped>\n",
       "    .dataframe tbody tr th:only-of-type {\n",
       "        vertical-align: middle;\n",
       "    }\n",
       "\n",
       "    .dataframe tbody tr th {\n",
       "        vertical-align: top;\n",
       "    }\n",
       "\n",
       "    .dataframe thead th {\n",
       "        text-align: right;\n",
       "    }\n",
       "</style>\n",
       "<table border=\"1\" class=\"dataframe\">\n",
       "  <thead>\n",
       "    <tr style=\"text-align: right;\">\n",
       "      <th></th>\n",
       "      <th>date</th>\n",
       "      <th>retail_rec</th>\n",
       "      <th>groc_pharm</th>\n",
       "      <th>parks</th>\n",
       "      <th>transit</th>\n",
       "      <th>workplaces</th>\n",
       "      <th>residential</th>\n",
       "      <th>public</th>\n",
       "      <th>polarity</th>\n",
       "      <th>aad</th>\n",
       "      <th>...</th>\n",
       "      <th>county_Siskiyou County</th>\n",
       "      <th>county_Solano County</th>\n",
       "      <th>county_Sonoma County</th>\n",
       "      <th>county_Stanislaus County</th>\n",
       "      <th>county_Tulare County</th>\n",
       "      <th>county_Ventura County</th>\n",
       "      <th>county_Yolo County</th>\n",
       "      <th>truncated_True</th>\n",
       "      <th>possibly_sensitive_True</th>\n",
       "      <th>date_num</th>\n",
       "    </tr>\n",
       "  </thead>\n",
       "  <tbody>\n",
       "    <tr>\n",
       "      <th>0</th>\n",
       "      <td>2020-03-30</td>\n",
       "      <td>-48.0</td>\n",
       "      <td>-23.0</td>\n",
       "      <td>-1.0</td>\n",
       "      <td>-71.0</td>\n",
       "      <td>-64.0</td>\n",
       "      <td>27.0</td>\n",
       "      <td>-51.50</td>\n",
       "      <td>0.233333</td>\n",
       "      <td>0.0</td>\n",
       "      <td>...</td>\n",
       "      <td>0.0</td>\n",
       "      <td>0.0</td>\n",
       "      <td>0.0</td>\n",
       "      <td>0.0</td>\n",
       "      <td>0.0</td>\n",
       "      <td>0.0</td>\n",
       "      <td>0.0</td>\n",
       "      <td>0.0</td>\n",
       "      <td>0.000000</td>\n",
       "      <td>0.0</td>\n",
       "    </tr>\n",
       "    <tr>\n",
       "      <th>1028</th>\n",
       "      <td>2020-03-30</td>\n",
       "      <td>-34.0</td>\n",
       "      <td>-18.0</td>\n",
       "      <td>-30.0</td>\n",
       "      <td>-35.0</td>\n",
       "      <td>-44.0</td>\n",
       "      <td>17.0</td>\n",
       "      <td>-32.75</td>\n",
       "      <td>0.068750</td>\n",
       "      <td>0.0</td>\n",
       "      <td>...</td>\n",
       "      <td>0.0</td>\n",
       "      <td>0.0</td>\n",
       "      <td>0.0</td>\n",
       "      <td>0.0</td>\n",
       "      <td>0.0</td>\n",
       "      <td>0.0</td>\n",
       "      <td>0.0</td>\n",
       "      <td>0.0</td>\n",
       "      <td>0.500000</td>\n",
       "      <td>0.0</td>\n",
       "    </tr>\n",
       "    <tr>\n",
       "      <th>801</th>\n",
       "      <td>2020-03-30</td>\n",
       "      <td>-44.0</td>\n",
       "      <td>-22.0</td>\n",
       "      <td>-21.0</td>\n",
       "      <td>-51.0</td>\n",
       "      <td>-51.0</td>\n",
       "      <td>23.0</td>\n",
       "      <td>-42.00</td>\n",
       "      <td>0.126970</td>\n",
       "      <td>0.0</td>\n",
       "      <td>...</td>\n",
       "      <td>0.0</td>\n",
       "      <td>0.0</td>\n",
       "      <td>0.0</td>\n",
       "      <td>0.0</td>\n",
       "      <td>0.0</td>\n",
       "      <td>0.0</td>\n",
       "      <td>0.0</td>\n",
       "      <td>0.0</td>\n",
       "      <td>0.000000</td>\n",
       "      <td>0.0</td>\n",
       "    </tr>\n",
       "    <tr>\n",
       "      <th>783</th>\n",
       "      <td>2020-03-30</td>\n",
       "      <td>-44.0</td>\n",
       "      <td>-26.0</td>\n",
       "      <td>-44.0</td>\n",
       "      <td>-71.0</td>\n",
       "      <td>-43.0</td>\n",
       "      <td>15.0</td>\n",
       "      <td>-46.00</td>\n",
       "      <td>0.500000</td>\n",
       "      <td>0.0</td>\n",
       "      <td>...</td>\n",
       "      <td>0.0</td>\n",
       "      <td>0.0</td>\n",
       "      <td>0.0</td>\n",
       "      <td>0.0</td>\n",
       "      <td>0.0</td>\n",
       "      <td>0.0</td>\n",
       "      <td>0.0</td>\n",
       "      <td>0.0</td>\n",
       "      <td>0.000000</td>\n",
       "      <td>0.0</td>\n",
       "    </tr>\n",
       "    <tr>\n",
       "      <th>1943</th>\n",
       "      <td>2020-03-30</td>\n",
       "      <td>-51.0</td>\n",
       "      <td>-25.0</td>\n",
       "      <td>4.0</td>\n",
       "      <td>-74.0</td>\n",
       "      <td>-73.0</td>\n",
       "      <td>32.0</td>\n",
       "      <td>-55.75</td>\n",
       "      <td>-0.060714</td>\n",
       "      <td>0.0</td>\n",
       "      <td>...</td>\n",
       "      <td>0.0</td>\n",
       "      <td>0.0</td>\n",
       "      <td>0.0</td>\n",
       "      <td>0.0</td>\n",
       "      <td>0.0</td>\n",
       "      <td>0.0</td>\n",
       "      <td>0.0</td>\n",
       "      <td>0.0</td>\n",
       "      <td>0.000000</td>\n",
       "      <td>0.0</td>\n",
       "    </tr>\n",
       "    <tr>\n",
       "      <th>...</th>\n",
       "      <td>...</td>\n",
       "      <td>...</td>\n",
       "      <td>...</td>\n",
       "      <td>...</td>\n",
       "      <td>...</td>\n",
       "      <td>...</td>\n",
       "      <td>...</td>\n",
       "      <td>...</td>\n",
       "      <td>...</td>\n",
       "      <td>...</td>\n",
       "      <td>...</td>\n",
       "      <td>...</td>\n",
       "      <td>...</td>\n",
       "      <td>...</td>\n",
       "      <td>...</td>\n",
       "      <td>...</td>\n",
       "      <td>...</td>\n",
       "      <td>...</td>\n",
       "      <td>...</td>\n",
       "      <td>...</td>\n",
       "      <td>...</td>\n",
       "    </tr>\n",
       "    <tr>\n",
       "      <th>971</th>\n",
       "      <td>2020-09-20</td>\n",
       "      <td>-27.0</td>\n",
       "      <td>-10.0</td>\n",
       "      <td>14.0</td>\n",
       "      <td>-38.0</td>\n",
       "      <td>-17.0</td>\n",
       "      <td>6.0</td>\n",
       "      <td>-23.00</td>\n",
       "      <td>0.146667</td>\n",
       "      <td>0.0</td>\n",
       "      <td>...</td>\n",
       "      <td>0.0</td>\n",
       "      <td>0.0</td>\n",
       "      <td>0.0</td>\n",
       "      <td>0.0</td>\n",
       "      <td>0.0</td>\n",
       "      <td>0.0</td>\n",
       "      <td>0.0</td>\n",
       "      <td>1.0</td>\n",
       "      <td>0.000000</td>\n",
       "      <td>174.0</td>\n",
       "    </tr>\n",
       "    <tr>\n",
       "      <th>2513</th>\n",
       "      <td>2020-09-20</td>\n",
       "      <td>-22.0</td>\n",
       "      <td>-14.0</td>\n",
       "      <td>12.0</td>\n",
       "      <td>-11.0</td>\n",
       "      <td>-17.0</td>\n",
       "      <td>5.0</td>\n",
       "      <td>-16.00</td>\n",
       "      <td>0.321528</td>\n",
       "      <td>0.0</td>\n",
       "      <td>...</td>\n",
       "      <td>0.0</td>\n",
       "      <td>0.0</td>\n",
       "      <td>0.0</td>\n",
       "      <td>0.0</td>\n",
       "      <td>0.0</td>\n",
       "      <td>1.0</td>\n",
       "      <td>0.0</td>\n",
       "      <td>1.0</td>\n",
       "      <td>0.000000</td>\n",
       "      <td>174.0</td>\n",
       "    </tr>\n",
       "    <tr>\n",
       "      <th>1942</th>\n",
       "      <td>2020-09-20</td>\n",
       "      <td>-17.0</td>\n",
       "      <td>-2.0</td>\n",
       "      <td>13.0</td>\n",
       "      <td>-33.0</td>\n",
       "      <td>-12.0</td>\n",
       "      <td>3.0</td>\n",
       "      <td>-16.00</td>\n",
       "      <td>0.000000</td>\n",
       "      <td>0.0</td>\n",
       "      <td>...</td>\n",
       "      <td>0.0</td>\n",
       "      <td>0.0</td>\n",
       "      <td>0.0</td>\n",
       "      <td>0.0</td>\n",
       "      <td>0.0</td>\n",
       "      <td>0.0</td>\n",
       "      <td>0.0</td>\n",
       "      <td>1.0</td>\n",
       "      <td>0.000000</td>\n",
       "      <td>174.0</td>\n",
       "    </tr>\n",
       "    <tr>\n",
       "      <th>1202</th>\n",
       "      <td>2020-09-20</td>\n",
       "      <td>-22.0</td>\n",
       "      <td>-9.0</td>\n",
       "      <td>-31.0</td>\n",
       "      <td>-30.0</td>\n",
       "      <td>-23.0</td>\n",
       "      <td>5.0</td>\n",
       "      <td>-21.00</td>\n",
       "      <td>0.125805</td>\n",
       "      <td>0.0</td>\n",
       "      <td>...</td>\n",
       "      <td>0.0</td>\n",
       "      <td>0.0</td>\n",
       "      <td>0.0</td>\n",
       "      <td>0.0</td>\n",
       "      <td>0.0</td>\n",
       "      <td>0.0</td>\n",
       "      <td>0.0</td>\n",
       "      <td>1.0</td>\n",
       "      <td>0.176471</td>\n",
       "      <td>174.0</td>\n",
       "    </tr>\n",
       "    <tr>\n",
       "      <th>277</th>\n",
       "      <td>2020-09-20</td>\n",
       "      <td>-30.0</td>\n",
       "      <td>-12.0</td>\n",
       "      <td>12.0</td>\n",
       "      <td>-38.0</td>\n",
       "      <td>-16.0</td>\n",
       "      <td>6.0</td>\n",
       "      <td>-24.00</td>\n",
       "      <td>0.016667</td>\n",
       "      <td>0.0</td>\n",
       "      <td>...</td>\n",
       "      <td>0.0</td>\n",
       "      <td>0.0</td>\n",
       "      <td>0.0</td>\n",
       "      <td>0.0</td>\n",
       "      <td>0.0</td>\n",
       "      <td>0.0</td>\n",
       "      <td>0.0</td>\n",
       "      <td>1.0</td>\n",
       "      <td>0.000000</td>\n",
       "      <td>174.0</td>\n",
       "    </tr>\n",
       "  </tbody>\n",
       "</table>\n",
       "<p>2540 rows × 2339 columns</p>\n",
       "</div>"
      ],
      "text/plain": [
       "           date  retail_rec  groc_pharm  parks  transit  workplaces  \\\n",
       "0    2020-03-30       -48.0       -23.0   -1.0    -71.0       -64.0   \n",
       "1028 2020-03-30       -34.0       -18.0  -30.0    -35.0       -44.0   \n",
       "801  2020-03-30       -44.0       -22.0  -21.0    -51.0       -51.0   \n",
       "783  2020-03-30       -44.0       -26.0  -44.0    -71.0       -43.0   \n",
       "1943 2020-03-30       -51.0       -25.0    4.0    -74.0       -73.0   \n",
       "...         ...         ...         ...    ...      ...         ...   \n",
       "971  2020-09-20       -27.0       -10.0   14.0    -38.0       -17.0   \n",
       "2513 2020-09-20       -22.0       -14.0   12.0    -11.0       -17.0   \n",
       "1942 2020-09-20       -17.0        -2.0   13.0    -33.0       -12.0   \n",
       "1202 2020-09-20       -22.0        -9.0  -31.0    -30.0       -23.0   \n",
       "277  2020-09-20       -30.0       -12.0   12.0    -38.0       -16.0   \n",
       "\n",
       "      residential  public  polarity  aad  ...  county_Siskiyou County  \\\n",
       "0            27.0  -51.50  0.233333  0.0  ...                     0.0   \n",
       "1028         17.0  -32.75  0.068750  0.0  ...                     0.0   \n",
       "801          23.0  -42.00  0.126970  0.0  ...                     0.0   \n",
       "783          15.0  -46.00  0.500000  0.0  ...                     0.0   \n",
       "1943         32.0  -55.75 -0.060714  0.0  ...                     0.0   \n",
       "...           ...     ...       ...  ...  ...                     ...   \n",
       "971           6.0  -23.00  0.146667  0.0  ...                     0.0   \n",
       "2513          5.0  -16.00  0.321528  0.0  ...                     0.0   \n",
       "1942          3.0  -16.00  0.000000  0.0  ...                     0.0   \n",
       "1202          5.0  -21.00  0.125805  0.0  ...                     0.0   \n",
       "277           6.0  -24.00  0.016667  0.0  ...                     0.0   \n",
       "\n",
       "      county_Solano County  county_Sonoma County  county_Stanislaus County  \\\n",
       "0                      0.0                   0.0                       0.0   \n",
       "1028                   0.0                   0.0                       0.0   \n",
       "801                    0.0                   0.0                       0.0   \n",
       "783                    0.0                   0.0                       0.0   \n",
       "1943                   0.0                   0.0                       0.0   \n",
       "...                    ...                   ...                       ...   \n",
       "971                    0.0                   0.0                       0.0   \n",
       "2513                   0.0                   0.0                       0.0   \n",
       "1942                   0.0                   0.0                       0.0   \n",
       "1202                   0.0                   0.0                       0.0   \n",
       "277                    0.0                   0.0                       0.0   \n",
       "\n",
       "      county_Tulare County  county_Ventura County  county_Yolo County  \\\n",
       "0                      0.0                    0.0                 0.0   \n",
       "1028                   0.0                    0.0                 0.0   \n",
       "801                    0.0                    0.0                 0.0   \n",
       "783                    0.0                    0.0                 0.0   \n",
       "1943                   0.0                    0.0                 0.0   \n",
       "...                    ...                    ...                 ...   \n",
       "971                    0.0                    0.0                 0.0   \n",
       "2513                   0.0                    1.0                 0.0   \n",
       "1942                   0.0                    0.0                 0.0   \n",
       "1202                   0.0                    0.0                 0.0   \n",
       "277                    0.0                    0.0                 0.0   \n",
       "\n",
       "      truncated_True  possibly_sensitive_True  date_num  \n",
       "0                0.0                 0.000000       0.0  \n",
       "1028             0.0                 0.500000       0.0  \n",
       "801              0.0                 0.000000       0.0  \n",
       "783              0.0                 0.000000       0.0  \n",
       "1943             0.0                 0.000000       0.0  \n",
       "...              ...                      ...       ...  \n",
       "971              1.0                 0.000000     174.0  \n",
       "2513             1.0                 0.000000     174.0  \n",
       "1942             1.0                 0.000000     174.0  \n",
       "1202             1.0                 0.176471     174.0  \n",
       "277              1.0                 0.000000     174.0  \n",
       "\n",
       "[2540 rows x 2339 columns]"
      ]
     },
     "execution_count": 431,
     "metadata": {},
     "output_type": "execute_result"
    }
   ],
   "source": [
    "final_df"
   ]
  },
  {
   "cell_type": "markdown",
   "metadata": {},
   "source": [
    "### Split into train & test"
   ]
  },
  {
   "cell_type": "code",
   "execution_count": 432,
   "metadata": {},
   "outputs": [],
   "source": [
    "def get_X_train_test(df):\n",
    "    X_train = df[df['date'] < pd.to_datetime('2020-06-15')]\n",
    "    X_test = df[df['date'] >= pd.to_datetime('2020-06-15')]\n",
    "    return (X_train, X_test)"
   ]
  },
  {
   "cell_type": "code",
   "execution_count": 433,
   "metadata": {},
   "outputs": [],
   "source": [
    "def get_X_y_train_test(df_train, df_test, cols_to_drop = mobility_columns+['date'], public=True):\n",
    "    X_train = df_train.drop(columns=cols_to_drop)\n",
    "    y_public_train = np.array(df_train['public'])\n",
    "#     y_residential_train = df_train['residential']\n",
    "    X_test = df_test.drop(columns=cols_to_drop)\n",
    "    y_public_test = np.array(df_test['public'])\n",
    "#     y_residential_test = df_test['residential']\n",
    "    return (X_train, X_test, y_public_train, y_public_test)"
   ]
  },
  {
   "cell_type": "code",
   "execution_count": 434,
   "metadata": {},
   "outputs": [],
   "source": [
    "#plt.scatter(before_mid)"
   ]
  },
  {
   "cell_type": "code",
   "execution_count": 435,
   "metadata": {},
   "outputs": [
    {
     "data": {
      "text/plain": [
       "<matplotlib.collections.PathCollection at 0x7fc2b675fc70>"
      ]
     },
     "execution_count": 435,
     "metadata": {},
     "output_type": "execute_result"
    },
    {
     "data": {
      "image/png": "[encoded data removed]",
      "text/plain": [
       "<Figure size 432x288 with 1 Axes>"
      ]
     },
     "metadata": {
      "needs_background": "light"
     },
     "output_type": "display_data"
    }
   ],
   "source": [
    "plt.scatter(final_df['truncated_True'], final_df['public'])"
   ]
  },
  {
   "cell_type": "code",
   "execution_count": 436,
   "metadata": {},
   "outputs": [],
   "source": [
    "#few_cols_train = few_cols_train.iloc[:,8:]\n",
    "#few_cols_test = few_cols_test.iloc[:, 8:]\n",
    "#few_cols_test"
   ]
  },
  {
   "cell_type": "code",
   "execution_count": 437,
   "metadata": {},
   "outputs": [],
   "source": [
    "few_cols_train = few_cols_train.drop(labels= ['date_num'], axis = 1)\n",
    "few_cols_test = few_cols_test.drop(labels= ['date_num'], axis = 1)"
   ]
  },
  {
   "cell_type": "code",
   "execution_count": 438,
   "metadata": {},
   "outputs": [],
   "source": [
    "#y_public_"
   ]
  },
  {
   "cell_type": "markdown",
   "metadata": {},
   "source": [
    "### Build the linear model"
   ]
  },
  {
   "cell_type": "code",
   "execution_count": 439,
   "metadata": {
    "scrolled": false
   },
   "outputs": [],
   "source": [
    "#public\n",
    "lm = linear_model.LinearRegression()\n",
    "lm.fit(few_cols_train, y_public_train)\n",
    "y_public_pred = lm.predict(few_cols_test)\n",
    "\n",
    "#residential\n",
    "lm_residential = linear_model.LinearRegression()\n",
    "lm_residential.fit(few_cols_train, y_residential_train)\n",
    "y_residential_pred = lm_residential.predict(few_cols_test)\n",
    "\n",
    "#workplaces\n",
    "lm_wp = linear_model.LinearRegression()\n",
    "lm_wp.fit(few_cols_train, y_wp_train)\n",
    "y_wp_pred = lm_wp.predict(few_cols_test)\n",
    "\n",
    "#retail_rec',\n",
    "lm_retail = linear_model.LinearRegression()\n",
    "lm_retail.fit(few_cols_train, y_retail_train)\n",
    "y_retail_pred = lm_retail.predict(few_cols_test)\n",
    "\n",
    "#groc_pharm',\n",
    "lm_groc = linear_model.LinearRegression()\n",
    "lm_groc.fit(few_cols_train, y_groc_train)\n",
    "y_groc_pred = lm_groc.predict(few_cols_test)\n",
    "\n",
    "#parks',\n",
    "lm_parks = linear_model.LinearRegression()\n",
    "lm_parks.fit(few_cols_train, y_parks_train)\n",
    "y_parks_pred = lm_parks.predict(few_cols_test)\n",
    "\n",
    "#transit'\n",
    "lm_transit = linear_model.LinearRegression()\n",
    "lm_transit.fit(few_cols_train, y_transit_train)\n",
    "y_transit_pred = lm_transit.predict(few_cols_test)"
   ]
  },
  {
   "cell_type": "code",
   "execution_count": 440,
   "metadata": {},
   "outputs": [
    {
     "data": {
      "text/plain": [
       "0.0"
      ]
     },
     "execution_count": 440,
     "metadata": {},
     "output_type": "execute_result"
    }
   ],
   "source": [
    "#public\n",
    "sum(y_public_pred == y_public_test) / len(y_public_test)"
   ]
  },
  {
   "cell_type": "code",
   "execution_count": 441,
   "metadata": {},
   "outputs": [
    {
     "data": {
      "text/plain": [
       "0.0"
      ]
     },
     "execution_count": 441,
     "metadata": {},
     "output_type": "execute_result"
    }
   ],
   "source": [
    "#residential\n",
    "sum(y_residential_pred == y_residential_test) / len(y_residential_test)\n",
    "\n",
    "#workplaces \n",
    "\n",
    "sum(y_wp_pred == y_wp_test) / len(y_wp_test)"
   ]
  },
  {
   "cell_type": "code",
   "execution_count": 442,
   "metadata": {},
   "outputs": [
    {
     "data": {
      "text/plain": [
       "array([-51.37645936, -46.86195078, -28.44929732, -30.65071089,\n",
       "       -49.71917841, -31.89411708, -38.23864888, -39.90118053,\n",
       "       -31.56985804, -25.90394487, -25.88576153, -33.08937994,\n",
       "       -32.66717409, -37.5879405 , -20.15027771, -37.99095725,\n",
       "       -37.33873793, -31.98913386, -50.5330735 , -37.28296907])"
      ]
     },
     "execution_count": 442,
     "metadata": {},
     "output_type": "execute_result"
    }
   ],
   "source": [
    "y_public_pred[:20]"
   ]
  },
  {
   "cell_type": "code",
   "execution_count": 443,
   "metadata": {},
   "outputs": [
    {
     "data": {
      "text/plain": [
       "array([26.18124373, 22.64555149, 15.15066538, ..., 12.83684187,\n",
       "       14.69913074, 18.61752611])"
      ]
     },
     "execution_count": 443,
     "metadata": {},
     "output_type": "execute_result"
    }
   ],
   "source": [
    "y_residential_pred"
   ]
  },
  {
   "cell_type": "code",
   "execution_count": 444,
   "metadata": {},
   "outputs": [
    {
     "data": {
      "text/plain": [
       "array([-45.  , -44.5 , -21.75, -21.75, -45.5 , -17.5 , -31.5 , -32.5 ,\n",
       "       -26.  , -23.  , -17.25, -25.5 , -27.5 , -34.25, -17.  , -29.75,\n",
       "       -29.5 , -24.  , -43.25, -28.25])"
      ]
     },
     "execution_count": 444,
     "metadata": {},
     "output_type": "execute_result"
    }
   ],
   "source": [
    "np.array(y_public_test[:20])"
   ]
  },
  {
   "cell_type": "code",
   "execution_count": 445,
   "metadata": {},
   "outputs": [
    {
     "data": {
      "text/plain": [
       "array([24., 21., 12., 10., 25.,  9., 13., 14., 12., 11.,  9.,  9., 12.,\n",
       "       16.,  9., 14., 15., 12., 25., 16.])"
      ]
     },
     "execution_count": 445,
     "metadata": {},
     "output_type": "execute_result"
    }
   ],
   "source": [
    "np.array(y_residential_test[:20])"
   ]
  },
  {
   "cell_type": "code",
   "execution_count": 446,
   "metadata": {},
   "outputs": [],
   "source": [
    "def get_accuracy(pred_y, actual_y, margin=0):\n",
    "    accuracies = []\n",
    "    for i in range(len(pred_y)):\n",
    "        if (abs(pred_y[i] - actual_y[i]) <= margin):\n",
    "            accuracies.append(1)\n",
    "        else:\n",
    "            accuracies.append(0)\n",
    "    return sum(accuracies)/len(accuracies)"
   ]
  },
  {
   "cell_type": "code",
   "execution_count": 447,
   "metadata": {},
   "outputs": [
    {
     "data": {
      "text/plain": [
       "<matplotlib.collections.PathCollection at 0x7fc13ea76430>"
      ]
     },
     "execution_count": 447,
     "metadata": {},
     "output_type": "execute_result"
    },
    {
     "data": {
      "image/png": "[encoded data removed]",
      "text/plain": [
       "<Figure size 432x288 with 1 Axes>"
      ]
     },
     "metadata": {
      "needs_background": "light"
     },
     "output_type": "display_data"
    }
   ],
   "source": [
    "residuals = y_public_test - y_public_pred\n",
    "plt.scatter(y_public_pred, residuals)"
   ]
  },
  {
   "cell_type": "code",
   "execution_count": 460,
   "metadata": {},
   "outputs": [
    {
     "data": {
      "text/plain": [
       "0.720808871493803"
      ]
     },
     "execution_count": 460,
     "metadata": {},
     "output_type": "execute_result"
    }
   ],
   "source": [
    "get_accuracy(y_public_pred, y_public_test, margin=10)"
   ]
  },
  {
   "cell_type": "code",
   "execution_count": 458,
   "metadata": {},
   "outputs": [
    {
     "data": {
      "text/plain": [
       "0.8538812785388128"
      ]
     },
     "execution_count": 458,
     "metadata": {},
     "output_type": "execute_result"
    }
   ],
   "source": [
    "get_accuracy(y_residential_pred, y_residential_test, margin=10)"
   ]
  },
  {
   "cell_type": "code",
   "execution_count": 461,
   "metadata": {},
   "outputs": [
    {
     "data": {
      "text/plain": [
       "0.6836268754076973"
      ]
     },
     "execution_count": 461,
     "metadata": {},
     "output_type": "execute_result"
    }
   ],
   "source": [
    "get_accuracy(y_wp_pred, y_wp_test, margin = 10)"
   ]
  },
  {
   "cell_type": "code",
   "execution_count": 462,
   "metadata": {},
   "outputs": [
    {
     "data": {
      "text/plain": [
       "0.091324200913242"
      ]
     },
     "execution_count": 462,
     "metadata": {},
     "output_type": "execute_result"
    }
   ],
   "source": [
    "get_accuracy(y_retail_pred, y_retail_test, margin = 10)"
   ]
  },
  {
   "cell_type": "code",
   "execution_count": 457,
   "metadata": {},
   "outputs": [
    {
     "data": {
      "text/plain": [
       "0.9360730593607306"
      ]
     },
     "execution_count": 457,
     "metadata": {},
     "output_type": "execute_result"
    }
   ],
   "source": [
    "get_accuracy(y_groc_pred, y_groc_test, margin = 10)"
   ]
  },
  {
   "cell_type": "code",
   "execution_count": 463,
   "metadata": {},
   "outputs": [
    {
     "data": {
      "text/plain": [
       "0.16829745596868884"
      ]
     },
     "execution_count": 463,
     "metadata": {},
     "output_type": "execute_result"
    }
   ],
   "source": [
    "get_accuracy(y_parks_pred, y_parks_test, margin = 10)"
   ]
  },
  {
   "cell_type": "code",
   "execution_count": 466,
   "metadata": {},
   "outputs": [
    {
     "data": {
      "text/plain": [
       "0.7084148727984344"
      ]
     },
     "execution_count": 466,
     "metadata": {},
     "output_type": "execute_result"
    }
   ],
   "source": [
    "get_accuracy(y_transit_pred, y_transit_test, margin = 10)"
   ]
  },
  {
   "cell_type": "code",
   "execution_count": null,
   "metadata": {},
   "outputs": [],
   "source": []
  }
 ],
 "metadata": {
  "kernelspec": {
   "display_name": "Python 3",
   "language": "python",
   "name": "python3"
  },
  "language_info": {
   "codemirror_mode": {
    "name": "ipython",
    "version": 3
   },
   "file_extension": ".py",
   "mimetype": "text/x-python",
   "name": "python",
   "nbconvert_exporter": "python",
   "pygments_lexer": "ipython3",
   "version": "3.8.3"
  }
 },
 "nbformat": 4,
 "nbformat_minor": 2
}
