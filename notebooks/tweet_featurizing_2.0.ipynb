{
 "cells": [
  {
   "cell_type": "code",
   "execution_count": 1,
   "metadata": {},
   "outputs": [
    {
     "name": "stdout",
     "output_type": "stream",
     "text": [
      "Collecting textblob\n",
      "  Downloading textblob-0.15.3-py2.py3-none-any.whl (636 kB)\n",
      "\u001b[K     |████████████████████████████████| 636 kB 890 kB/s eta 0:00:01\n",
      "\u001b[?25hRequirement already satisfied: nltk>=3.1 in /Users/katiecason/opt/anaconda3/lib/python3.8/site-packages (from textblob) (3.5)\n",
      "Requirement already satisfied: click in /Users/katiecason/opt/anaconda3/lib/python3.8/site-packages (from nltk>=3.1->textblob) (7.1.2)\n",
      "Requirement already satisfied: tqdm in /Users/katiecason/opt/anaconda3/lib/python3.8/site-packages (from nltk>=3.1->textblob) (4.47.0)\n",
      "Requirement already satisfied: regex in /Users/katiecason/opt/anaconda3/lib/python3.8/site-packages (from nltk>=3.1->textblob) (2020.6.8)\n",
      "Requirement already satisfied: joblib in /Users/katiecason/opt/anaconda3/lib/python3.8/site-packages (from nltk>=3.1->textblob) (0.16.0)\n",
      "Installing collected packages: textblob\n",
      "Successfully installed textblob-0.15.3\n",
      "Note: you may need to restart the kernel to use updated packages.\n"
     ]
    }
   ],
   "source": [
    "pip install textblob"
   ]
  },
  {
   "cell_type": "code",
   "execution_count": 8,
   "metadata": {},
   "outputs": [],
   "source": [
    "import pandas as pd\n",
    "#from datascience import *\n",
    "import numpy as np\n",
    "import pandas as pd\n",
    "from sklearn.feature_extraction.text import CountVectorizer\n",
    "from sklearn.feature_extraction import DictVectorizer\n",
    "from sklearn.feature_extraction.text import TfidfTransformer\n",
    "from sklearn.feature_extraction.stop_words import ENGLISH_STOP_WORDS\n",
    "from sklearn.feature_extraction.text import TfidfVectorizer\n",
    "from sklearn.model_selection import train_test_split\n",
    "from sklearn import linear_model\n",
    "from sklearn.metrics import confusion_matrix\n",
    "from sklearn import svm\n",
    "import matplotlib.pyplot as plt\n",
    "from sklearn.naive_bayes import MultinomialNB\n",
    "import itertools\n",
    "import seaborn as sn\n",
    "from textblob import TextBlob\n",
    "import twint\n",
    "%matplotlib inline"
   ]
  },
  {
   "cell_type": "code",
   "execution_count": 16,
   "metadata": {},
   "outputs": [],
   "source": [
    "import nltk\n",
    "from nltk.stem import *\n",
    "import re "
   ]
  },
  {
   "cell_type": "markdown",
   "metadata": {},
   "source": [
    "## Load in the data:"
   ]
  },
  {
   "cell_type": "code",
   "execution_count": 75,
   "metadata": {},
   "outputs": [],
   "source": [
    "path = '../data/month to month tweet CSVs/'\n",
    "\n",
    "df = pd.read_csv(path+ 'california_tweets.csv')"
   ]
  },
  {
   "cell_type": "markdown",
   "metadata": {},
   "source": [
    "## Add a polarity column:"
   ]
  },
  {
   "cell_type": "code",
   "execution_count": 76,
   "metadata": {},
   "outputs": [],
   "source": [
    "def get_polarity(text):\n",
    "    blob = TextBlob(text)\n",
    "    return blob.sentiment.polarity"
   ]
  },
  {
   "cell_type": "markdown",
   "metadata": {},
   "source": [
    "## Preprocess the data:"
   ]
  },
  {
   "cell_type": "markdown",
   "metadata": {},
   "source": [
    "#### Create a preprocessor function to preprocess the tweets & make a new column with the preprocessed text:"
   ]
  },
  {
   "cell_type": "code",
   "execution_count": 79,
   "metadata": {},
   "outputs": [],
   "source": [
    "def preprocessor(data):\n",
    "    \n",
    "    # TfidfVectorizer puts all letters in lowercase by default\n",
    "    data = data.lower()\n",
    "\n",
    "    # sub hyphens with no space\n",
    "    data = re.sub(\"\\-\", '', data)\n",
    "    \n",
    "    # sub non letter & non digit characters w/ a space\n",
    "    data = re.sub(\"[^A-Za-z0-9 \\\\n]\",\" \", data)\n",
    "    \n",
    "    # sub digit characters with '#' character\n",
    "    data = re.sub(\"[\\d]\", \"\\#\", data) \n",
    "    \n",
    "    # removing stop words\n",
    "    stop_words = ['and', 'but', 'the', 'just', 'or', 'it', 'of', 'to', 'her','he']\n",
    "    for word in stop_words:\n",
    "        data = data.replace(word, \"\")\n",
    "    \n",
    "    # stemming words\n",
    "    stem = PorterStemmer()\n",
    "    for word in data:\n",
    "        data = data.replace(word, stem.stem(word))\n",
    "        \n",
    "    # shorten long words of length 7 or more\n",
    "    data = re.sub('(\\w{7})\\w+', '\\\\1', data)\n",
    "    \n",
    "    return data"
   ]
  },
  {
   "cell_type": "markdown",
   "metadata": {},
   "source": [
    "#### Featurize the data with TfidfVectorizer & add feature names to the dataframe:"
   ]
  },
  {
   "cell_type": "code",
   "execution_count": 87,
   "metadata": {},
   "outputs": [],
   "source": [
    "def tvect(data):\n",
    "    vect = TfidfVectorizer(min_df = 20)\n",
    "    fitted = vect.fit_transform(data)\n",
    "    return fitted, vect.get_feature_names()\n",
    "\n",
    "featurized = tvect(df.preprocess_full_text)"
   ]
  },
  {
   "cell_type": "markdown",
   "metadata": {},
   "source": [
    "## MAKE INTO 1 BIG FUNCTION:"
   ]
  },
  {
   "cell_type": "code",
   "execution_count": 93,
   "metadata": {},
   "outputs": [],
   "source": [
    "def featurize(csv, path):\n",
    "    #read in csv & make a df\n",
    "    df = pd.read_csv(path+ csv)\n",
    "    \n",
    "    #add polarity column\n",
    "    df['polarity'] = df['full_text'].apply(get_polarity)\n",
    "    \n",
    "    #add preprocessed column\n",
    "    df['preprocess_full_text'] = df.full_text.apply(lambda x: preprocessor(x))\n",
    "    \n",
    "    #add feature names from TfidfVectorizer\n",
    "    featurized = tvect(df.preprocess_full_text)\n",
    "    df1 = pd.DataFrame(featurized[0].toarray(), columns=featurized[1])\n",
    "    df = pd.concat([df, df1], axis=1)\n",
    "    \n",
    "    return df"
   ]
  },
  {
   "cell_type": "code",
   "execution_count": 100,
   "metadata": {},
   "outputs": [],
   "source": [
    "df = featurize( 'july-august_tweets.csv' , '../data/month to month tweet CSVs/')"
   ]
  },
  {
   "cell_type": "code",
   "execution_count": null,
   "metadata": {},
   "outputs": [],
   "source": [
    " "
   ]
  },
  {
   "cell_type": "code",
   "execution_count": null,
   "metadata": {},
   "outputs": [],
   "source": []
  }
 ],
 "metadata": {
  "kernelspec": {
   "display_name": "Python 3",
   "language": "python",
   "name": "python3"
  },
  "language_info": {
   "codemirror_mode": {
    "name": "ipython",
    "version": 3
   },
   "file_extension": ".py",
   "mimetype": "text/x-python",
   "name": "python",
   "nbconvert_exporter": "python",
   "pygments_lexer": "ipython3",
   "version": "3.8.3"
  }
 },
 "nbformat": 4,
 "nbformat_minor": 4
}
