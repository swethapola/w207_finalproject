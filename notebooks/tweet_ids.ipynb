{
 "cells": [
  {
   "cell_type": "code",
   "execution_count": 1,
   "metadata": {},
   "outputs": [],
   "source": [
    "import pandas as pd\n",
    "import os"
   ]
  },
  {
   "cell_type": "code",
   "execution_count": 2,
   "metadata": {},
   "outputs": [],
   "source": [
    "cwd = '../data/raw_data/'\n",
    "clean_dir = '../data/'\n"
   ]
  },
  {
   "cell_type": "code",
   "execution_count": 12,
   "metadata": {},
   "outputs": [],
   "source": [
    "import pandas as pd\n",
    "\n",
    "def csv_cleanup(month1, month2, day1, day2):\n",
    "    '''input: csv name \n",
    "    output: just the first column of tweet ids for hydration'''\n",
    "    dataframe=pd.read_csv((cwd + month1 + day1 +\"_\" + month2+day2 + '.csv'), header=None)\n",
    "    dataframe=dataframe[0]\n",
    "    dataframe.to_csv((clean_dir + month1+day1 +\"_\" + month2+day2 + \".csv\"), index=False, header=None)\n",
    "    "
   ]
  },
  {
   "cell_type": "code",
   "execution_count": 14,
   "metadata": {},
   "outputs": [],
   "source": [
    "#MARCH: 31 DAYS\n",
    "\n",
    "#20-28 because date 29-30 doesn't exist\n",
    "for i in range(20, 28):\n",
    "    csv_cleanup('march', 'march', str(i), str(i+1))\n",
    "\n",
    "csv_cleanup('march', 'march', '30', '31') \n",
    "csv_cleanup('march', 'april', '31', '1')"
   ]
  },
  {
   "cell_type": "code",
   "execution_count": 16,
   "metadata": {},
   "outputs": [],
   "source": [
    "#APRIL: 30 DAYS\n",
    "\n",
    "for i in range(1, 29):\n",
    "    csv_cleanup('april', 'april', str(i), str(i+1))\n",
    "\n",
    "csv_cleanup('april', 'may', '30', '1')"
   ]
  },
  {
   "cell_type": "code",
   "execution_count": 6,
   "metadata": {},
   "outputs": [],
   "source": [
    "#MAY: 31 DAYS\n",
    "\n",
    "for i in range(1, 30):\n",
    "    csv_cleanup('may', 'may', str(i), str(i+1))\n",
    "\n",
    "csv_cleanup('may', 'june', '31', '1')"
   ]
  },
  {
   "cell_type": "code",
   "execution_count": 7,
   "metadata": {},
   "outputs": [],
   "source": [
    "#JUNE: 30 DAYS\n",
    "\n",
    "for i in range(1, 29):\n",
    "    csv_cleanup('june', 'june', str(i), str(i+1))\n",
    "\n",
    "csv_cleanup('june', 'july', '30', '1')"
   ]
  },
  {
   "cell_type": "code",
   "execution_count": 8,
   "metadata": {},
   "outputs": [],
   "source": [
    "#JULY: 31 DAYS\n",
    "\n",
    "for i in range(1, 30):\n",
    "    csv_cleanup('july', 'july', str(i), str(i+1))\n",
    "\n",
    "csv_cleanup('july', 'august', '31', '1')"
   ]
  },
  {
   "cell_type": "code",
   "execution_count": 9,
   "metadata": {},
   "outputs": [],
   "source": [
    "#AUGUST: 31 DAYS\n",
    "for i in range(1, 30):\n",
    "    csv_cleanup('august', 'august', str(i), str(i+1))\n",
    "\n",
    "csv_cleanup('august', 'september', '31', '1')"
   ]
  },
  {
   "cell_type": "code",
   "execution_count": 10,
   "metadata": {},
   "outputs": [],
   "source": [
    "#SEPTEMBER: 30 DAYS\n",
    "for i in range(1, 29):\n",
    "    csv_cleanup('september', 'september', str(i), str(i+1))\n",
    "\n",
    "csv_cleanup('september', 'october', '30', '1')"
   ]
  },
  {
   "cell_type": "code",
   "execution_count": 11,
   "metadata": {},
   "outputs": [],
   "source": [
    "#OCTOBER: 31 DAYS\n",
    "\n",
    "for i in range(1, 30):\n",
    "    csv_cleanup('october', 'october', str(i), str(i+1))\n",
    "\n",
    "csv_cleanup('october', 'november', '31', '1')"
   ]
  },
  {
   "cell_type": "code",
   "execution_count": 12,
   "metadata": {},
   "outputs": [],
   "source": [
    "#NOVEMBER: 30 DAYS\n",
    "\n",
    "for i in range(1, 29):\n",
    "    csv_cleanup('november', 'november', str(i), str(i+1))\n",
    "\n",
    "csv_cleanup('november', 'december', '30', '1')"
   ]
  }
 ],
 "metadata": {
  "kernelspec": {
   "display_name": "Python 3",
   "language": "python",
   "name": "python3"
  },
  "language_info": {
   "codemirror_mode": {
    "name": "ipython",
    "version": 3
   },
   "file_extension": ".py",
   "mimetype": "text/x-python",
   "name": "python",
   "nbconvert_exporter": "python",
   "pygments_lexer": "ipython3",
   "version": "3.8.3"
  }
 },
 "nbformat": 4,
 "nbformat_minor": 4
}
