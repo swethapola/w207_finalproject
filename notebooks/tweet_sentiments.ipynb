{
 "cells": [
  {
   "cell_type": "markdown",
   "metadata": {},
   "source": [
    "# Introduction\n",
    "\n",
    "This notebook produces 2 CSVs.\n",
    "\n",
    "The first of which is a concatenated version of ALL tweet ids in the clean_data.\n",
    "The second of which is a df of sentiment scores for the california tweets."
   ]
  },
  {
   "cell_type": "code",
   "execution_count": 113,
   "metadata": {},
   "outputs": [],
   "source": [
    "import pandas as pd\n",
    "import os"
   ]
  },
  {
   "cell_type": "code",
   "execution_count": 114,
   "metadata": {},
   "outputs": [],
   "source": [
    "def sentiment_concatenation(df, month1, month2, day1, day2):\n",
    "    '''input: df to concatenate to, new csv name \n",
    "    output: concatenated csvs'''\n",
    "    new_df=pd.read_csv((cwd + month1 + day1 +\"_\" + month2+day2 + '.csv'), header=None)\n",
    "    df = df.append(new_df)\n",
    "    return df"
   ]
  },
  {
   "cell_type": "markdown",
   "metadata": {},
   "source": [
    "# Read in and concatenate all month CSVs"
   ]
  },
  {
   "cell_type": "code",
   "execution_count": 115,
   "metadata": {},
   "outputs": [],
   "source": [
    "#MARCH: 31 DAYS\n",
    "\n",
    "#20-28 because date 29-30 doesn't exist\n",
    "df = pd.DataFrame()\n",
    "for i in range(20, 28):\n",
    "    sentiment_concatenation(df, 'march', 'march', str(i), str(i+1))\n",
    "\n",
    "df = sentiment_concatenation(df, 'march', 'march', '30', '31') \n",
    "df = sentiment_concatenation(df, 'march', 'april', '31', '1')"
   ]
  },
  {
   "cell_type": "code",
   "execution_count": 116,
   "metadata": {},
   "outputs": [],
   "source": [
    "#APRIL: 30 DAYS\n",
    "\n",
    "for i in range(1, 29):\n",
    "    df = sentiment_concatenation(df,'april', 'april', str(i), str(i+1))\n",
    "\n",
    "df = sentiment_concatenation(df,'april', 'may', '30', '1')"
   ]
  },
  {
   "cell_type": "code",
   "execution_count": 117,
   "metadata": {},
   "outputs": [],
   "source": [
    "#MAY: 31 DAYS\n",
    "\n",
    "for i in range(1, 30):\n",
    "    df = sentiment_concatenation(df,'may', 'may', str(i), str(i+1))\n",
    "\n",
    "df = sentiment_concatenation(df,'may', 'june', '31', '1')"
   ]
  },
  {
   "cell_type": "code",
   "execution_count": 118,
   "metadata": {},
   "outputs": [],
   "source": [
    "#JUNE: 30 DAYS\n",
    "\n",
    "for i in range(1, 29):\n",
    "    df = sentiment_concatenation(df,'june', 'june', str(i), str(i+1))\n",
    "\n",
    "df = sentiment_concatenation(df,'june', 'july', '30', '1')"
   ]
  },
  {
   "cell_type": "code",
   "execution_count": 119,
   "metadata": {},
   "outputs": [],
   "source": [
    "#JULY: 31 DAYS\n",
    "\n",
    "for i in range(1, 30):\n",
    "    df = sentiment_concatenation(df,'july', 'july', str(i), str(i+1))\n",
    "\n",
    "df = sentiment_concatenation(df,'july', 'august', '31', '1')"
   ]
  },
  {
   "cell_type": "code",
   "execution_count": 120,
   "metadata": {},
   "outputs": [],
   "source": [
    "#AUGUST: 31 DAYS\n",
    "for i in range(1, 30):\n",
    "    df = sentiment_concatenation(df,'august', 'august', str(i), str(i+1))\n",
    "\n",
    "df = sentiment_concatenation(df,'august', 'september', '31', '1')"
   ]
  },
  {
   "cell_type": "code",
   "execution_count": 121,
   "metadata": {},
   "outputs": [],
   "source": [
    "#SEPTEMBER: 30 DAYS\n",
    "for i in range(1, 29):\n",
    "    df = sentiment_concatenation(df,'september', 'september', str(i), str(i+1))\n",
    "\n",
    "df = sentiment_concatenation(df,'september', 'october', '30', '1')"
   ]
  },
  {
   "cell_type": "code",
   "execution_count": 122,
   "metadata": {},
   "outputs": [],
   "source": [
    "#OCTOBER: 31 DAYS\n",
    "\n",
    "for i in range(1, 30):\n",
    "    df = sentiment_concatenation(df,'october', 'october', str(i), str(i+1))\n",
    "\n",
    "df = sentiment_concatenation(df,'october', 'november', '31', '1')"
   ]
  },
  {
   "cell_type": "code",
   "execution_count": 123,
   "metadata": {},
   "outputs": [],
   "source": [
    "#NOVEMBER: 30 DAYS\n",
    "for i in range(1, 29):\n",
    "    df = sentiment_concatenation(df,'november', 'november', str(i), str(i+1))\n",
    "\n",
    "df = sentiment_concatenation(df,'november', 'december', '30', '1')"
   ]
  },
  {
   "cell_type": "code",
   "execution_count": 124,
   "metadata": {},
   "outputs": [],
   "source": [
    "df = df.rename(columns={0: 'id', 1:\"sentiment\"})\n",
    "df = df.set_index('id')"
   ]
  },
  {
   "cell_type": "markdown",
   "metadata": {},
   "source": [
    "# Read in California Tweets"
   ]
  },
  {
   "cell_type": "code",
   "execution_count": 125,
   "metadata": {},
   "outputs": [],
   "source": [
    "ca_tweets = pd.read_csv('../data/march_to_september.csv')\n",
    "ca_tweets = ca_tweets.set_index('id')"
   ]
  },
  {
   "cell_type": "markdown",
   "metadata": {},
   "source": [
    "# Merge on the ids to attach sentiment score"
   ]
  },
  {
   "cell_type": "code",
   "execution_count": 126,
   "metadata": {},
   "outputs": [],
   "source": [
    "df_sent = ca_tweets.merge(df, how = 'left', on = 'id')\n",
    "df_sent = pd.DataFrame(df_sent['sentiment'])"
   ]
  },
  {
   "cell_type": "code",
   "execution_count": 127,
   "metadata": {},
   "outputs": [],
   "source": [
    "df.to_csv('../data/concatenated.csv')\n",
    "df_sent.to_csv('../data/sentiment_scores.csv')"
   ]
  },
  {
   "cell_type": "code",
   "execution_count": 128,
   "metadata": {},
   "outputs": [
    {
     "data": {
      "text/html": [
       "<div>\n",
       "<style scoped>\n",
       "    .dataframe tbody tr th:only-of-type {\n",
       "        vertical-align: middle;\n",
       "    }\n",
       "\n",
       "    .dataframe tbody tr th {\n",
       "        vertical-align: top;\n",
       "    }\n",
       "\n",
       "    .dataframe thead th {\n",
       "        text-align: right;\n",
       "    }\n",
       "</style>\n",
       "<table border=\"1\" class=\"dataframe\">\n",
       "  <thead>\n",
       "    <tr style=\"text-align: right;\">\n",
       "      <th></th>\n",
       "      <th>sentiment</th>\n",
       "    </tr>\n",
       "    <tr>\n",
       "      <th>id</th>\n",
       "      <th></th>\n",
       "    </tr>\n",
       "  </thead>\n",
       "  <tbody>\n",
       "    <tr>\n",
       "      <th>1241080025371144192</th>\n",
       "      <td>NaN</td>\n",
       "    </tr>\n",
       "    <tr>\n",
       "      <th>1241075581598433281</th>\n",
       "      <td>NaN</td>\n",
       "    </tr>\n",
       "    <tr>\n",
       "      <th>1241068075425857541</th>\n",
       "      <td>NaN</td>\n",
       "    </tr>\n",
       "    <tr>\n",
       "      <th>1241065882694156288</th>\n",
       "      <td>NaN</td>\n",
       "    </tr>\n",
       "    <tr>\n",
       "      <th>1241058413754417153</th>\n",
       "      <td>NaN</td>\n",
       "    </tr>\n",
       "    <tr>\n",
       "      <th>...</th>\n",
       "      <td>...</td>\n",
       "    </tr>\n",
       "    <tr>\n",
       "      <th>1307590494843629570</th>\n",
       "      <td>0.0000</td>\n",
       "    </tr>\n",
       "    <tr>\n",
       "      <th>1307616765594218496</th>\n",
       "      <td>0.3000</td>\n",
       "    </tr>\n",
       "    <tr>\n",
       "      <th>1307622540274069505</th>\n",
       "      <td>0.0000</td>\n",
       "    </tr>\n",
       "    <tr>\n",
       "      <th>1307523162079330307</th>\n",
       "      <td>0.0000</td>\n",
       "    </tr>\n",
       "    <tr>\n",
       "      <th>1307821453367275527</th>\n",
       "      <td>-0.0875</td>\n",
       "    </tr>\n",
       "  </tbody>\n",
       "</table>\n",
       "<p>18018 rows × 1 columns</p>\n",
       "</div>"
      ],
      "text/plain": [
       "                     sentiment\n",
       "id                            \n",
       "1241080025371144192        NaN\n",
       "1241075581598433281        NaN\n",
       "1241068075425857541        NaN\n",
       "1241065882694156288        NaN\n",
       "1241058413754417153        NaN\n",
       "...                        ...\n",
       "1307590494843629570     0.0000\n",
       "1307616765594218496     0.3000\n",
       "1307622540274069505     0.0000\n",
       "1307523162079330307     0.0000\n",
       "1307821453367275527    -0.0875\n",
       "\n",
       "[18018 rows x 1 columns]"
      ]
     },
     "execution_count": 128,
     "metadata": {},
     "output_type": "execute_result"
    }
   ],
   "source": [
    "df_sent"
   ]
  },
  {
   "cell_type": "code",
   "execution_count": null,
   "metadata": {},
   "outputs": [],
   "source": []
  }
 ],
 "metadata": {
  "kernelspec": {
   "display_name": "Python 3",
   "language": "python",
   "name": "python3"
  },
  "language_info": {
   "codemirror_mode": {
    "name": "ipython",
    "version": 3
   },
   "file_extension": ".py",
   "mimetype": "text/x-python",
   "name": "python",
   "nbconvert_exporter": "python",
   "pygments_lexer": "ipython3",
   "version": "3.8.3"
  }
 },
 "nbformat": 4,
 "nbformat_minor": 4
}
