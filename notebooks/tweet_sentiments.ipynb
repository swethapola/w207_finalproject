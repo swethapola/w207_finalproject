{
 "cells": [
  {
   "cell_type": "markdown",
   "metadata": {},
   "source": [
    "# Introduction\n",
    "\n",
    "This notebook produces 2 CSVs.\n",
    "\n",
    "The first of which is a concatenated version of ALL tweet ids in the clean_data.\n",
    "The second of which is a df of sentiment scores for the california tweets."
   ]
  },
  {
   "cell_type": "code",
   "execution_count": 98,
   "metadata": {},
   "outputs": [],
   "source": [
    "import pandas as pd\n",
    "import os"
   ]
  },
  {
   "cell_type": "code",
   "execution_count": 99,
   "metadata": {},
   "outputs": [],
   "source": [
    "def sentiment_concatenation(df, month1, month2, day1, day2):\n",
    "    '''input: df to concatenate to, new csv name \n",
    "    output: concatenated csvs'''\n",
    "    new_df=pd.read_csv((cwd + month1 + day1 +\"_\" + month2+day2 + '.csv'), header=None)\n",
    "    df = df.append(new_df)\n",
    "    return df"
   ]
  },
  {
   "cell_type": "markdown",
   "metadata": {},
   "source": [
    "# Read in and concatenate all month CSVs"
   ]
  },
  {
   "cell_type": "code",
   "execution_count": 100,
   "metadata": {},
   "outputs": [],
   "source": [
    "#MARCH: 31 DAYS\n",
    "\n",
    "#20-28 because date 29-30 doesn't exist\n",
    "df = pd.DataFrame()\n",
    "for i in range(20, 28):\n",
    "    sentiment_concatenation(df, 'march', 'march', str(i), str(i+1))\n",
    "\n",
    "df = sentiment_concatenation(df, 'march', 'march', '30', '31') \n",
    "df = sentiment_concatenation(df, 'march', 'april', '31', '1')"
   ]
  },
  {
   "cell_type": "code",
   "execution_count": 101,
   "metadata": {},
   "outputs": [],
   "source": [
    "#APRIL: 30 DAYS\n",
    "\n",
    "for i in range(1, 29):\n",
    "    df = sentiment_concatenation(df,'april', 'april', str(i), str(i+1))\n",
    "\n",
    "df = sentiment_concatenation(df,'april', 'may', '30', '1')"
   ]
  },
  {
   "cell_type": "code",
   "execution_count": 102,
   "metadata": {},
   "outputs": [],
   "source": [
    "#MAY: 31 DAYS\n",
    "\n",
    "for i in range(1, 30):\n",
    "    df = sentiment_concatenation(df,'may', 'may', str(i), str(i+1))\n",
    "\n",
    "df = sentiment_concatenation(df,'may', 'june', '31', '1')"
   ]
  },
  {
   "cell_type": "code",
   "execution_count": 103,
   "metadata": {},
   "outputs": [],
   "source": [
    "#JUNE: 30 DAYS\n",
    "\n",
    "for i in range(1, 29):\n",
    "    df = sentiment_concatenation(df,'june', 'june', str(i), str(i+1))\n",
    "\n",
    "df = sentiment_concatenation(df,'june', 'july', '30', '1')"
   ]
  },
  {
   "cell_type": "code",
   "execution_count": 104,
   "metadata": {},
   "outputs": [],
   "source": [
    "#JULY: 31 DAYS\n",
    "\n",
    "for i in range(1, 30):\n",
    "    df = sentiment_concatenation(df,'july', 'july', str(i), str(i+1))\n",
    "\n",
    "df = sentiment_concatenation(df,'july', 'august', '31', '1')"
   ]
  },
  {
   "cell_type": "code",
   "execution_count": 105,
   "metadata": {},
   "outputs": [],
   "source": [
    "#AUGUST: 31 DAYS\n",
    "for i in range(1, 30):\n",
    "    df = sentiment_concatenation(df,'august', 'august', str(i), str(i+1))\n",
    "\n",
    "df = sentiment_concatenation(df,'august', 'september', '31', '1')"
   ]
  },
  {
   "cell_type": "code",
   "execution_count": 106,
   "metadata": {},
   "outputs": [],
   "source": [
    "#SEPTEMBER: 30 DAYS\n",
    "for i in range(1, 29):\n",
    "    df = sentiment_concatenation(df,'september', 'september', str(i), str(i+1))\n",
    "\n",
    "df = sentiment_concatenation(df,'september', 'october', '30', '1')"
   ]
  },
  {
   "cell_type": "code",
   "execution_count": 107,
   "metadata": {},
   "outputs": [],
   "source": [
    "#OCTOBER: 31 DAYS\n",
    "\n",
    "for i in range(1, 30):\n",
    "    df = sentiment_concatenation(df,'october', 'october', str(i), str(i+1))\n",
    "\n",
    "df = sentiment_concatenation(df,'october', 'november', '31', '1')"
   ]
  },
  {
   "cell_type": "code",
   "execution_count": 108,
   "metadata": {},
   "outputs": [],
   "source": [
    "#NOVEMBER: 30 DAYS\n",
    "for i in range(1, 29):\n",
    "    df = sentiment_concatenation(df,'november', 'november', str(i), str(i+1))\n",
    "\n",
    "df = sentiment_concatenation(df,'november', 'december', '30', '1')"
   ]
  },
  {
   "cell_type": "code",
   "execution_count": 109,
   "metadata": {},
   "outputs": [],
   "source": [
    "df = df.rename(columns={0: 'id', 1:\"sentiment\"})\n",
    "df = df.set_index('id')"
   ]
  },
  {
   "cell_type": "markdown",
   "metadata": {},
   "source": [
    "# Read in California Tweets"
   ]
  },
  {
   "cell_type": "code",
   "execution_count": 110,
   "metadata": {},
   "outputs": [],
   "source": [
    "ca_tweets = pd.read_csv('../data/california_tweets.csv')\n",
    "ca_tweets = ca_tweets.set_index('id')"
   ]
  },
  {
   "cell_type": "markdown",
   "metadata": {},
   "source": [
    "# Merge on the ids to attach sentiment score"
   ]
  },
  {
   "cell_type": "code",
   "execution_count": 111,
   "metadata": {},
   "outputs": [],
   "source": [
    "df_sent = ca_tweets.merge(df, how = 'left', on = 'id')\n",
    "df_sent = pd.DataFrame(df_sent['sentiment'])"
   ]
  },
  {
   "cell_type": "code",
   "execution_count": 112,
   "metadata": {},
   "outputs": [],
   "source": [
    "df.to_csv('../data/concatenated.csv')\n",
    "df_sent.to_csv('../data/sentiment_scores.csv')"
   ]
  }
 ],
 "metadata": {
  "kernelspec": {
   "display_name": "Python 3",
   "language": "python",
   "name": "python3"
  },
  "language_info": {
   "codemirror_mode": {
    "name": "ipython",
    "version": 3
   },
   "file_extension": ".py",
   "mimetype": "text/x-python",
   "name": "python",
   "nbconvert_exporter": "python",
   "pygments_lexer": "ipython3",
   "version": "3.8.3"
  }
 },
 "nbformat": 4,
 "nbformat_minor": 4
}
