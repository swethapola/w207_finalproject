{
 "cells": [
  {
   "cell_type": "markdown",
   "metadata": {},
   "source": [
    "# Main script to clean UW final satellite pm2.5 data\n",
    "\n",
    "## Model 1: county_ssn\n",
    "\n",
    "Modules: N/A <br>\n",
    "Author: Cornelia Ilin <br>\n",
    "Email: cilin@wisc.edu <br>\n",
    "Date created: Oct 20, 2020 <br>\n",
    "\n",
    "**Citations (code and data)**\n",
    "1. https://zenodo.org/record/2616769#.X5CTHtBKg4d\n",
    "2. https://sites.wustl.edu/junmeng/research/historical-pm2-5-estimation/\n",
    "\n",
    "    \n",
    "**Citations (persons)**\n",
    "1. N/A\n",
    "\n",
    "**Preferred environment**\n",
    "1. Code written in Jupyter Notebooks"
   ]
  },
  {
   "cell_type": "markdown",
   "metadata": {},
   "source": [
    "#### Step 1: Import packages"
   ]
  },
  {
   "cell_type": "code",
   "execution_count": 1,
   "metadata": {},
   "outputs": [],
   "source": [
    "# standard\n",
    "import pandas as pd\n",
    "import numpy as np\n",
    "import os\n",
    "import h5py\n"
   ]
  },
  {
   "cell_type": "code",
   "execution_count": 2,
   "metadata": {},
   "outputs": [
    {
     "name": "stdout",
     "output_type": "stream",
     "text": [
      "Requirement already satisfied: geopandas in /Users/katiecason/opt/anaconda3/lib/python3.8/site-packages (0.8.1)\n",
      "Requirement already satisfied: pyproj>=2.2.0 in /Users/katiecason/opt/anaconda3/lib/python3.8/site-packages (from geopandas) (3.0.0.post1)\n",
      "Requirement already satisfied: pandas>=0.23.0 in /Users/katiecason/opt/anaconda3/lib/python3.8/site-packages (from geopandas) (1.1.4)\n",
      "Requirement already satisfied: fiona in /Users/katiecason/opt/anaconda3/lib/python3.8/site-packages (from geopandas) (1.8.18)\n",
      "Requirement already satisfied: shapely in /Users/katiecason/opt/anaconda3/lib/python3.8/site-packages (from geopandas) (1.7.1)\n",
      "Requirement already satisfied: certifi in /Users/katiecason/opt/anaconda3/lib/python3.8/site-packages (from pyproj>=2.2.0->geopandas) (2020.6.20)\n",
      "Requirement already satisfied: pytz>=2017.2 in /Users/katiecason/opt/anaconda3/lib/python3.8/site-packages (from pandas>=0.23.0->geopandas) (2020.1)\n",
      "Requirement already satisfied: python-dateutil>=2.7.3 in /Users/katiecason/opt/anaconda3/lib/python3.8/site-packages (from pandas>=0.23.0->geopandas) (2.8.1)\n",
      "Requirement already satisfied: numpy>=1.15.4 in /Users/katiecason/opt/anaconda3/lib/python3.8/site-packages (from pandas>=0.23.0->geopandas) (1.19.4)\n",
      "Requirement already satisfied: cligj>=0.5 in /Users/katiecason/opt/anaconda3/lib/python3.8/site-packages (from fiona->geopandas) (0.7.1)\n",
      "Requirement already satisfied: click-plugins>=1.0 in /Users/katiecason/opt/anaconda3/lib/python3.8/site-packages (from fiona->geopandas) (1.1.1)\n",
      "Requirement already satisfied: six>=1.7 in /Users/katiecason/opt/anaconda3/lib/python3.8/site-packages (from fiona->geopandas) (1.15.0)\n",
      "Requirement already satisfied: attrs>=17 in /Users/katiecason/opt/anaconda3/lib/python3.8/site-packages (from fiona->geopandas) (19.3.0)\n",
      "Requirement already satisfied: click<8,>=4.0 in /Users/katiecason/opt/anaconda3/lib/python3.8/site-packages (from fiona->geopandas) (7.1.2)\n",
      "Requirement already satisfied: munch in /Users/katiecason/opt/anaconda3/lib/python3.8/site-packages (from fiona->geopandas) (2.5.0)\n",
      "Note: you may need to restart the kernel to use updated packages.\n"
     ]
    }
   ],
   "source": [
    "pip install geopandas"
   ]
  },
  {
   "cell_type": "code",
   "execution_count": 3,
   "metadata": {},
   "outputs": [
    {
     "name": "stdout",
     "output_type": "stream",
     "text": [
      "Requirement already satisfied: osmnx in /Users/katiecason/opt/anaconda3/lib/python3.8/site-packages (0.16.2)\n",
      "Requirement already satisfied: networkx>=2.5 in /Users/katiecason/opt/anaconda3/lib/python3.8/site-packages (from osmnx) (2.5)\n",
      "Requirement already satisfied: matplotlib>=3.3 in /Users/katiecason/opt/anaconda3/lib/python3.8/site-packages (from osmnx) (3.3.3)\n",
      "Requirement already satisfied: geopandas>=0.8 in /Users/katiecason/opt/anaconda3/lib/python3.8/site-packages (from osmnx) (0.8.1)\n",
      "Requirement already satisfied: pyproj>=2.6 in /Users/katiecason/opt/anaconda3/lib/python3.8/site-packages (from osmnx) (3.0.0.post1)\n",
      "Requirement already satisfied: numpy>=1.19 in /Users/katiecason/opt/anaconda3/lib/python3.8/site-packages (from osmnx) (1.19.4)\n",
      "Requirement already satisfied: requests>=2.24 in /Users/katiecason/opt/anaconda3/lib/python3.8/site-packages (from osmnx) (2.24.0)\n",
      "Requirement already satisfied: pandas>=1.1 in /Users/katiecason/opt/anaconda3/lib/python3.8/site-packages (from osmnx) (1.1.4)\n",
      "Requirement already satisfied: Rtree>=0.9 in /Users/katiecason/opt/anaconda3/lib/python3.8/site-packages (from osmnx) (0.9.4)\n",
      "Requirement already satisfied: descartes>=1.1 in /Users/katiecason/opt/anaconda3/lib/python3.8/site-packages (from osmnx) (1.1.0)\n",
      "Requirement already satisfied: Shapely>=1.7 in /Users/katiecason/opt/anaconda3/lib/python3.8/site-packages (from osmnx) (1.7.1)\n",
      "Requirement already satisfied: decorator>=4.3.0 in /Users/katiecason/opt/anaconda3/lib/python3.8/site-packages (from networkx>=2.5->osmnx) (4.4.2)\n",
      "Requirement already satisfied: pillow>=6.2.0 in /Users/katiecason/opt/anaconda3/lib/python3.8/site-packages (from matplotlib>=3.3->osmnx) (7.2.0)\n",
      "Requirement already satisfied: python-dateutil>=2.1 in /Users/katiecason/opt/anaconda3/lib/python3.8/site-packages (from matplotlib>=3.3->osmnx) (2.8.1)\n",
      "Requirement already satisfied: pyparsing!=2.0.4,!=2.1.2,!=2.1.6,>=2.0.3 in /Users/katiecason/opt/anaconda3/lib/python3.8/site-packages (from matplotlib>=3.3->osmnx) (2.4.7)\n",
      "Requirement already satisfied: cycler>=0.10 in /Users/katiecason/opt/anaconda3/lib/python3.8/site-packages (from matplotlib>=3.3->osmnx) (0.10.0)\n",
      "Requirement already satisfied: kiwisolver>=1.0.1 in /Users/katiecason/opt/anaconda3/lib/python3.8/site-packages (from matplotlib>=3.3->osmnx) (1.2.0)\n",
      "Requirement already satisfied: fiona in /Users/katiecason/opt/anaconda3/lib/python3.8/site-packages (from geopandas>=0.8->osmnx) (1.8.18)\n",
      "Requirement already satisfied: certifi in /Users/katiecason/opt/anaconda3/lib/python3.8/site-packages (from pyproj>=2.6->osmnx) (2020.6.20)\n",
      "Requirement already satisfied: chardet<4,>=3.0.2 in /Users/katiecason/opt/anaconda3/lib/python3.8/site-packages (from requests>=2.24->osmnx) (3.0.4)\n",
      "Requirement already satisfied: urllib3!=1.25.0,!=1.25.1,<1.26,>=1.21.1 in /Users/katiecason/opt/anaconda3/lib/python3.8/site-packages (from requests>=2.24->osmnx) (1.25.9)\n",
      "Requirement already satisfied: idna<3,>=2.5 in /Users/katiecason/opt/anaconda3/lib/python3.8/site-packages (from requests>=2.24->osmnx) (2.10)\n",
      "Requirement already satisfied: pytz>=2017.2 in /Users/katiecason/opt/anaconda3/lib/python3.8/site-packages (from pandas>=1.1->osmnx) (2020.1)\n",
      "Requirement already satisfied: setuptools in /Users/katiecason/opt/anaconda3/lib/python3.8/site-packages (from Rtree>=0.9->osmnx) (49.2.0.post20200714)\n",
      "Requirement already satisfied: six>=1.5 in /Users/katiecason/opt/anaconda3/lib/python3.8/site-packages (from python-dateutil>=2.1->matplotlib>=3.3->osmnx) (1.15.0)\n",
      "Requirement already satisfied: cligj>=0.5 in /Users/katiecason/opt/anaconda3/lib/python3.8/site-packages (from fiona->geopandas>=0.8->osmnx) (0.7.1)\n",
      "Requirement already satisfied: click-plugins>=1.0 in /Users/katiecason/opt/anaconda3/lib/python3.8/site-packages (from fiona->geopandas>=0.8->osmnx) (1.1.1)\n",
      "Requirement already satisfied: attrs>=17 in /Users/katiecason/opt/anaconda3/lib/python3.8/site-packages (from fiona->geopandas>=0.8->osmnx) (19.3.0)\n",
      "Requirement already satisfied: munch in /Users/katiecason/opt/anaconda3/lib/python3.8/site-packages (from fiona->geopandas>=0.8->osmnx) (2.5.0)\n",
      "Requirement already satisfied: click<8,>=4.0 in /Users/katiecason/opt/anaconda3/lib/python3.8/site-packages (from fiona->geopandas>=0.8->osmnx) (7.1.2)\n",
      "Note: you may need to restart the kernel to use updated packages.\n"
     ]
    }
   ],
   "source": [
    "pip install osmnx"
   ]
  },
  {
   "cell_type": "code",
   "execution_count": 4,
   "metadata": {},
   "outputs": [],
   "source": [
    "# geography\n",
    "import geopandas as gpd\n",
    "import osmnx as ox"
   ]
  },
  {
   "cell_type": "markdown",
   "metadata": {},
   "source": [
    "#### Step 2: Define working directories"
   ]
  },
  {
   "cell_type": "code",
   "execution_count": 5,
   "metadata": {},
   "outputs": [],
   "source": [
    "in_dir_cnty = \"/Users/katiecason/Desktop/207_folder/w207_finalproject/\"\n",
    "in_dir = \"/Users/katiecason/Desktop/207_folder/w207_finalproject/\""
   ]
  },
  {
   "cell_type": "code",
   "execution_count": 6,
   "metadata": {},
   "outputs": [],
   "source": [
    "os.chdir(in_dir)"
   ]
  },
  {
   "cell_type": "markdown",
   "metadata": {},
   "source": [
    "#### Step 3: Define functions"
   ]
  },
  {
   "cell_type": "markdown",
   "metadata": {},
   "source": [
    "``read data``"
   ]
  },
  {
   "cell_type": "code",
   "execution_count": 9,
   "metadata": {},
   "outputs": [],
   "source": [
    "def read_osmnx_geom():\n",
    "    \"\"\" Read osmnx (lat, lon) coordinates for California counties\n",
    "    parameters:\n",
    "    -----------\n",
    "    None\n",
    "    \n",
    "    return:\n",
    "    -------\n",
    "    Df with osmnx_geom\n",
    "    \"\"\"\n",
    "    ### Step 1 ### \n",
    "    ##############\n",
    "    # Grab the name and code for each county in California\n",
    "    for file in os.listdir(in_dir_cnty):\n",
    "        if file.startswith('data_selection'):\n",
    "            cnty = pd.read_excel(os.path.join(in_dir_cnty, file),'County_names', skiprows=1)\n",
    "\n",
    "    # keep only cols of interest\n",
    "    cnty = cnty[['county_code', 'county_name']]\n",
    "    \n",
    "    ### Step 2 ###\n",
    "    ###############\n",
    "    # For each county extract osmnx polygon with (lat, lon) info\n",
    "    osmnx_geom = pd.DataFrame()\n",
    "    for idx, cnty_name in enumerate(cnty.county_name.values):\n",
    "        # extract multipoly counties\n",
    "        if cnty_name in [\"San Francisco\", \"Santa Barbara\", \"Ventura\", \"Napa\"]:\n",
    "            for multipoly in ox.geocode_to_gdf(cnty_name + ', California, USA').geometry:\n",
    "                #print(multipoly)\n",
    "                for poly in multipoly:\n",
    "                    temp_xy = poly.exterior.coords.xy\n",
    "                    temp_xy_df = pd.DataFrame({'latitude': temp_xy[1], 'longitude': temp_xy[0], 'county_name': cnty_name})\n",
    "                    osmnx_geom = pd.concat([osmnx_geom, temp_xy_df], axis=0)\n",
    "        # extract poly counties\n",
    "        if cnty_name in ['Glenn', 'Imperial']:\n",
    "            for poly in ox.geocode_to_gdf(cnty_name + ', California, USA').geometry:     \n",
    "                # extract lat, lon info\n",
    "                temp_xy = poly.exterior.coords.xy\n",
    "                # transform to df\n",
    "                temp_xy_df = pd.DataFrame({'latitude': temp_xy[1], 'longitude': temp_xy[0], 'county_name': cnty_name})      \n",
    "                osmnx_geom = pd.concat([osmnx_geom, temp_xy_df], axis=0)\n",
    "\n",
    "    # round (lat, lon) to 2 decimal points and add 0.005 to match the UW (lat, lon) values\n",
    "    osmnx_geom['latitude'] = osmnx_geom.latitude.round(2) + 0.005\n",
    "    osmnx_geom['longitude'] = osmnx_geom.longitude.round(2) + 0.005\n",
    "    osmnx_geom.sort_values(by=['latitude', 'longitude'], inplace=True)\n",
    "    osmnx_geom.drop_duplicates(subset=['latitude', 'longitude'], inplace=True)\n",
    "\n",
    "    # Add county code to osmnx_geom\n",
    "    osmnx_geom = osmnx_geom.merge(cnty, on='county_name', how='left')\n",
    "    \n",
    "    return osmnx_geom"
   ]
  },
  {
   "cell_type": "code",
   "execution_count": 10,
   "metadata": {},
   "outputs": [],
   "source": [
    "def read_uw_pm25(osmnx_geom):\n",
    "    \"\"\"Read UW pm25 data\n",
    "    parameters:\n",
    "    -----------\n",
    "    osmnx_geom: df, contains osmnx_geom and county name/code\n",
    "    \n",
    "    return:\n",
    "    df with pm25 values by year and county in California\n",
    "    \"\"\"\n",
    "    df = pd.DataFrame()\n",
    "    \n",
    "    for idx, file in enumerate(os.listdir(in_dir)):\n",
    "        if file.endswith('.h5'):\n",
    "            # read data\n",
    "            f = h5py.File(os.path.join(in_dir, file), 'r')\n",
    "            # read latitude\n",
    "            row_index = f['latitude']\n",
    "            row_index = pd.DataFrame(row_index, columns=['latitude'])\n",
    "            # read longitude\n",
    "            col_index = f['longitude']\n",
    "            col_index = pd.DataFrame(col_index, columns = ['longitude'])\n",
    "            # read pm25 (divide by 100 as indicated here: https://zenodo.org/record/2616769#.X4999NBKg4c)\n",
    "            pm25 = f['CorrectedPM2.5']\n",
    "            pm25 = pd.DataFrame(pm25)/100\n",
    "\n",
    "            # add col and row index to pm25_df\n",
    "            pm25.set_index(row_index.latitude.values, inplace=True)\n",
    "            pm25.columns = col_index.longitude.values\n",
    "            pm25.reset_index(drop=False, inplace=True)\n",
    "            pm25.rename(columns={'index':'latitude'}, inplace=True)\n",
    "\n",
    "            # melt pm25_df\n",
    "            pm25 = pd.melt(pm25, id_vars='latitude', var_name='longitude', value_vars=col_index.longitude.values, value_name='pm25')\n",
    "            pm25.sort_values(by=['latitude', 'longitude'], inplace=True)\n",
    "\n",
    "            # set lat and lon to 3 decimals\n",
    "            pm25['latitude'] = pm25.latitude.round(3)\n",
    "            pm25['longitude'] = pm25.longitude.astype(float).round(3)\n",
    "\n",
    "            # add year column\n",
    "            pm25['year'] = file[:4]\n",
    "\n",
    "            # merge with osmnx_geom\n",
    "            pm25 = osmnx_geom.merge(pm25, on=['latitude', 'longitude'], how='inner')\n",
    "\n",
    "            # group by county and year\n",
    "            pm25 = pm25.groupby(['county_name', 'county_code', 'year'], as_index=False).agg({'pm25': np.mean})\n",
    "\n",
    "            # add year and cnty column\n",
    "            pm25['year_cnty'] = pm25.year.astype(str) + '.0_' + pm25.county_code.astype(str) + '.0'\n",
    "\n",
    "            # append to df\n",
    "            df = pd.concat([df, pm25], axis=0)\n",
    "\n",
    "    return df"
   ]
  },
  {
   "cell_type": "markdown",
   "metadata": {},
   "source": [
    "#### Step 4: Read data"
   ]
  },
  {
   "cell_type": "code",
   "execution_count": 11,
   "metadata": {},
   "outputs": [
    {
     "ename": "UnboundLocalError",
     "evalue": "local variable 'cnty' referenced before assignment",
     "output_type": "error",
     "traceback": [
      "\u001b[0;31m---------------------------------------------------------------------------\u001b[0m",
      "\u001b[0;31mUnboundLocalError\u001b[0m                         Traceback (most recent call last)",
      "\u001b[0;32m<ipython-input-11-a89d5cff6d03>\u001b[0m in \u001b[0;36m<module>\u001b[0;34m\u001b[0m\n\u001b[0;32m----> 1\u001b[0;31m \u001b[0mosmnx_geom\u001b[0m \u001b[0;34m=\u001b[0m \u001b[0mread_osmnx_geom\u001b[0m\u001b[0;34m(\u001b[0m\u001b[0;34m)\u001b[0m\u001b[0;34m\u001b[0m\u001b[0;34m\u001b[0m\u001b[0m\n\u001b[0m",
      "\u001b[0;32m<ipython-input-9-77e478651c43>\u001b[0m in \u001b[0;36mread_osmnx_geom\u001b[0;34m()\u001b[0m\n\u001b[1;32m     17\u001b[0m \u001b[0;34m\u001b[0m\u001b[0m\n\u001b[1;32m     18\u001b[0m     \u001b[0;31m# keep only cols of interest\u001b[0m\u001b[0;34m\u001b[0m\u001b[0;34m\u001b[0m\u001b[0;34m\u001b[0m\u001b[0m\n\u001b[0;32m---> 19\u001b[0;31m     \u001b[0mcnty\u001b[0m \u001b[0;34m=\u001b[0m \u001b[0mcnty\u001b[0m\u001b[0;34m[\u001b[0m\u001b[0;34m[\u001b[0m\u001b[0;34m'county_code'\u001b[0m\u001b[0;34m,\u001b[0m \u001b[0;34m'county_name'\u001b[0m\u001b[0;34m]\u001b[0m\u001b[0;34m]\u001b[0m\u001b[0;34m\u001b[0m\u001b[0;34m\u001b[0m\u001b[0m\n\u001b[0m\u001b[1;32m     20\u001b[0m \u001b[0;34m\u001b[0m\u001b[0m\n\u001b[1;32m     21\u001b[0m     \u001b[0;31m### Step 2 ###\u001b[0m\u001b[0;34m\u001b[0m\u001b[0;34m\u001b[0m\u001b[0;34m\u001b[0m\u001b[0m\n",
      "\u001b[0;31mUnboundLocalError\u001b[0m: local variable 'cnty' referenced before assignment"
     ]
    }
   ],
   "source": [
    "osmnx_geom = read_osmnx_geom()"
   ]
  },
  {
   "cell_type": "code",
   "execution_count": null,
   "metadata": {},
   "outputs": [],
   "source": [
    "df = read_uw_pm25(osmnx_geom)"
   ]
  },
  {
   "cell_type": "code",
   "execution_count": 8,
   "metadata": {},
   "outputs": [
    {
     "data": {
      "text/html": [
       "<div>\n",
       "<style scoped>\n",
       "    .dataframe tbody tr th:only-of-type {\n",
       "        vertical-align: middle;\n",
       "    }\n",
       "\n",
       "    .dataframe tbody tr th {\n",
       "        vertical-align: top;\n",
       "    }\n",
       "\n",
       "    .dataframe thead th {\n",
       "        text-align: right;\n",
       "    }\n",
       "</style>\n",
       "<table border=\"1\" class=\"dataframe\">\n",
       "  <thead>\n",
       "    <tr style=\"text-align: right;\">\n",
       "      <th></th>\n",
       "      <th>county_name</th>\n",
       "      <th>county_code</th>\n",
       "      <th>year</th>\n",
       "      <th>pm25</th>\n",
       "      <th>year_cnty</th>\n",
       "    </tr>\n",
       "  </thead>\n",
       "  <tbody>\n",
       "    <tr>\n",
       "      <th>0</th>\n",
       "      <td>Glenn</td>\n",
       "      <td>11</td>\n",
       "      <td>2016</td>\n",
       "      <td>4.676581</td>\n",
       "      <td>2016.0_11.0</td>\n",
       "    </tr>\n",
       "    <tr>\n",
       "      <th>1</th>\n",
       "      <td>Imperial</td>\n",
       "      <td>13</td>\n",
       "      <td>2016</td>\n",
       "      <td>7.730566</td>\n",
       "      <td>2016.0_13.0</td>\n",
       "    </tr>\n",
       "    <tr>\n",
       "      <th>2</th>\n",
       "      <td>Napa</td>\n",
       "      <td>28</td>\n",
       "      <td>2016</td>\n",
       "      <td>6.742143</td>\n",
       "      <td>2016.0_28.0</td>\n",
       "    </tr>\n",
       "    <tr>\n",
       "      <th>3</th>\n",
       "      <td>San Francisco</td>\n",
       "      <td>38</td>\n",
       "      <td>2016</td>\n",
       "      <td>4.018800</td>\n",
       "      <td>2016.0_38.0</td>\n",
       "    </tr>\n",
       "    <tr>\n",
       "      <th>4</th>\n",
       "      <td>Santa Barbara</td>\n",
       "      <td>42</td>\n",
       "      <td>2016</td>\n",
       "      <td>8.534000</td>\n",
       "      <td>2016.0_42.0</td>\n",
       "    </tr>\n",
       "  </tbody>\n",
       "</table>\n",
       "</div>"
      ],
      "text/plain": [
       "     county_name  county_code  year      pm25    year_cnty\n",
       "0          Glenn           11  2016  4.676581  2016.0_11.0\n",
       "1       Imperial           13  2016  7.730566  2016.0_13.0\n",
       "2           Napa           28  2016  6.742143  2016.0_28.0\n",
       "3  San Francisco           38  2016  4.018800  2016.0_38.0\n",
       "4  Santa Barbara           42  2016  8.534000  2016.0_42.0"
      ]
     },
     "execution_count": 8,
     "metadata": {},
     "output_type": "execute_result"
    }
   ],
   "source": [
    "df.head()"
   ]
  },
  {
   "cell_type": "code",
   "execution_count": 9,
   "metadata": {},
   "outputs": [],
   "source": [
    "df.sort_values(by=['county_name', 'year'], inplace=True)"
   ]
  },
  {
   "cell_type": "code",
   "execution_count": 10,
   "metadata": {},
   "outputs": [],
   "source": [
    "df.to_csv(in_dir + 'UW_pm25.csv')"
   ]
  }
 ],
 "metadata": {
  "kernelspec": {
   "display_name": "Python 3",
   "language": "python",
   "name": "python3"
  },
  "language_info": {
   "codemirror_mode": {
    "name": "ipython",
    "version": 3
   },
   "file_extension": ".py",
   "mimetype": "text/x-python",
   "name": "python",
   "nbconvert_exporter": "python",
   "pygments_lexer": "ipython3",
   "version": "3.8.3"
  }
 },
 "nbformat": 4,
 "nbformat_minor": 4
}
